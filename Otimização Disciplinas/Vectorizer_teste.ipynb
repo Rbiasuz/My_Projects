{
 "cells": [
  {
   "cell_type": "markdown",
   "metadata": {},
   "source": [
    "**TESTE USANDO UM MÉTODO DE VETORIZAÇÃO DA BIBLIOTECA SKLEARN**"
   ]
  },
  {
   "cell_type": "code",
   "execution_count": 1,
   "metadata": {},
   "outputs": [],
   "source": [
    "#Import de bibliotecas\n",
    "import numpy as np\n",
    "import pandas as pd\n",
    "import matplotlib.pyplot as plt"
   ]
  },
  {
   "cell_type": "code",
   "execution_count": 2,
   "metadata": {},
   "outputs": [],
   "source": [
    "import nltk\n",
    "import string\n",
    "from nltk.corpus import stopwords"
   ]
  },
  {
   "cell_type": "code",
   "execution_count": 3,
   "metadata": {},
   "outputs": [],
   "source": [
    "import seaborn as sns"
   ]
  },
  {
   "cell_type": "code",
   "execution_count": 4,
   "metadata": {},
   "outputs": [],
   "source": [
    "from sklearn.feature_extraction.text import CountVectorizer"
   ]
  },
  {
   "cell_type": "code",
   "execution_count": 5,
   "metadata": {},
   "outputs": [],
   "source": [
    "from sklearn.feature_extraction.text import TfidfTransformer"
   ]
  },
  {
   "cell_type": "code",
   "execution_count": 6,
   "metadata": {},
   "outputs": [],
   "source": [
    "from sklearn.feature_extraction.text import TfidfVectorizer"
   ]
  },
  {
   "cell_type": "markdown",
   "metadata": {},
   "source": [
    "**DEFININDO UM MÉTODO QUE VAI REMOVER A PONTUAÇÃO E REMOVER AS PALAVRAS IRRELEVANTES**"
   ]
  },
  {
   "cell_type": "code",
   "execution_count": 7,
   "metadata": {},
   "outputs": [],
   "source": [
    "def test_process(mess):\n",
    "    nopunc = [char for char in mess if char not in string.punctuation]\n",
    "    nopunc = ''.join(nopunc)\n",
    "    sms = [word for word in nopunc.split() if word.lower() not in stopwords.words('portuguese')]\n",
    "    return sms"
   ]
  },
  {
   "cell_type": "code",
   "execution_count": 8,
   "metadata": {},
   "outputs": [],
   "source": [
    "#Leitura da base usada no teste\n",
    "df = pd.read_excel('Base_teste.xlsx')"
   ]
  },
  {
   "cell_type": "markdown",
   "metadata": {},
   "source": [
    "**BOW = BAG OF WORDS - Uma matriz onde cada linha corresponde a uma ementa e cada coluna a uma das palavras do total de palavras de todas as ementas!!**"
   ]
  },
  {
   "cell_type": "code",
   "execution_count": 9,
   "metadata": {},
   "outputs": [],
   "source": [
    "bow = CountVectorizer(analyzer=test_process).fit(df['Ementa'])"
   ]
  },
  {
   "cell_type": "code",
   "execution_count": 10,
   "metadata": {},
   "outputs": [
    {
     "name": "stdout",
     "output_type": "stream",
     "text": [
      "268\n"
     ]
    }
   ],
   "source": [
    "print(len(bow.vocabulary_))"
   ]
  },
  {
   "cell_type": "code",
   "execution_count": 11,
   "metadata": {},
   "outputs": [],
   "source": [
    "ementabow = bow.transform(df['Ementa'])"
   ]
  },
  {
   "cell_type": "code",
   "execution_count": 12,
   "metadata": {},
   "outputs": [
    {
     "name": "stdout",
     "output_type": "stream",
     "text": [
      "(21, 268)\n"
     ]
    }
   ],
   "source": [
    "print(ementabow.shape)"
   ]
  },
  {
   "cell_type": "code",
   "execution_count": 13,
   "metadata": {},
   "outputs": [],
   "source": [
    "# Tamanho da matriz: 21 (ementas) por 268 (palavras únicas)"
   ]
  },
  {
   "cell_type": "code",
   "execution_count": 14,
   "metadata": {},
   "outputs": [],
   "source": [
    "Tdidf = TfidfTransformer()"
   ]
  },
  {
   "cell_type": "code",
   "execution_count": 15,
   "metadata": {},
   "outputs": [],
   "source": [
    "Tdidfementa = Tdidf.fit(ementabow)"
   ]
  },
  {
   "cell_type": "code",
   "execution_count": 16,
   "metadata": {},
   "outputs": [],
   "source": [
    "ementavetor = Tdidf.transform(ementabow)"
   ]
  },
  {
   "cell_type": "markdown",
   "metadata": {},
   "source": [
    "**Vetorização e mais um pequeno teste**"
   ]
  },
  {
   "cell_type": "code",
   "execution_count": 17,
   "metadata": {},
   "outputs": [],
   "source": [
    "vectorizer = TfidfVectorizer(tokenizer=test_process)"
   ]
  },
  {
   "cell_type": "code",
   "execution_count": 18,
   "metadata": {},
   "outputs": [],
   "source": [
    "def cosine_sim(text1, text2):\n",
    "    tfidf = vectorizer.fit_transform([text1, text2])\n",
    "    return ((tfidf * tfidf.T).A)[0,1]"
   ]
  },
  {
   "cell_type": "code",
   "execution_count": 19,
   "metadata": {},
   "outputs": [],
   "source": [
    "a = 'Esse texto é pouco parecido com o outros'\n",
    "b = 'Matemática e ensino das ciencias aplicadas para alunos do ensino escolar básico'\n",
    "c = 'Ensino nas escolas'\n",
    "d = 'Matemática no ensino médio'\n",
    "e = 'Esse aqui não é nada'"
   ]
  },
  {
   "cell_type": "code",
   "execution_count": 20,
   "metadata": {},
   "outputs": [
    {
     "name": "stdout",
     "output_type": "stream",
     "text": [
      "Esse texto é pouco parecido com o outros <<com>> Esse texto é pouco parecido com o outros\n",
      "0.9999999999999999\n",
      "Esse texto é pouco parecido com o outros <<com>> Matemática e ensino das ciencias aplicadas para alunos do ensino escolar básico\n",
      "0.0\n",
      "Esse texto é pouco parecido com o outros <<com>> Ensino nas escolas\n",
      "0.0\n",
      "Esse texto é pouco parecido com o outros <<com>> Matemática no ensino médio\n",
      "0.0\n",
      "Esse texto é pouco parecido com o outros <<com>> Esse aqui não é nada\n",
      "0.15064018498706508\n",
      "Matemática e ensino das ciencias aplicadas para alunos do ensino escolar básico <<com>> Esse texto é pouco parecido com o outros\n",
      "0.0\n",
      "Matemática e ensino das ciencias aplicadas para alunos do ensino escolar básico <<com>> Matemática e ensino das ciencias aplicadas para alunos do ensino escolar básico\n",
      "0.9999999999999999\n",
      "Matemática e ensino das ciencias aplicadas para alunos do ensino escolar básico <<com>> Ensino nas escolas\n",
      "0.29121941856368966\n",
      "Matemática e ensino das ciencias aplicadas para alunos do ensino escolar básico <<com>> Matemática no ensino médio\n",
      "0.3901052651831878\n",
      "Matemática e ensino das ciencias aplicadas para alunos do ensino escolar básico <<com>> Esse aqui não é nada\n",
      "0.0\n",
      "Ensino nas escolas <<com>> Esse texto é pouco parecido com o outros\n",
      "0.0\n",
      "Ensino nas escolas <<com>> Matemática e ensino das ciencias aplicadas para alunos do ensino escolar básico\n",
      "0.29121941856368966\n",
      "Ensino nas escolas <<com>> Ensino nas escolas\n",
      "0.9999999999999998\n",
      "Ensino nas escolas <<com>> Matemática no ensino médio\n",
      "0.2605556710562624\n",
      "Ensino nas escolas <<com>> Esse aqui não é nada\n",
      "0.0\n",
      "Matemática no ensino médio <<com>> Esse texto é pouco parecido com o outros\n",
      "0.0\n",
      "Matemática no ensino médio <<com>> Matemática e ensino das ciencias aplicadas para alunos do ensino escolar básico\n",
      "0.3901052651831878\n",
      "Matemática no ensino médio <<com>> Ensino nas escolas\n",
      "0.2605556710562624\n",
      "Matemática no ensino médio <<com>> Matemática no ensino médio\n",
      "1.0000000000000002\n",
      "Matemática no ensino médio <<com>> Esse aqui não é nada\n",
      "0.0\n",
      "Esse aqui não é nada <<com>> Esse texto é pouco parecido com o outros\n",
      "0.15064018498706508\n",
      "Esse aqui não é nada <<com>> Matemática e ensino das ciencias aplicadas para alunos do ensino escolar básico\n",
      "0.0\n",
      "Esse aqui não é nada <<com>> Ensino nas escolas\n",
      "0.0\n",
      "Esse aqui não é nada <<com>> Matemática no ensino médio\n",
      "0.0\n",
      "Esse aqui não é nada <<com>> Esse aqui não é nada\n",
      "1.0000000000000002\n"
     ]
    }
   ],
   "source": [
    "lista = [a, b, c, d, e]\n",
    "for x in lista:\n",
    "    for y in lista:\n",
    "        print(x, '<<com>>',y)\n",
    "        print(cosine_sim(x,y))"
   ]
  },
  {
   "cell_type": "code",
   "execution_count": 21,
   "metadata": {},
   "outputs": [],
   "source": [
    "matrizfinal = np.zeros(shape=(len(df),len(df)))\n",
    "matrizcont = 0"
   ]
  },
  {
   "cell_type": "markdown",
   "metadata": {},
   "source": [
    "**Criação da matriz com os dados de teste**"
   ]
  },
  {
   "cell_type": "code",
   "execution_count": 22,
   "metadata": {},
   "outputs": [],
   "source": [
    "for x in range(len(df)):\n",
    "    for y in range(x,len(df)):\n",
    "        matrizfinal[x][y]= cosine_sim(df.iloc[x][1], df.iloc[y][1])\n",
    "        if matrizfinal[x][y] > 0.75 and x != y and matrizfinal[x][y] < 0.999:\n",
    "            matrizcont +=1\n"
   ]
  },
  {
   "cell_type": "code",
   "execution_count": 23,
   "metadata": {},
   "outputs": [
    {
     "name": "stdout",
     "output_type": "stream",
     "text": [
      "4\n"
     ]
    }
   ],
   "source": [
    "print(matrizcont)"
   ]
  },
  {
   "cell_type": "code",
   "execution_count": 24,
   "metadata": {},
   "outputs": [],
   "source": [
    "resultado = pd.DataFrame(matrizfinal)\n",
    "resultado.to_csv(\"vectorizer_Teste.csv\", header=None, index=None)"
   ]
  },
  {
   "cell_type": "markdown",
   "metadata": {},
   "source": [
    "**Visualizando alguns dados**"
   ]
  },
  {
   "cell_type": "code",
   "execution_count": 40,
   "metadata": {},
   "outputs": [
    {
     "data": {
      "image/png": "[encoded data removed]",
      "text/plain": [
       "<Figure size 504x288 with 2 Axes>"
      ]
     },
     "metadata": {},
     "output_type": "display_data"
    }
   ],
   "source": [
    "A = np.asarray(resultado)\n",
    "x,y = A.nonzero()\n",
    "\n",
    "plt.figure(figsize=(7,4))\n",
    "plt.scatter(x,y,c=A[x,y],s=8,cmap='rainbow',marker='*') \n",
    "plt.colorbar()\n",
    "\n",
    "plt.show()"
   ]
  },
  {
   "cell_type": "code",
   "execution_count": 30,
   "metadata": {},
   "outputs": [
    {
     "name": "stdout",
     "output_type": "stream",
     "text": [
      "Encontrou as disciplinas:\n",
      "Direito do Trabalho               Direito e Legislação Social\n",
      "0.4754193685286694\n",
      "###\n",
      "Encontrou as disciplinas:\n",
      "Estatística Aplicada às Ciências Sociais               Probabilidade e Estatística\n",
      "0.8037311277734123\n",
      "###\n",
      "Encontrou as disciplinas:\n",
      "Estatística Aplicada               Estatística I\n",
      "0.9201673501827025\n",
      "###\n",
      "Encontrou as disciplinas:\n",
      "Métodos Estatísticos               Probabilidade e Estatística\n",
      "0.6090461303795285\n",
      "###\n",
      "Encontrou as disciplinas:\n",
      "Métodos Estatísticos               Estatística Aplicada às Ciências Sociais\n",
      "0.5505148815949558\n",
      "###\n",
      "Encontrou as disciplinas:\n",
      "Probabilidade e Estatística para Licenciatura               Probabilidade e Estatística\n",
      "0.8831282039194522\n",
      "###\n",
      "Encontrou as disciplinas:\n",
      "Probabilidade e Estatística para Licenciatura               Estatística Aplicada às Ciências Sociais\n",
      "0.828785793956999\n",
      "###\n",
      "Encontrou as disciplinas:\n",
      "Probabilidade e Estatística para Licenciatura               Métodos Estatísticos\n",
      "0.5452535979648305\n",
      "###\n"
     ]
    }
   ],
   "source": [
    "for x in range(len(resultado)):\n",
    "    for y in range(len(resultado)):\n",
    "        if resultado[x][y] > 0.45 and x != y and matrizfinal[x][y] < 0.999:\n",
    "            print('Encontrou as disciplinas:')\n",
    "            print(df.iloc[x][0],\"             \", df.iloc[y][0])\n",
    "            print(resultado[x][y])\n",
    "            print('###')"
   ]
  }
 ],
 "metadata": {
  "kernelspec": {
   "display_name": "Python 3",
   "language": "python",
   "name": "python3"
  },
  "language_info": {
   "codemirror_mode": {
    "name": "ipython",
    "version": 3
   },
   "file_extension": ".py",
   "mimetype": "text/x-python",
   "name": "python",
   "nbconvert_exporter": "python",
   "pygments_lexer": "ipython3",
   "version": "3.6.5"
  }
 },
 "nbformat": 4,
 "nbformat_minor": 2
}
