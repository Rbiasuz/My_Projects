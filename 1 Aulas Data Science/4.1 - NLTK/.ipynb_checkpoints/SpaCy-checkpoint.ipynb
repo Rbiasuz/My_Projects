{
 "cells": [
  {
   "cell_type": "code",
   "execution_count": null,
   "metadata": {},
   "outputs": [],
   "source": [
    "!pip install https://github.com/explosion/spacy-models/releases/download/en_core_web_sm-2.0.0/en_core_web_sm-2.0.0.tar.gz --no-deps"
   ]
  },
  {
   "cell_type": "code",
   "execution_count": 1,
   "metadata": {},
   "outputs": [],
   "source": [
    "import spacy"
   ]
  },
  {
   "cell_type": "code",
   "execution_count": 18,
   "metadata": {},
   "outputs": [
    {
     "ename": "SyntaxError",
     "evalue": "EOL while scanning string literal (<ipython-input-18-475a64b5bb95>, line 1)",
     "output_type": "error",
     "traceback": [
      "\u001b[1;36m  File \u001b[1;32m\"<ipython-input-18-475a64b5bb95>\"\u001b[1;36m, line \u001b[1;32m1\u001b[0m\n\u001b[1;33m    nlp = spacy.load(r'mklink /j  %LOCALAPPDATA%\\Programs\\Python\\Python36\\lib\\site-packages\\spacy\\data\\en %LOCALAPPDATA%\\Programs\\Python\\Python36\\lib\\site-packages\\en_core_web_sm\u001b[0m\n\u001b[1;37m                                                                                                                                                                                  ^\u001b[0m\n\u001b[1;31mSyntaxError\u001b[0m\u001b[1;31m:\u001b[0m EOL while scanning string literal\n"
     ]
    }
   ],
   "source": [
    "nlp = spacy.load(r'en_core_web_sm')"
   ]
  },
  {
   "cell_type": "code",
   "execution_count": 23,
   "metadata": {},
   "outputs": [
    {
     "name": "stderr",
     "output_type": "stream",
     "text": [
      "O sistema nÆo pode encontrar o caminho especificado.\n"
     ]
    }
   ],
   "source": [
    "!mklink /j  %LOCALAPPDATA%\\Programs\\Python\\Python36\\lib\\site-packages\\spacy\\data\\en %LOCALAPPDATA%\\Programs\\Python\\Python36\\lib\\site-packages\\en_core_web_sm\n"
   ]
  }
 ],
 "metadata": {
  "kernelspec": {
   "display_name": "Python 3",
   "language": "python",
   "name": "python3"
  },
  "language_info": {
   "codemirror_mode": {
    "name": "ipython",
    "version": 3
   },
   "file_extension": ".py",
   "mimetype": "text/x-python",
   "name": "python",
   "nbconvert_exporter": "python",
   "pygments_lexer": "ipython3",
   "version": "3.7.3"
  }
 },
 "nbformat": 4,
 "nbformat_minor": 2
}
