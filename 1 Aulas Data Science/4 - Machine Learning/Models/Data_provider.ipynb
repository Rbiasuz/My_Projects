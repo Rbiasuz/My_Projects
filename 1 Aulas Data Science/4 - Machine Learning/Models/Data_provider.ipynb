{
 "cells": [
  {
   "cell_type": "code",
   "execution_count": 20,
   "metadata": {},
   "outputs": [],
   "source": [
    "import numpy as np\n",
    "import matplotlib.pyplot as plt\n",
    "import pandas as pd"
   ]
  },
  {
   "cell_type": "code",
   "execution_count": 208,
   "metadata": {},
   "outputs": [],
   "source": [
    "np.random.seed(3546)\n",
    "x = 15 * np.random.rand(60)\n",
    "y =  0.2 * (x ** 4) - 0.3 * (x ** 2) - 0.3 * (x ** 3) + np.random.rand(60) * 2000 + 3000 -4 * x + np.log(x)*1000\n"
   ]
  },
  {
   "cell_type": "code",
   "execution_count": 209,
   "metadata": {},
   "outputs": [
    {
     "data": {
      "text/plain": [
       "<matplotlib.collections.PathCollection at 0x1f4df632630>"
      ]
     },
     "execution_count": 209,
     "metadata": {},
     "output_type": "execute_result"
    },
    {
     "data": {
      "image/png": "[encoded data removed]",
      "text/plain": [
       "<Figure size 432x288 with 1 Axes>"
      ]
     },
     "metadata": {
      "needs_background": "light"
     },
     "output_type": "display_data"
    }
   ],
   "source": [
    "plt.scatter(x,y)"
   ]
  },
  {
   "cell_type": "code",
   "execution_count": 139,
   "metadata": {},
   "outputs": [],
   "source": [
    "df = pd.DataFrame({'x': x, 'y':y})"
   ]
  },
  {
   "cell_type": "code",
   "execution_count": 210,
   "metadata": {},
   "outputs": [
    {
     "data": {
      "text/plain": [
       "array([11.36,  1.29,  5.27, 13.89,  0.21,  8.  , 10.29, 12.25, 14.39,\n",
       "        9.6 ,  7.75, 14.64,  3.46,  3.89, 11.07,  9.9 ,  0.25,  4.9 ,\n",
       "        8.52,  1.67,  1.5 ,  0.67, 14.01,  4.69,  0.21,  6.72, 12.01,\n",
       "       14.75, 11.69,  9.75,  2.08, 11.64,  2.42,  3.69,  6.57, 12.29,\n",
       "        7.83,  6.57, 11.27,  2.11,  6.68,  0.13,  7.31,  6.2 , 10.08,\n",
       "       11.01, 14.44,  3.61,  7.4 ,  8.89, 10.15,  2.3 , 12.99,  2.68,\n",
       "        7.17,  2.02, 12.41, 11.81,  3.55, 10.61])"
      ]
     },
     "execution_count": 210,
     "metadata": {},
     "output_type": "execute_result"
    }
   ],
   "source": [
    "x.round(2)"
   ]
  },
  {
   "cell_type": "code",
   "execution_count": 211,
   "metadata": {},
   "outputs": [
    {
     "data": {
      "text/plain": [
       "array([ 9087.73,  4994.7 ,  5483.77, 13508.95,  1692.46,  6806.3 ,\n",
       "        8244.79, 10308.94, 14152.21,  6717.72,  5618.43, 14687.09,\n",
       "        6010.87,  5324.39,  9845.87,  8029.47,  2023.07,  4750.37,\n",
       "        6628.35,  3744.72,  3609.37,  4323.44, 13135.05,  4760.46,\n",
       "        1841.81,  6149.42, 10323.89, 14851.26,  8813.53,  7088.43,\n",
       "        5659.66, 10530.7 ,  5214.02,  6219.22,  6429.17,  9891.96,\n",
       "        7559.23,  6856.5 ,  9249.24,  4134.86,  6779.71,  1972.39,\n",
       "        6046.36,  5347.63,  8470.98,  9515.96, 13779.48,  4758.31,\n",
       "        5521.61,  6510.24,  8487.34,  4841.86, 10795.48,  5042.85,\n",
       "        6865.25,  4256.81, 10043.24, 10736.47,  4703.47,  9262.67])"
      ]
     },
     "execution_count": 211,
     "metadata": {},
     "output_type": "execute_result"
    }
   ],
   "source": [
    "y.round(2)"
   ]
  },
  {
   "cell_type": "code",
   "execution_count": null,
   "metadata": {},
   "outputs": [],
   "source": []
  },
  {
   "cell_type": "code",
   "execution_count": 177,
   "metadata": {},
   "outputs": [],
   "source": [
    "np.random.seed(324)\n",
    "x = 12 * np.random.rand(60)\n",
    "y =  2 * x - 8 + np.random.rand(60) * 9"
   ]
  },
  {
   "cell_type": "code",
   "execution_count": 178,
   "metadata": {},
   "outputs": [
    {
     "data": {
      "text/plain": [
       "<matplotlib.collections.PathCollection at 0x1f4dddbba58>"
      ]
     },
     "execution_count": 178,
     "metadata": {},
     "output_type": "execute_result"
    },
    {
     "data": {
      "image/png": "[encoded data removed]",
      "text/plain": [
       "<Figure size 432x288 with 1 Axes>"
      ]
     },
     "metadata": {
      "needs_background": "light"
     },
     "output_type": "display_data"
    }
   ],
   "source": [
    "plt.scatter(x,y)"
   ]
  },
  {
   "cell_type": "code",
   "execution_count": 159,
   "metadata": {},
   "outputs": [
    {
     "data": {
      "text/plain": [
       "array([ 1.73,  9.14,  2.  ,  3.61,  4.91, 12.89,  9.99,  8.12,  0.44,\n",
       "       11.01,  5.92, 12.03,  3.82,  0.85, 13.  ,  3.32,  6.07,  4.74,\n",
       "        1.15, 12.65, 12.73, 14.57,  5.78, 14.32,  6.69, 10.05,  1.24,\n",
       "       13.46,  4.47,  3.93,  0.08,  8.15,  7.13,  9.55, 14.67, 13.63,\n",
       "       13.65,  7.88,  1.56,  2.71, 14.3 ,  6.18, 12.98, 10.08,  9.43,\n",
       "        4.13, 13.45,  3.1 ,  6.07, 14.9 , 11.04,  6.68,  8.41,  6.17,\n",
       "       10.9 ,  5.99, 10.05, 10.57,  9.14,  8.1 ])"
      ]
     },
     "execution_count": 159,
     "metadata": {},
     "output_type": "execute_result"
    }
   ],
   "source": [
    "x.round(2)"
   ]
  },
  {
   "cell_type": "code",
   "execution_count": 160,
   "metadata": {},
   "outputs": [
    {
     "data": {
      "text/plain": [
       "array([ -7.76,  14.4 ,  -1.04,  -1.27,   6.28,  26.66,  16.42,  13.39,\n",
       "       -10.59,  20.45,   8.65,  23.55,   3.93,  -5.24,  30.95,  -4.03,\n",
       "        12.66,   4.26,  -2.55,  24.93,  29.15,  38.37,  12.33,  28.19,\n",
       "         9.87,  18.05, -10.65,  31.07,  -1.54,   2.92,  -6.07,  18.28,\n",
       "        15.95,  21.04,  30.87,  30.24,  34.82,  11.19,  -5.89,  -0.69,\n",
       "        28.92,   8.44,  24.37,  18.36,  20.82,   4.56,  34.77,   2.08,\n",
       "         5.35,  38.76,  23.63,  13.48,  19.45,  11.8 ,  21.66,   8.95,\n",
       "        19.48,  23.65,  17.28,  10.58])"
      ]
     },
     "execution_count": 160,
     "metadata": {},
     "output_type": "execute_result"
    }
   ],
   "source": [
    "y.round(2)"
   ]
  },
  {
   "cell_type": "code",
   "execution_count": null,
   "metadata": {},
   "outputs": [],
   "source": []
  }
 ],
 "metadata": {
  "kernelspec": {
   "display_name": "Python 3",
   "language": "python",
   "name": "python3"
  },
  "language_info": {
   "codemirror_mode": {
    "name": "ipython",
    "version": 3
   },
   "file_extension": ".py",
   "mimetype": "text/x-python",
   "name": "python",
   "nbconvert_exporter": "python",
   "pygments_lexer": "ipython3",
   "version": "3.7.3"
  }
 },
 "nbformat": 4,
 "nbformat_minor": 2
}
