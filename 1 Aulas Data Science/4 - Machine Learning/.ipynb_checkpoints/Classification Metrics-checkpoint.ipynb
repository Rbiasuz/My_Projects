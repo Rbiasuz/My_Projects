{
 "cells": [
  {
   "cell_type": "code",
   "execution_count": 2,
   "metadata": {},
   "outputs": [],
   "source": [
    "import numpy as np\n",
    "from sklearn.metrics import accuracy_score, classification_report, confusion_matrix"
   ]
  },
  {
   "cell_type": "markdown",
   "metadata": {},
   "source": [
    "## Acurácia:\n",
    "\n",
    "#### Certos / Total"
   ]
  },
  {
   "cell_type": "code",
   "execution_count": 6,
   "metadata": {},
   "outputs": [
    {
     "data": {
      "text/plain": [
       "0.8"
      ]
     },
     "execution_count": 6,
     "metadata": {},
     "output_type": "execute_result"
    }
   ],
   "source": [
    "previu_certo = 80\n",
    "previu_errado = 20\n",
    "\n",
    "acuracia = previu_certo/(previu_certo+previu_errado)\n",
    "acuracia"
   ]
  },
  {
   "cell_type": "markdown",
   "metadata": {},
   "source": [
    "# O que é melhor?\n",
    "\n",
    "## Um modelo de predição de cancer que tem 80% de acurácia, ou\n",
    "\n",
    "## Um modelo de predição de cancer que tem 99,60% de acurácia?"
   ]
  },
  {
   "cell_type": "code",
   "execution_count": 10,
   "metadata": {},
   "outputs": [],
   "source": [
    "# Resposta = ..."
   ]
  },
  {
   "cell_type": "code",
   "execution_count": 7,
   "metadata": {},
   "outputs": [],
   "source": [
    "# Problema:\n",
    "\n",
    "pessoas_com_cancer = 20\n",
    "pessoas_sem_cancer = 5000"
   ]
  },
  {
   "cell_type": "code",
   "execution_count": 8,
   "metadata": {},
   "outputs": [
    {
     "data": {
      "text/plain": [
       "0.9960159362549801"
      ]
     },
     "execution_count": 8,
     "metadata": {},
     "output_type": "execute_result"
    }
   ],
   "source": [
    "5000/5020"
   ]
  },
  {
   "cell_type": "code",
   "execution_count": 104,
   "metadata": {},
   "outputs": [],
   "source": [
    "pessoas_sem_cancer = np.zeros(1000)\n",
    "pessoas_com_cancer = np.ones(150)\n",
    "\n",
    "y_test = list(pessoas_com_cancer) + list(pessoas_sem_cancer)"
   ]
  },
  {
   "cell_type": "code",
   "execution_count": 105,
   "metadata": {},
   "outputs": [],
   "source": [
    "y_pred = np.zeros(1150) #Nosso preditor burro"
   ]
  },
  {
   "cell_type": "code",
   "execution_count": 106,
   "metadata": {},
   "outputs": [],
   "source": [
    "a = np.ones(100)\n",
    "b = np.zeros(1150-100-150)\n",
    "c = np.ones(150)\n",
    "y_pred2 = list(a) + list(b) + list(c) # Nosso preditor com menor acurácia"
   ]
  },
  {
   "cell_type": "code",
   "execution_count": 111,
   "metadata": {},
   "outputs": [
    {
     "name": "stdout",
     "output_type": "stream",
     "text": [
      "Acuracidade do modelo: 0.8695652173913043 \n",
      "\n",
      "              precision    recall  f1-score   support\n",
      "\n",
      "         0.0       1.00      0.87      0.93      1150\n",
      "         1.0       0.00      0.00      0.00         0\n",
      "\n",
      "   micro avg       0.87      0.87      0.87      1150\n",
      "   macro avg       0.50      0.43      0.47      1150\n",
      "weighted avg       1.00      0.87      0.93      1150\n",
      "\n",
      "Matriz de Confusão: \n",
      "\n",
      " [[1000  150]\n",
      " [   0    0]]\n"
     ]
    }
   ],
   "source": [
    "print(\"Acuracidade do modelo:\", accuracy_score(y_pred, y_test), '\\n')\n",
    "print(classification_report(y_pred, y_test))\n",
    "print(\"Matriz de Confusão: \\n\\n\",confusion_matrix(y_pred, y_test))"
   ]
  },
  {
   "cell_type": "code",
   "execution_count": 112,
   "metadata": {},
   "outputs": [
    {
     "name": "stdout",
     "output_type": "stream",
     "text": [
      "Acuracidade do modelo: 0.8260869565217391 \n",
      "\n",
      "              precision    recall  f1-score   support\n",
      "\n",
      "         0.0       0.85      0.94      0.89       900\n",
      "         1.0       0.67      0.40      0.50       250\n",
      "\n",
      "   micro avg       0.83      0.83      0.83      1150\n",
      "   macro avg       0.76      0.67      0.70      1150\n",
      "weighted avg       0.81      0.83      0.81      1150\n",
      "\n",
      "Matriz de Confusão: \n",
      "\n",
      " [[850  50]\n",
      " [150 100]]\n"
     ]
    }
   ],
   "source": [
    "print(\"Acuracidade do modelo:\", accuracy_score(y_pred2, y_test), '\\n')\n",
    "print(classification_report(y_pred2, y_test))\n",
    "print(\"Matriz de Confusão: \\n\\n\",confusion_matrix(y_pred2, y_test))"
   ]
  },
  {
   "cell_type": "markdown",
   "metadata": {},
   "source": [
    "## Matriz de Confusão:"
   ]
  },
  {
   "cell_type": "markdown",
   "metadata": {},
   "source": [
    "![metricas](https://miro.medium.com/max/863/1*0exdQRxrXQgIBZdPFIxbTw.png)"
   ]
  }
 ],
 "metadata": {
  "kernelspec": {
   "display_name": "Python 3",
   "language": "python",
   "name": "python3"
  },
  "language_info": {
   "codemirror_mode": {
    "name": "ipython",
    "version": 3
   },
   "file_extension": ".py",
   "mimetype": "text/x-python",
   "name": "python",
   "nbconvert_exporter": "python",
   "pygments_lexer": "ipython3",
   "version": "3.6.8"
  }
 },
 "nbformat": 4,
 "nbformat_minor": 2
}
