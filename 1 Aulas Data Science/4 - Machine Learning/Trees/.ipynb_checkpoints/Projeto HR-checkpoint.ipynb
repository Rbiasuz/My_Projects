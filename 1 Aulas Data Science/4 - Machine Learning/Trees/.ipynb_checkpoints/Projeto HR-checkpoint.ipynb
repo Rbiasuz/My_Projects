{
 "cells": [
  {
   "cell_type": "markdown",
   "metadata": {},
   "source": [
    "# Prevendo Turnover"
   ]
  },
  {
   "cell_type": "markdown",
   "metadata": {},
   "source": [
    "![turn](http://www.kenoby.com/wp-content/uploads/2017/04/1-job-rotation.jpg)"
   ]
  },
  {
   "cell_type": "markdown",
   "metadata": {},
   "source": [
    "## Uma empresa está sofrendo com muitos gastos relacionados a Turnover, sua missão é ajudar a organização a prever possíveis 'saintes' e também encontrar fatores que possam estar levando essas pessoas a sairem da empresa"
   ]
  },
  {
   "cell_type": "markdown",
   "metadata": {},
   "source": [
    "### É esperado três entregas:\n",
    "\n",
    "* Um algoritmo capaz de prever se um funcionário vai sair da empresa com pelo menos 99% de acurácia\n",
    "  * (Considerando que você separe pelo menos 30% dos dados para teste)\n",
    "* Uma Análise exploratória dos dados\n",
    "  * (escolha no máximo 3 gráficos que lhe ajudem a 'contar uma história' sobre a situação atual)\n",
    "* Um modelo de previsão mais simples mas que seja de fácil entendimento pelos gestores"
   ]
  },
  {
   "cell_type": "markdown",
   "metadata": {},
   "source": [
    "# Good Job!\n",
    "\n",
    "![giff](https://media.giphy.com/media/cYA2ClBxQZuiQ/giphy.gif)"
   ]
  }
 ],
 "metadata": {
  "kernelspec": {
   "display_name": "Python 3",
   "language": "python",
   "name": "python3"
  },
  "language_info": {
   "codemirror_mode": {
    "name": "ipython",
    "version": 3
   },
   "file_extension": ".py",
   "mimetype": "text/x-python",
   "name": "python",
   "nbconvert_exporter": "python",
   "pygments_lexer": "ipython3",
   "version": "3.6.8"
  }
 },
 "nbformat": 4,
 "nbformat_minor": 2
}
