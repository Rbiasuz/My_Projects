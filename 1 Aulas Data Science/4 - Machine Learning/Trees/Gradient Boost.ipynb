{
 "cells": [
  {
   "cell_type": "markdown",
   "metadata": {},
   "source": [
    "# GB"
   ]
  },
  {
   "cell_type": "code",
   "execution_count": 8,
   "metadata": {},
   "outputs": [],
   "source": [
    "import pandas as pd\n",
    "import numpy as np\n",
    "import matplotlib.pyplot as plt\n",
    "import seaborn as sns\n",
    "%matplotlib inline"
   ]
  },
  {
   "cell_type": "code",
   "execution_count": 9,
   "metadata": {},
   "outputs": [
    {
     "data": {
      "text/html": [
       "<div>\n",
       "<style scoped>\n",
       "    .dataframe tbody tr th:only-of-type {\n",
       "        vertical-align: middle;\n",
       "    }\n",
       "\n",
       "    .dataframe tbody tr th {\n",
       "        vertical-align: top;\n",
       "    }\n",
       "\n",
       "    .dataframe thead th {\n",
       "        text-align: right;\n",
       "    }\n",
       "</style>\n",
       "<table border=\"1\" class=\"dataframe\">\n",
       "  <thead>\n",
       "    <tr style=\"text-align: right;\">\n",
       "      <th></th>\n",
       "      <th>mpg</th>\n",
       "      <th>cylinders</th>\n",
       "      <th>displacement</th>\n",
       "      <th>horsepower</th>\n",
       "      <th>weight</th>\n",
       "      <th>acceleration</th>\n",
       "      <th>model year</th>\n",
       "      <th>origin</th>\n",
       "      <th>car name</th>\n",
       "    </tr>\n",
       "  </thead>\n",
       "  <tbody>\n",
       "    <tr>\n",
       "      <th>0</th>\n",
       "      <td>18.0</td>\n",
       "      <td>8</td>\n",
       "      <td>307.0</td>\n",
       "      <td>130</td>\n",
       "      <td>3504</td>\n",
       "      <td>12.0</td>\n",
       "      <td>70</td>\n",
       "      <td>1</td>\n",
       "      <td>chevrolet chevelle malibu</td>\n",
       "    </tr>\n",
       "    <tr>\n",
       "      <th>1</th>\n",
       "      <td>15.0</td>\n",
       "      <td>8</td>\n",
       "      <td>350.0</td>\n",
       "      <td>165</td>\n",
       "      <td>3693</td>\n",
       "      <td>11.5</td>\n",
       "      <td>70</td>\n",
       "      <td>1</td>\n",
       "      <td>buick skylark 320</td>\n",
       "    </tr>\n",
       "    <tr>\n",
       "      <th>2</th>\n",
       "      <td>18.0</td>\n",
       "      <td>8</td>\n",
       "      <td>318.0</td>\n",
       "      <td>150</td>\n",
       "      <td>3436</td>\n",
       "      <td>11.0</td>\n",
       "      <td>70</td>\n",
       "      <td>1</td>\n",
       "      <td>plymouth satellite</td>\n",
       "    </tr>\n",
       "    <tr>\n",
       "      <th>3</th>\n",
       "      <td>16.0</td>\n",
       "      <td>8</td>\n",
       "      <td>304.0</td>\n",
       "      <td>150</td>\n",
       "      <td>3433</td>\n",
       "      <td>12.0</td>\n",
       "      <td>70</td>\n",
       "      <td>1</td>\n",
       "      <td>amc rebel sst</td>\n",
       "    </tr>\n",
       "    <tr>\n",
       "      <th>4</th>\n",
       "      <td>17.0</td>\n",
       "      <td>8</td>\n",
       "      <td>302.0</td>\n",
       "      <td>140</td>\n",
       "      <td>3449</td>\n",
       "      <td>10.5</td>\n",
       "      <td>70</td>\n",
       "      <td>1</td>\n",
       "      <td>ford torino</td>\n",
       "    </tr>\n",
       "  </tbody>\n",
       "</table>\n",
       "</div>"
      ],
      "text/plain": [
       "    mpg  cylinders  displacement horsepower  weight  acceleration  model year  \\\n",
       "0  18.0          8         307.0        130    3504          12.0          70   \n",
       "1  15.0          8         350.0        165    3693          11.5          70   \n",
       "2  18.0          8         318.0        150    3436          11.0          70   \n",
       "3  16.0          8         304.0        150    3433          12.0          70   \n",
       "4  17.0          8         302.0        140    3449          10.5          70   \n",
       "\n",
       "   origin                   car name  \n",
       "0       1  chevrolet chevelle malibu  \n",
       "1       1          buick skylark 320  \n",
       "2       1         plymouth satellite  \n",
       "3       1              amc rebel sst  \n",
       "4       1                ford torino  "
      ]
     },
     "execution_count": 9,
     "metadata": {},
     "output_type": "execute_result"
    }
   ],
   "source": [
    "df = pd.read_csv(r'C:\\Users\\rodri\\GitHub\\My_Projects\\1 Aulas Data Science\\4 - Machine Learning\\Regressao Linear/autompg-dataset.zip')\n",
    "df.head()"
   ]
  },
  {
   "cell_type": "code",
   "execution_count": 10,
   "metadata": {},
   "outputs": [],
   "source": [
    "df = df[df.horsepower != '?']\n",
    "df.drop('car name', axis=1, inplace=True)"
   ]
  },
  {
   "cell_type": "code",
   "execution_count": 11,
   "metadata": {},
   "outputs": [],
   "source": [
    "from sklearn.model_selection import train_test_split\n",
    "X = df.drop(['mpg'], axis=1)\n",
    "y = df['mpg']\n",
    "X_train, X_test, y_train, y_test = train_test_split(X, y, test_size=0.3, random_state=42)"
   ]
  },
  {
   "cell_type": "code",
   "execution_count": 72,
   "metadata": {},
   "outputs": [
    {
     "data": {
      "text/plain": [
       "GradientBoostingRegressor(alpha=0.9, criterion='friedman_mse', init=None,\n",
       "             learning_rate=0.01, loss='ls', max_depth=4, max_features=0.75,\n",
       "             max_leaf_nodes=None, min_impurity_decrease=0.0,\n",
       "             min_impurity_split=None, min_samples_leaf=1,\n",
       "             min_samples_split=2, min_weight_fraction_leaf=0.0,\n",
       "             n_estimators=500, n_iter_no_change=None, presort='auto',\n",
       "             random_state=42, subsample=0.9, tol=0.0001,\n",
       "             validation_fraction=0.1, verbose=0, warm_start=False)"
      ]
     },
     "execution_count": 72,
     "metadata": {},
     "output_type": "execute_result"
    }
   ],
   "source": [
    "# Import RandomForestRegressor\n",
    "from sklearn.ensemble import GradientBoostingRegressor\n",
    "from sklearn.ensemble import GradientBoostingClassifier\n",
    "from sklearn import metrics\n",
    "\n",
    "# Instantiate gb\n",
    "gb = GradientBoostingRegressor(learning_rate=0.01,\n",
    "                               n_estimators=500,\n",
    "                               random_state=42)\n",
    "\n",
    "# Instantiate sgbr\n",
    "sgbr = GradientBoostingRegressor(max_depth=4, \n",
    "                                 subsample=0.9,\n",
    "                                 max_features=0.75,\n",
    "                                 learning_rate=0.01,\n",
    "                                 n_estimators=500,                                \n",
    "                                 random_state=42)\n",
    "                           \n",
    "# Fit gb to the training set            \n",
    "gb.fit(X_train, y_train)                           \n",
    "\n",
    "sgbr.fit(X_train, y_train) "
   ]
  },
  {
   "cell_type": "code",
   "execution_count": 73,
   "metadata": {},
   "outputs": [
    {
     "name": "stdout",
     "output_type": "stream",
     "text": [
      "MAE: 2.0426434754656424\n",
      "MSE: 8.117932020189775\n",
      "RMSE: 2.849198487327581\n"
     ]
    }
   ],
   "source": [
    "y_pred = gb.predict(X_test)\n",
    "print('MAE:', metrics.mean_absolute_error(y_test, y_pred))\n",
    "print('MSE:', metrics.mean_squared_error(y_test, y_pred))\n",
    "print('RMSE:', np.sqrt(metrics.mean_squared_error(y_test, y_pred)))"
   ]
  },
  {
   "cell_type": "code",
   "execution_count": 74,
   "metadata": {},
   "outputs": [
    {
     "name": "stdout",
     "output_type": "stream",
     "text": [
      "MAE: 1.9253926848806042\n",
      "MSE: 7.730729065031821\n",
      "RMSE: 2.7804188650330763\n"
     ]
    }
   ],
   "source": [
    "y_pred = sgbr.predict(X_test)\n",
    "print('MAE:', metrics.mean_absolute_error(y_test, y_pred))\n",
    "print('MSE:', metrics.mean_squared_error(y_test, y_pred))\n",
    "print('RMSE:', np.sqrt(metrics.mean_squared_error(y_test, y_pred)))"
   ]
  },
  {
   "cell_type": "code",
   "execution_count": 75,
   "metadata": {},
   "outputs": [
    {
     "data": {
      "text/plain": [
       "array([0.12856785, 0.41032789, 0.14067671, 0.18340428, 0.02416679,\n",
       "       0.10971832, 0.00313816])"
      ]
     },
     "execution_count": 75,
     "metadata": {},
     "output_type": "execute_result"
    }
   ],
   "source": [
    "sgbr.feature_importances_"
   ]
  },
  {
   "cell_type": "code",
   "execution_count": 76,
   "metadata": {},
   "outputs": [
    {
     "data": {
      "image/png": "[encoded data removed]",
      "text/plain": [
       "<Figure size 432x288 with 1 Axes>"
      ]
     },
     "metadata": {
      "needs_background": "light"
     },
     "output_type": "display_data"
    }
   ],
   "source": [
    "# Create a pd.Series of features importances\n",
    "importances = pd.Series(data=sgbr.feature_importances_,\n",
    "                        index= X_train.columns)\n",
    "\n",
    "# Sort importances\n",
    "importances_sorted = importances.sort_values()\n",
    "\n",
    "# Draw a horizontal barplot of importances_sorted\n",
    "importances_sorted.plot(kind='barh', color='lightgreen')\n",
    "plt.title('Features Importances')\n",
    "plt.show()"
   ]
  },
  {
   "cell_type": "code",
   "execution_count": 77,
   "metadata": {},
   "outputs": [
    {
     "data": {
      "text/html": [
       "<div>\n",
       "<style scoped>\n",
       "    .dataframe tbody tr th:only-of-type {\n",
       "        vertical-align: middle;\n",
       "    }\n",
       "\n",
       "    .dataframe tbody tr th {\n",
       "        vertical-align: top;\n",
       "    }\n",
       "\n",
       "    .dataframe thead th {\n",
       "        text-align: right;\n",
       "    }\n",
       "</style>\n",
       "<table border=\"1\" class=\"dataframe\">\n",
       "  <thead>\n",
       "    <tr style=\"text-align: right;\">\n",
       "      <th></th>\n",
       "      <th>id</th>\n",
       "      <th>diagnosis</th>\n",
       "      <th>radius_mean</th>\n",
       "      <th>texture_mean</th>\n",
       "      <th>perimeter_mean</th>\n",
       "      <th>area_mean</th>\n",
       "      <th>smoothness_mean</th>\n",
       "      <th>compactness_mean</th>\n",
       "      <th>concavity_mean</th>\n",
       "      <th>concave points_mean</th>\n",
       "      <th>...</th>\n",
       "      <th>texture_worst</th>\n",
       "      <th>perimeter_worst</th>\n",
       "      <th>area_worst</th>\n",
       "      <th>smoothness_worst</th>\n",
       "      <th>compactness_worst</th>\n",
       "      <th>concavity_worst</th>\n",
       "      <th>concave points_worst</th>\n",
       "      <th>symmetry_worst</th>\n",
       "      <th>fractal_dimension_worst</th>\n",
       "      <th>Unnamed: 32</th>\n",
       "    </tr>\n",
       "  </thead>\n",
       "  <tbody>\n",
       "    <tr>\n",
       "      <th>0</th>\n",
       "      <td>842302</td>\n",
       "      <td>M</td>\n",
       "      <td>17.99</td>\n",
       "      <td>10.38</td>\n",
       "      <td>122.80</td>\n",
       "      <td>1001.0</td>\n",
       "      <td>0.11840</td>\n",
       "      <td>0.27760</td>\n",
       "      <td>0.3001</td>\n",
       "      <td>0.14710</td>\n",
       "      <td>...</td>\n",
       "      <td>17.33</td>\n",
       "      <td>184.60</td>\n",
       "      <td>2019.0</td>\n",
       "      <td>0.1622</td>\n",
       "      <td>0.6656</td>\n",
       "      <td>0.7119</td>\n",
       "      <td>0.2654</td>\n",
       "      <td>0.4601</td>\n",
       "      <td>0.11890</td>\n",
       "      <td>NaN</td>\n",
       "    </tr>\n",
       "    <tr>\n",
       "      <th>1</th>\n",
       "      <td>842517</td>\n",
       "      <td>M</td>\n",
       "      <td>20.57</td>\n",
       "      <td>17.77</td>\n",
       "      <td>132.90</td>\n",
       "      <td>1326.0</td>\n",
       "      <td>0.08474</td>\n",
       "      <td>0.07864</td>\n",
       "      <td>0.0869</td>\n",
       "      <td>0.07017</td>\n",
       "      <td>...</td>\n",
       "      <td>23.41</td>\n",
       "      <td>158.80</td>\n",
       "      <td>1956.0</td>\n",
       "      <td>0.1238</td>\n",
       "      <td>0.1866</td>\n",
       "      <td>0.2416</td>\n",
       "      <td>0.1860</td>\n",
       "      <td>0.2750</td>\n",
       "      <td>0.08902</td>\n",
       "      <td>NaN</td>\n",
       "    </tr>\n",
       "    <tr>\n",
       "      <th>2</th>\n",
       "      <td>84300903</td>\n",
       "      <td>M</td>\n",
       "      <td>19.69</td>\n",
       "      <td>21.25</td>\n",
       "      <td>130.00</td>\n",
       "      <td>1203.0</td>\n",
       "      <td>0.10960</td>\n",
       "      <td>0.15990</td>\n",
       "      <td>0.1974</td>\n",
       "      <td>0.12790</td>\n",
       "      <td>...</td>\n",
       "      <td>25.53</td>\n",
       "      <td>152.50</td>\n",
       "      <td>1709.0</td>\n",
       "      <td>0.1444</td>\n",
       "      <td>0.4245</td>\n",
       "      <td>0.4504</td>\n",
       "      <td>0.2430</td>\n",
       "      <td>0.3613</td>\n",
       "      <td>0.08758</td>\n",
       "      <td>NaN</td>\n",
       "    </tr>\n",
       "    <tr>\n",
       "      <th>3</th>\n",
       "      <td>84348301</td>\n",
       "      <td>M</td>\n",
       "      <td>11.42</td>\n",
       "      <td>20.38</td>\n",
       "      <td>77.58</td>\n",
       "      <td>386.1</td>\n",
       "      <td>0.14250</td>\n",
       "      <td>0.28390</td>\n",
       "      <td>0.2414</td>\n",
       "      <td>0.10520</td>\n",
       "      <td>...</td>\n",
       "      <td>26.50</td>\n",
       "      <td>98.87</td>\n",
       "      <td>567.7</td>\n",
       "      <td>0.2098</td>\n",
       "      <td>0.8663</td>\n",
       "      <td>0.6869</td>\n",
       "      <td>0.2575</td>\n",
       "      <td>0.6638</td>\n",
       "      <td>0.17300</td>\n",
       "      <td>NaN</td>\n",
       "    </tr>\n",
       "    <tr>\n",
       "      <th>4</th>\n",
       "      <td>84358402</td>\n",
       "      <td>M</td>\n",
       "      <td>20.29</td>\n",
       "      <td>14.34</td>\n",
       "      <td>135.10</td>\n",
       "      <td>1297.0</td>\n",
       "      <td>0.10030</td>\n",
       "      <td>0.13280</td>\n",
       "      <td>0.1980</td>\n",
       "      <td>0.10430</td>\n",
       "      <td>...</td>\n",
       "      <td>16.67</td>\n",
       "      <td>152.20</td>\n",
       "      <td>1575.0</td>\n",
       "      <td>0.1374</td>\n",
       "      <td>0.2050</td>\n",
       "      <td>0.4000</td>\n",
       "      <td>0.1625</td>\n",
       "      <td>0.2364</td>\n",
       "      <td>0.07678</td>\n",
       "      <td>NaN</td>\n",
       "    </tr>\n",
       "  </tbody>\n",
       "</table>\n",
       "<p>5 rows × 33 columns</p>\n",
       "</div>"
      ],
      "text/plain": [
       "         id diagnosis  radius_mean  texture_mean  perimeter_mean  area_mean  \\\n",
       "0    842302         M        17.99         10.38          122.80     1001.0   \n",
       "1    842517         M        20.57         17.77          132.90     1326.0   \n",
       "2  84300903         M        19.69         21.25          130.00     1203.0   \n",
       "3  84348301         M        11.42         20.38           77.58      386.1   \n",
       "4  84358402         M        20.29         14.34          135.10     1297.0   \n",
       "\n",
       "   smoothness_mean  compactness_mean  concavity_mean  concave points_mean  \\\n",
       "0          0.11840           0.27760          0.3001              0.14710   \n",
       "1          0.08474           0.07864          0.0869              0.07017   \n",
       "2          0.10960           0.15990          0.1974              0.12790   \n",
       "3          0.14250           0.28390          0.2414              0.10520   \n",
       "4          0.10030           0.13280          0.1980              0.10430   \n",
       "\n",
       "   ...  texture_worst  perimeter_worst  area_worst  smoothness_worst  \\\n",
       "0  ...          17.33           184.60      2019.0            0.1622   \n",
       "1  ...          23.41           158.80      1956.0            0.1238   \n",
       "2  ...          25.53           152.50      1709.0            0.1444   \n",
       "3  ...          26.50            98.87       567.7            0.2098   \n",
       "4  ...          16.67           152.20      1575.0            0.1374   \n",
       "\n",
       "   compactness_worst  concavity_worst  concave points_worst  symmetry_worst  \\\n",
       "0             0.6656           0.7119                0.2654          0.4601   \n",
       "1             0.1866           0.2416                0.1860          0.2750   \n",
       "2             0.4245           0.4504                0.2430          0.3613   \n",
       "3             0.8663           0.6869                0.2575          0.6638   \n",
       "4             0.2050           0.4000                0.1625          0.2364   \n",
       "\n",
       "   fractal_dimension_worst  Unnamed: 32  \n",
       "0                  0.11890          NaN  \n",
       "1                  0.08902          NaN  \n",
       "2                  0.08758          NaN  \n",
       "3                  0.17300          NaN  \n",
       "4                  0.07678          NaN  \n",
       "\n",
       "[5 rows x 33 columns]"
      ]
     },
     "execution_count": 77,
     "metadata": {},
     "output_type": "execute_result"
    }
   ],
   "source": [
    "df = pd.read_csv(r'C:\\Users\\rodri\\GitHub\\My_Projects\\1 Aulas Data Science\\Data Sets/breast-cancer-wisconsin-data.zip')\n",
    "df.head()"
   ]
  },
  {
   "cell_type": "code",
   "execution_count": 78,
   "metadata": {},
   "outputs": [
    {
     "data": {
      "text/plain": [
       "0    357\n",
       "1    212\n",
       "Name: diagnosis, dtype: int64"
      ]
     },
     "execution_count": 78,
     "metadata": {},
     "output_type": "execute_result"
    }
   ],
   "source": [
    "d={'M':1,'B':0}\n",
    "df['diagnosis'] = df['diagnosis'].map(d)\n",
    "df['diagnosis'].value_counts()"
   ]
  },
  {
   "cell_type": "code",
   "execution_count": 79,
   "metadata": {},
   "outputs": [],
   "source": [
    "from sklearn.model_selection import train_test_split\n",
    "features = df.drop(['id', 'diagnosis', 'Unnamed: 32'], axis=1)\n",
    "targets = df['diagnosis']\n",
    "\n",
    "X_train, X_test, y_train, y_test = train_test_split(features, targets, test_size=0.30, stratify=targets,random_state=1)"
   ]
  },
  {
   "cell_type": "code",
   "execution_count": 96,
   "metadata": {},
   "outputs": [
    {
     "data": {
      "text/plain": [
       "GradientBoostingClassifier(criterion='friedman_mse', init=None,\n",
       "              learning_rate=0.001, loss='deviance', max_depth=3,\n",
       "              max_features=0.7, max_leaf_nodes=None,\n",
       "              min_impurity_decrease=0.0, min_impurity_split=None,\n",
       "              min_samples_leaf=1, min_samples_split=2,\n",
       "              min_weight_fraction_leaf=0.0, n_estimators=750,\n",
       "              n_iter_no_change=None, presort='auto', random_state=42,\n",
       "              subsample=0.8, tol=0.0001, validation_fraction=0.1,\n",
       "              verbose=0, warm_start=False)"
      ]
     },
     "execution_count": 96,
     "metadata": {},
     "output_type": "execute_result"
    }
   ],
   "source": [
    "# Instantiate gb\n",
    "gb = GradientBoostingClassifier(learning_rate=0.01,\n",
    "                               n_estimators=350,\n",
    "                               random_state=42)\n",
    "                           \n",
    "# Instantiate sgbr\n",
    "sgbr = GradientBoostingClassifier(subsample=0.8,\n",
    "                                 max_features=0.70,\n",
    "                                 learning_rate=0.001,\n",
    "                                 n_estimators=750,                                \n",
    "                                 random_state=42)\n",
    "                           \n",
    "# Fit gb to the training set            \n",
    "gb.fit(X_train, y_train)                           \n",
    "\n",
    "sgbr.fit(X_train, y_train) "
   ]
  },
  {
   "cell_type": "code",
   "execution_count": 97,
   "metadata": {},
   "outputs": [
    {
     "name": "stdout",
     "output_type": "stream",
     "text": [
      "Test set accuracy: 93.57 %\n"
     ]
    }
   ],
   "source": [
    "# Import accuracy_score\n",
    "from sklearn.metrics import accuracy_score\n",
    "\n",
    "# Predict test set labels\n",
    "y_pred = gb.predict(X_test)\n",
    "\n",
    "# Compute test set accuracy  \n",
    "acc = accuracy_score(y_test, y_pred)\n",
    "print(\"Test set accuracy: {:.2f} %\".format(acc*100))"
   ]
  },
  {
   "cell_type": "code",
   "execution_count": 98,
   "metadata": {},
   "outputs": [
    {
     "name": "stdout",
     "output_type": "stream",
     "text": [
      "Test set accuracy: 93.57 %\n"
     ]
    }
   ],
   "source": [
    "# Predict test set labels\n",
    "y_pred = sgbr.predict(X_test)\n",
    "\n",
    "# Compute test set accuracy  \n",
    "acc = accuracy_score(y_test, y_pred)\n",
    "print(\"Test set accuracy: {:.2f} %\".format(acc*100))"
   ]
  },
  {
   "cell_type": "code",
   "execution_count": 99,
   "metadata": {},
   "outputs": [
    {
     "data": {
      "text/plain": [
       "array([[0.98545915, 0.01454085],\n",
       "       [0.02419141, 0.97580859],\n",
       "       [0.02089288, 0.97910712],\n",
       "       [0.98545915, 0.01454085],\n",
       "       [0.98545915, 0.01454085],\n",
       "       [0.98545915, 0.01454085],\n",
       "       [0.05546918, 0.94453082],\n",
       "       [0.98545915, 0.01454085],\n",
       "       [0.98189117, 0.01810883],\n",
       "       [0.97345879, 0.02654121],\n",
       "       [0.89403814, 0.10596186],\n",
       "       [0.98545915, 0.01454085],\n",
       "       [0.21340793, 0.78659207],\n",
       "       [0.94123684, 0.05876316],\n",
       "       [0.98537053, 0.01462947],\n",
       "       [0.02089288, 0.97910712],\n",
       "       [0.97321146, 0.02678854],\n",
       "       [0.8783289 , 0.1216711 ],\n",
       "       [0.9770725 , 0.0229275 ],\n",
       "       [0.98356125, 0.01643875],\n",
       "       [0.02089288, 0.97910712],\n",
       "       [0.97459929, 0.02540071],\n",
       "       [0.90256398, 0.09743602],\n",
       "       [0.02089288, 0.97910712],\n",
       "       [0.98545915, 0.01454085],\n",
       "       [0.98356125, 0.01643875],\n",
       "       [0.98356125, 0.01643875],\n",
       "       [0.02089288, 0.97910712],\n",
       "       [0.98043816, 0.01956184],\n",
       "       [0.02173879, 0.97826121],\n",
       "       [0.98545915, 0.01454085],\n",
       "       [0.98545915, 0.01454085],\n",
       "       [0.98545915, 0.01454085],\n",
       "       [0.09066796, 0.90933204],\n",
       "       [0.98356125, 0.01643875],\n",
       "       [0.98537053, 0.01462947],\n",
       "       [0.98545915, 0.01454085],\n",
       "       [0.98545915, 0.01454085],\n",
       "       [0.98545915, 0.01454085],\n",
       "       [0.98545915, 0.01454085],\n",
       "       [0.97794449, 0.02205551],\n",
       "       [0.98545915, 0.01454085],\n",
       "       [0.02322375, 0.97677625],\n",
       "       [0.98545915, 0.01454085],\n",
       "       [0.02089288, 0.97910712],\n",
       "       [0.02172847, 0.97827153],\n",
       "       [0.98537053, 0.01462947],\n",
       "       [0.03258989, 0.96741011],\n",
       "       [0.91176933, 0.08823067],\n",
       "       [0.02089288, 0.97910712],\n",
       "       [0.98460626, 0.01539374],\n",
       "       [0.02989547, 0.97010453],\n",
       "       [0.98545915, 0.01454085],\n",
       "       [0.98545915, 0.01454085],\n",
       "       [0.02173879, 0.97826121],\n",
       "       [0.02089288, 0.97910712],\n",
       "       [0.02089288, 0.97910712],\n",
       "       [0.98035962, 0.01964038],\n",
       "       [0.02089288, 0.97910712],\n",
       "       [0.04487819, 0.95512181],\n",
       "       [0.14314308, 0.85685692],\n",
       "       [0.98545915, 0.01454085],\n",
       "       [0.98545915, 0.01454085],\n",
       "       [0.0239521 , 0.9760479 ],\n",
       "       [0.98545915, 0.01454085],\n",
       "       [0.98545915, 0.01454085],\n",
       "       [0.97794449, 0.02205551],\n",
       "       [0.02796158, 0.97203842],\n",
       "       [0.98545915, 0.01454085],\n",
       "       [0.02089288, 0.97910712],\n",
       "       [0.02089288, 0.97910712],\n",
       "       [0.97794449, 0.02205551],\n",
       "       [0.98047798, 0.01952202],\n",
       "       [0.02089288, 0.97910712],\n",
       "       [0.04369652, 0.95630348],\n",
       "       [0.02119828, 0.97880172],\n",
       "       [0.98545915, 0.01454085],\n",
       "       [0.023371  , 0.976629  ],\n",
       "       [0.94038571, 0.05961429],\n",
       "       [0.98545915, 0.01454085],\n",
       "       [0.02322375, 0.97677625],\n",
       "       [0.98356125, 0.01643875],\n",
       "       [0.98545915, 0.01454085],\n",
       "       [0.98545915, 0.01454085],\n",
       "       [0.98346126, 0.01653874],\n",
       "       [0.02089288, 0.97910712],\n",
       "       [0.97351969, 0.02648031],\n",
       "       [0.98356125, 0.01643875],\n",
       "       [0.05054526, 0.94945474],\n",
       "       [0.98545915, 0.01454085],\n",
       "       [0.02173879, 0.97826121],\n",
       "       [0.65163501, 0.34836499],\n",
       "       [0.94767979, 0.05232021],\n",
       "       [0.02089288, 0.97910712],\n",
       "       [0.98545915, 0.01454085],\n",
       "       [0.02089288, 0.97910712],\n",
       "       [0.02089288, 0.97910712],\n",
       "       [0.05347362, 0.94652638],\n",
       "       [0.45787641, 0.54212359],\n",
       "       [0.92368866, 0.07631134],\n",
       "       [0.98047798, 0.01952202],\n",
       "       [0.98457473, 0.01542527],\n",
       "       [0.98537053, 0.01462947],\n",
       "       [0.05075614, 0.94924386],\n",
       "       [0.98100113, 0.01899887],\n",
       "       [0.98047798, 0.01952202],\n",
       "       [0.60617086, 0.39382914],\n",
       "       [0.98047798, 0.01952202],\n",
       "       [0.02089288, 0.97910712],\n",
       "       [0.85489949, 0.14510051],\n",
       "       [0.02089288, 0.97910712],\n",
       "       [0.96449645, 0.03550355],\n",
       "       [0.98545915, 0.01454085],\n",
       "       [0.98545915, 0.01454085],\n",
       "       [0.98545915, 0.01454085],\n",
       "       [0.98545915, 0.01454085],\n",
       "       [0.98545915, 0.01454085],\n",
       "       [0.98545915, 0.01454085],\n",
       "       [0.85297007, 0.14702993],\n",
       "       [0.02089288, 0.97910712],\n",
       "       [0.16400611, 0.83599389],\n",
       "       [0.02089288, 0.97910712],\n",
       "       [0.05439499, 0.94560501],\n",
       "       [0.98460626, 0.01539374],\n",
       "       [0.98545915, 0.01454085],\n",
       "       [0.02886046, 0.97113954],\n",
       "       [0.06193969, 0.93806031],\n",
       "       [0.02777909, 0.97222091],\n",
       "       [0.02089288, 0.97910712],\n",
       "       [0.98545915, 0.01454085],\n",
       "       [0.97202194, 0.02797806],\n",
       "       [0.98356125, 0.01643875],\n",
       "       [0.98346126, 0.01653874],\n",
       "       [0.98545915, 0.01454085],\n",
       "       [0.98356125, 0.01643875],\n",
       "       [0.98356125, 0.01643875],\n",
       "       [0.92322593, 0.07677407],\n",
       "       [0.98545915, 0.01454085],\n",
       "       [0.88971282, 0.11028718],\n",
       "       [0.98537053, 0.01462947],\n",
       "       [0.98356125, 0.01643875],\n",
       "       [0.98545915, 0.01454085],\n",
       "       [0.98047798, 0.01952202],\n",
       "       [0.98545915, 0.01454085],\n",
       "       [0.98545915, 0.01454085],\n",
       "       [0.97345879, 0.02654121],\n",
       "       [0.02089288, 0.97910712],\n",
       "       [0.02089288, 0.97910712],\n",
       "       [0.95594131, 0.04405869],\n",
       "       [0.98545915, 0.01454085],\n",
       "       [0.02037296, 0.97962704],\n",
       "       [0.98537053, 0.01462947],\n",
       "       [0.98047798, 0.01952202],\n",
       "       [0.88999652, 0.11000348],\n",
       "       [0.98047798, 0.01952202],\n",
       "       [0.02089288, 0.97910712],\n",
       "       [0.95344345, 0.04655655],\n",
       "       [0.98545915, 0.01454085],\n",
       "       [0.93038135, 0.06961865],\n",
       "       [0.08241307, 0.91758693],\n",
       "       [0.02322375, 0.97677625],\n",
       "       [0.98545915, 0.01454085],\n",
       "       [0.98356125, 0.01643875],\n",
       "       [0.02089288, 0.97910712],\n",
       "       [0.91315217, 0.08684783],\n",
       "       [0.98356125, 0.01643875],\n",
       "       [0.98545915, 0.01454085],\n",
       "       [0.89298768, 0.10701232],\n",
       "       [0.98346126, 0.01653874],\n",
       "       [0.98047798, 0.01952202],\n",
       "       [0.98545915, 0.01454085]])"
      ]
     },
     "execution_count": 99,
     "metadata": {},
     "output_type": "execute_result"
    }
   ],
   "source": [
    "y_pred_proba = gb.predict_proba(X_test)\n",
    "y_pred_proba"
   ]
  },
  {
   "cell_type": "code",
   "execution_count": 100,
   "metadata": {},
   "outputs": [
    {
     "data": {
      "text/plain": [
       "array([0, 1, 1, 0, 0, 0, 1, 0, 0, 0, 0, 0, 0, 0, 0, 1, 0, 0, 0, 0, 1, 0,\n",
       "       0, 1, 0, 0, 0, 1, 0, 1, 0, 0, 0, 1, 0, 0, 0, 0, 0, 0, 0, 0, 1, 0,\n",
       "       1, 1, 0, 1, 0, 1, 0, 1, 0, 0, 1, 1, 1, 0, 1, 1, 1, 0, 0, 1, 0, 0,\n",
       "       0, 1, 0, 1, 1, 0, 0, 1, 1, 1, 0, 1, 0, 0, 1, 0, 0, 0, 0, 1, 0, 0,\n",
       "       1, 0, 1, 1, 0, 1, 0, 1, 1, 1, 1, 0, 0, 0, 0, 1, 0, 0, 0, 0, 1, 0,\n",
       "       1, 0, 0, 0, 0, 0, 0, 0, 0, 1, 1, 1, 1, 0, 0, 1, 1, 1, 1, 0, 0, 0,\n",
       "       0, 0, 0, 0, 0, 0, 0, 0, 0, 0, 0, 0, 0, 0, 1, 1, 0, 0, 1, 0, 0, 0,\n",
       "       0, 1, 0, 0, 0, 1, 1, 0, 0, 1, 0, 0, 0, 0, 0, 0, 0], dtype=int64)"
      ]
     },
     "execution_count": 100,
     "metadata": {},
     "output_type": "execute_result"
    }
   ],
   "source": [
    "y_pred"
   ]
  }
 ],
 "metadata": {
  "kernelspec": {
   "display_name": "Python 3",
   "language": "python",
   "name": "python3"
  },
  "language_info": {
   "codemirror_mode": {
    "name": "ipython",
    "version": 3
   },
   "file_extension": ".py",
   "mimetype": "text/x-python",
   "name": "python",
   "nbconvert_exporter": "python",
   "pygments_lexer": "ipython3",
   "version": "3.6.8"
  }
 },
 "nbformat": 4,
 "nbformat_minor": 2
}
