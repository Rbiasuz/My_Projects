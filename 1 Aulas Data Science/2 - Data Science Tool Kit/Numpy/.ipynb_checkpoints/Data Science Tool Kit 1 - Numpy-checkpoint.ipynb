{
 "cells": [
  {
   "cell_type": "markdown",
   "metadata": {},
   "source": [
    "# NumPy "
   ]
  },
  {
   "cell_type": "markdown",
   "metadata": {},
   "source": [
    "![numpy](https://cdn-images-1.medium.com/max/1200/1*00pL0zLnfI7y8d5G1aQrHA.jpeg)"
   ]
  },
  {
   "cell_type": "markdown",
   "metadata": {},
   "source": [
    "* Biblioteca de Álgebra linear, que serve como base pra Data Science\n",
    "\n",
    "* Usamos elas pra criar e manipular vetores e matrizes.\n",
    "\n",
    "* Outras Bibliotecas (como o Pandas) que veremos mais adiante são criadas em cima dessa"
   ]
  },
  {
   "cell_type": "markdown",
   "metadata": {},
   "source": [
    "    E por que não utilizarmos listas para a mesma função?\n",
    "\n",
    " Escalabilidade -> Tempo de execução muito menor e mais recuros prontos\n",
    "(http://stackoverflow.com/questions/993984/why-numpy-instead-of-python-lists)\n",
    "\n",
    "Além disso, Numpy contempla uma série de outras funcionalidades.\n",
    "Vamos cobrir algumas delas\n",
    "\n",
    "(https://docs.scipy.org/doc/numpy-1.10.1/genindex.html) - para mais info"
   ]
  },
  {
   "cell_type": "markdown",
   "metadata": {},
   "source": [
    "### Importando Numpy"
   ]
  },
  {
   "cell_type": "code",
   "execution_count": 2,
   "metadata": {},
   "outputs": [],
   "source": [
    "import numpy as np\n",
    "# np é a forma mais comum de referenciar a biblioteca Numpy, provavelmente você vai se deparar com isso diversas vezes"
   ]
  },
  {
   "cell_type": "markdown",
   "metadata": {},
   "source": [
    "### Criando Vetores (Ou Arrays) e Matrizes"
   ]
  },
  {
   "cell_type": "code",
   "execution_count": 53,
   "metadata": {},
   "outputs": [
    {
     "data": {
      "text/plain": [
       "array(['a', 'b', 'c'], dtype='<U1')"
      ]
     },
     "execution_count": 53,
     "metadata": {},
     "output_type": "execute_result"
    }
   ],
   "source": [
    "# Criando um vetor de uma lista\n",
    "lista = ['a', 'b', 'c']\n",
    "np.array(lista)"
   ]
  },
  {
   "cell_type": "code",
   "execution_count": 54,
   "metadata": {},
   "outputs": [
    {
     "data": {
      "text/plain": [
       "array([[1, 2, 3],\n",
       "       [4, 5, 6],\n",
       "       [7, 8, 9]])"
      ]
     },
     "execution_count": 54,
     "metadata": {},
     "output_type": "execute_result"
    }
   ],
   "source": [
    "# Criando uma matriz de uma lista de listas\n",
    "matriz = [[1,2,3],[4,5,6],[7,8,9]]\n",
    "np.array(matriz)"
   ]
  },
  {
   "cell_type": "code",
   "execution_count": 55,
   "metadata": {},
   "outputs": [
    {
     "name": "stdout",
     "output_type": "stream",
     "text": [
      "[0 1 2 3 4 5 6 7 8 9]\n",
      "[0 2 4 6 8]\n"
     ]
    }
   ],
   "source": [
    "# arrange(inicio, fim, passo)\n",
    "print(\n",
    "    np.arange(0,10)\n",
    ")\n",
    "print(\n",
    "    np.arange(0,10,2)\n",
    ")"
   ]
  },
  {
   "cell_type": "code",
   "execution_count": 57,
   "metadata": {},
   "outputs": [
    {
     "name": "stdout",
     "output_type": "stream",
     "text": [
      "[ 1.     1.375  1.75   2.125  2.5    2.875  3.25   3.625  4.     4.375\n",
      "  4.75   5.125  5.5    5.875  6.25   6.625  7.     7.375  7.75   8.125\n",
      "  8.5    8.875  9.25   9.625 10.   ]\n"
     ]
    }
   ],
   "source": [
    "# linspace(inicio, fim, \"qtd de numeros igualmente espaçados\")\n",
    "print(\n",
    "    np.linspace(1,10,25)\n",
    ")"
   ]
  },
  {
   "cell_type": "markdown",
   "metadata": {},
   "source": [
    "### Matrizes famosas"
   ]
  },
  {
   "cell_type": "code",
   "execution_count": 58,
   "metadata": {},
   "outputs": [
    {
     "data": {
      "text/plain": [
       "array([[0., 0., 0., 0.],\n",
       "       [0., 0., 0., 0.],\n",
       "       [0., 0., 0., 0.]])"
      ]
     },
     "execution_count": 58,
     "metadata": {},
     "output_type": "execute_result"
    }
   ],
   "source": [
    "#Matriz de Zeros\n",
    "np.zeros((3,4))"
   ]
  },
  {
   "cell_type": "code",
   "execution_count": 59,
   "metadata": {},
   "outputs": [
    {
     "data": {
      "text/plain": [
       "array([[1., 1., 1.],\n",
       "       [1., 1., 1.],\n",
       "       [1., 1., 1.],\n",
       "       [1., 1., 1.]])"
      ]
     },
     "execution_count": 59,
     "metadata": {},
     "output_type": "execute_result"
    }
   ],
   "source": [
    "#Matriz de um's\n",
    "np.ones((4,3))"
   ]
  },
  {
   "cell_type": "code",
   "execution_count": 60,
   "metadata": {},
   "outputs": [
    {
     "data": {
      "text/plain": [
       "array([[1., 0., 0.],\n",
       "       [0., 1., 0.],\n",
       "       [0., 0., 1.]])"
      ]
     },
     "execution_count": 60,
     "metadata": {},
     "output_type": "execute_result"
    }
   ],
   "source": [
    "#Matriz Identidade\n",
    "np.eye(3)"
   ]
  },
  {
   "cell_type": "code",
   "execution_count": 119,
   "metadata": {},
   "outputs": [
    {
     "name": "stdout",
     "output_type": "stream",
     "text": [
      "[[0.50854595 0.65981325 0.68448891 0.7913031  0.99921067 0.69819698]\n",
      " [0.74006138 0.53362239 0.49576414 0.77537709 0.78713074 0.57790939]\n",
      " [0.80826394 0.85851455 0.8357767  0.33047472 0.54507997 0.7801923 ]\n",
      " [0.95317846 0.23532346 0.18395483 0.59384899 0.40382122 0.84228546]\n",
      " [0.26593275 0.65035514 0.06225976 0.83132694 0.43039421 0.52910456]]\n"
     ]
    }
   ],
   "source": [
    "# Matriz Aleatória de 0 até 1\n",
    "print(\n",
    "    np.random.rand(5,6)\n",
    ")"
   ]
  },
  {
   "cell_type": "code",
   "execution_count": 62,
   "metadata": {},
   "outputs": [
    {
     "name": "stdout",
     "output_type": "stream",
     "text": [
      "[[ 0.30606744 -0.42487967  0.85148137 -0.68103726 -1.8325313   0.95420735]\n",
      " [ 0.5630562   0.11875009 -0.09952871  0.09459406  0.21796158 -0.1568323 ]\n",
      " [ 0.84192183 -0.51236215  1.11175125  0.56816396 -0.0656081   0.82282646]\n",
      " [ 1.13585873  0.76765697  0.34475749  0.55556605  0.20212858 -0.00680414]\n",
      " [-0.13952302 -0.29043913 -0.15138309  1.97887027  0.71640944  1.17945231]]\n"
     ]
    }
   ],
   "source": [
    "# Matriz Aleatória de distribuição normal\n",
    "print(\n",
    "    np.random.randn(5,6)\n",
    ")"
   ]
  },
  {
   "cell_type": "code",
   "execution_count": 63,
   "metadata": {},
   "outputs": [
    {
     "name": "stdout",
     "output_type": "stream",
     "text": [
      "[[6 2 6 1 3 5 1 9 8 4]\n",
      " [7 1 3 3 5 2 3 3 7 9]\n",
      " [5 8 4 7 1 3 7 7 5 9]\n",
      " [8 7 6 1 8 8 9 2 8 1]\n",
      " [5 3 6 8 3 6 8 4 9 4]]\n"
     ]
    }
   ],
   "source": [
    "# Matriz Aleatória de valores inteiros(menor possibilidade, maior possibilidade, (tamanho da matriz))\n",
    "print(\n",
    "    np.random.randint(1,10,(5,10))\n",
    ")"
   ]
  },
  {
   "cell_type": "markdown",
   "metadata": {},
   "source": [
    "## Principais Atributos"
   ]
  },
  {
   "cell_type": "code",
   "execution_count": 208,
   "metadata": {},
   "outputs": [
    {
     "data": {
      "text/plain": [
       "array([2, 4, 5, 3, 2, 2, 2, 8, 2])"
      ]
     },
     "execution_count": 208,
     "metadata": {},
     "output_type": "execute_result"
    }
   ],
   "source": [
    "x = np.random.randint(1,10,9)\n",
    "x"
   ]
  },
  {
   "cell_type": "code",
   "execution_count": 209,
   "metadata": {},
   "outputs": [
    {
     "data": {
      "text/plain": [
       "(9,)"
      ]
     },
     "execution_count": 209,
     "metadata": {},
     "output_type": "execute_result"
    }
   ],
   "source": [
    "x.shape"
   ]
  },
  {
   "cell_type": "code",
   "execution_count": 210,
   "metadata": {},
   "outputs": [
    {
     "name": "stdout",
     "output_type": "stream",
     "text": [
      "8\n",
      "7\n",
      "2\n",
      "0\n"
     ]
    }
   ],
   "source": [
    "print(x.max())\n",
    "print(x.argmax())\n",
    "print(x.min())\n",
    "print(x.argmin())"
   ]
  },
  {
   "cell_type": "code",
   "execution_count": 211,
   "metadata": {},
   "outputs": [
    {
     "name": "stdout",
     "output_type": "stream",
     "text": [
      "[[2 4 5]\n",
      " [3 2 2]\n",
      " [2 8 2]]\n"
     ]
    }
   ],
   "source": [
    "x = x.reshape(3,3)\n",
    "print(x)"
   ]
  },
  {
   "cell_type": "code",
   "execution_count": 212,
   "metadata": {},
   "outputs": [
    {
     "data": {
      "text/plain": [
       "(3, 3)"
      ]
     },
     "execution_count": 212,
     "metadata": {},
     "output_type": "execute_result"
    }
   ],
   "source": [
    "x.shape"
   ]
  },
  {
   "cell_type": "code",
   "execution_count": 213,
   "metadata": {},
   "outputs": [
    {
     "data": {
      "text/plain": [
       "array([2, 4, 5, 3, 2, 2, 2, 8, 2])"
      ]
     },
     "execution_count": 213,
     "metadata": {},
     "output_type": "execute_result"
    }
   ],
   "source": [
    "x.reshape(9)"
   ]
  },
  {
   "cell_type": "markdown",
   "metadata": {},
   "source": [
    "## Operações"
   ]
  },
  {
   "cell_type": "code",
   "execution_count": 223,
   "metadata": {},
   "outputs": [
    {
     "name": "stdout",
     "output_type": "stream",
     "text": [
      "[[2 4 5]\n",
      " [3 2 2]\n",
      " [2 8 2]]\n"
     ]
    }
   ],
   "source": [
    "print(x)"
   ]
  },
  {
   "cell_type": "code",
   "execution_count": 224,
   "metadata": {},
   "outputs": [
    {
     "data": {
      "text/plain": [
       "array([[ 4,  8, 10],\n",
       "       [ 6,  4,  4],\n",
       "       [ 4, 16,  4]])"
      ]
     },
     "execution_count": 224,
     "metadata": {},
     "output_type": "execute_result"
    }
   ],
   "source": [
    "x + x"
   ]
  },
  {
   "cell_type": "code",
   "execution_count": 225,
   "metadata": {},
   "outputs": [
    {
     "data": {
      "text/plain": [
       "array([[-6, -4, -3],\n",
       "       [-5, -6, -6],\n",
       "       [-6,  0, -6]])"
      ]
     },
     "execution_count": 225,
     "metadata": {},
     "output_type": "execute_result"
    }
   ],
   "source": [
    "x - x.max()"
   ]
  },
  {
   "cell_type": "code",
   "execution_count": 226,
   "metadata": {},
   "outputs": [
    {
     "name": "stdout",
     "output_type": "stream",
     "text": [
      "[[-0.33333333 -1.         -1.66666667]\n",
      " [-0.6        -0.33333333 -0.33333333]\n",
      " [-0.33333333         inf -0.33333333]]\n"
     ]
    },
    {
     "name": "stderr",
     "output_type": "stream",
     "text": [
      "C:\\Users\\rodribia\\AppData\\Local\\Continuum\\anaconda3\\lib\\site-packages\\ipykernel_launcher.py:2: RuntimeWarning: divide by zero encountered in true_divide\n",
      "  \n"
     ]
    }
   ],
   "source": [
    "print(\n",
    "    x / ( x - x.max() )\n",
    ")"
   ]
  },
  {
   "cell_type": "code",
   "execution_count": 227,
   "metadata": {},
   "outputs": [
    {
     "name": "stdout",
     "output_type": "stream",
     "text": [
      "[[ 1.  1.  1.]\n",
      " [ 1.  1.  1.]\n",
      " [ 1. nan  1.]]\n"
     ]
    },
    {
     "name": "stderr",
     "output_type": "stream",
     "text": [
      "C:\\Users\\rodribia\\AppData\\Local\\Continuum\\anaconda3\\lib\\site-packages\\ipykernel_launcher.py:2: RuntimeWarning: invalid value encountered in true_divide\n",
      "  \n"
     ]
    }
   ],
   "source": [
    "print(\n",
    "    (x - x.max()) / ( x - x.max() )\n",
    ")"
   ]
  },
  {
   "cell_type": "code",
   "execution_count": 236,
   "metadata": {},
   "outputs": [
    {
     "data": {
      "text/plain": [
       "array([[ 4, 16, 25],\n",
       "       [ 9,  4,  4],\n",
       "       [ 4, 64,  4]])"
      ]
     },
     "execution_count": 236,
     "metadata": {},
     "output_type": "execute_result"
    }
   ],
   "source": [
    "x * x"
   ]
  },
  {
   "cell_type": "code",
   "execution_count": 229,
   "metadata": {},
   "outputs": [
    {
     "data": {
      "text/plain": [
       "array([[1.41421356, 2.        , 2.23606798],\n",
       "       [1.73205081, 1.41421356, 1.41421356],\n",
       "       [1.41421356, 2.82842712, 1.41421356]])"
      ]
     },
     "execution_count": 229,
     "metadata": {},
     "output_type": "execute_result"
    }
   ],
   "source": [
    "np.sqrt(x)  #raiz"
   ]
  },
  {
   "cell_type": "code",
   "execution_count": 230,
   "metadata": {},
   "outputs": [
    {
     "data": {
      "text/plain": [
       "array([[   7.3890561 ,   54.59815003,  148.4131591 ],\n",
       "       [  20.08553692,    7.3890561 ,    7.3890561 ],\n",
       "       [   7.3890561 , 2980.95798704,    7.3890561 ]])"
      ]
     },
     "execution_count": 230,
     "metadata": {},
     "output_type": "execute_result"
    }
   ],
   "source": [
    "np.exp(x)  # e^x"
   ]
  },
  {
   "cell_type": "code",
   "execution_count": 231,
   "metadata": {},
   "outputs": [
    {
     "data": {
      "text/plain": [
       "array([[0.69314718, 1.38629436, 1.60943791],\n",
       "       [1.09861229, 0.69314718, 0.69314718],\n",
       "       [0.69314718, 2.07944154, 0.69314718]])"
      ]
     },
     "execution_count": 231,
     "metadata": {},
     "output_type": "execute_result"
    }
   ],
   "source": [
    "np.log(x) #Ln(x)"
   ]
  },
  {
   "cell_type": "code",
   "execution_count": 235,
   "metadata": {},
   "outputs": [
    {
     "name": "stdout",
     "output_type": "stream",
     "text": [
      "3.0 3.0 3.0\n"
     ]
    }
   ],
   "source": [
    "#Hint:\n",
    "\n",
    "a= np.log(np.e**3) #ln -- np.e = euler\n",
    "b= np.log2(2**3)   #base2\n",
    "c= np.log10(10**3) #base10\n",
    "\n",
    "print(a,b,c)"
   ]
  },
  {
   "cell_type": "code",
   "execution_count": 245,
   "metadata": {},
   "outputs": [
    {
     "name": "stdout",
     "output_type": "stream",
     "text": [
      "[[2 4 5]\n",
      " [3 2 2]\n",
      " [2 8 2]]\n",
      "\n",
      "[[0 1]\n",
      " [0 0]\n",
      " [0 0]]\n"
     ]
    },
    {
     "data": {
      "text/plain": [
       "array([[0, 2],\n",
       "       [0, 3],\n",
       "       [0, 2]])"
      ]
     },
     "execution_count": 245,
     "metadata": {},
     "output_type": "execute_result"
    }
   ],
   "source": [
    "a = [0, 1]\n",
    "b = [0, 0]\n",
    "c = [0, 0]\n",
    "y = np.array((a,b,c))\n",
    "\n",
    "print(x)\n",
    "print('')\n",
    "print(y)\n",
    "\n",
    "np.dot(x,y) #mult matricial"
   ]
  },
  {
   "cell_type": "code",
   "execution_count": 247,
   "metadata": {},
   "outputs": [
    {
     "data": {
      "text/plain": [
       "array([[0, 2],\n",
       "       [0, 3],\n",
       "       [0, 2]])"
      ]
     },
     "execution_count": 247,
     "metadata": {},
     "output_type": "execute_result"
    }
   ],
   "source": [
    "x @ y    #mult matricial"
   ]
  },
  {
   "cell_type": "code",
   "execution_count": 248,
   "metadata": {},
   "outputs": [
    {
     "data": {
      "text/plain": [
       "30"
      ]
     },
     "execution_count": 248,
     "metadata": {},
     "output_type": "execute_result"
    }
   ],
   "source": [
    "x.sum()"
   ]
  },
  {
   "cell_type": "code",
   "execution_count": 249,
   "metadata": {},
   "outputs": [
    {
     "data": {
      "text/plain": [
       "array([ 7, 14,  9])"
      ]
     },
     "execution_count": 249,
     "metadata": {},
     "output_type": "execute_result"
    }
   ],
   "source": [
    "x.sum(axis=0)  #soma nas colunas"
   ]
  },
  {
   "cell_type": "code",
   "execution_count": 152,
   "metadata": {},
   "outputs": [
    {
     "data": {
      "text/plain": [
       "array([11, 26, 16])"
      ]
     },
     "execution_count": 152,
     "metadata": {},
     "output_type": "execute_result"
    }
   ],
   "source": [
    "x.sum(axis=1)  #soma nas linhas"
   ]
  },
  {
   "cell_type": "code",
   "execution_count": 250,
   "metadata": {},
   "outputs": [
    {
     "data": {
      "text/plain": [
       "1.9436506316150999"
      ]
     },
     "execution_count": 250,
     "metadata": {},
     "output_type": "execute_result"
    }
   ],
   "source": [
    "x.std()"
   ]
  },
  {
   "cell_type": "code",
   "execution_count": 251,
   "metadata": {},
   "outputs": [
    {
     "data": {
      "text/plain": [
       "array([1.24721913, 0.47140452, 2.82842712])"
      ]
     },
     "execution_count": 251,
     "metadata": {},
     "output_type": "execute_result"
    }
   ],
   "source": [
    "x.std(axis=1)"
   ]
  },
  {
   "cell_type": "code",
   "execution_count": 252,
   "metadata": {},
   "outputs": [
    {
     "data": {
      "text/plain": [
       "3.3333333333333335"
      ]
     },
     "execution_count": 252,
     "metadata": {},
     "output_type": "execute_result"
    }
   ],
   "source": [
    "x.mean()"
   ]
  },
  {
   "cell_type": "code",
   "execution_count": 253,
   "metadata": {},
   "outputs": [
    {
     "data": {
      "text/plain": [
       "array([2.33333333, 4.66666667, 3.        ])"
      ]
     },
     "execution_count": 253,
     "metadata": {},
     "output_type": "execute_result"
    }
   ],
   "source": [
    "x.mean(axis=0)"
   ]
  },
  {
   "cell_type": "markdown",
   "metadata": {},
   "source": [
    "## Indexação"
   ]
  },
  {
   "cell_type": "code",
   "execution_count": 254,
   "metadata": {},
   "outputs": [
    {
     "name": "stdout",
     "output_type": "stream",
     "text": [
      "[[2 4 5]\n",
      " [3 2 2]\n",
      " [2 8 2]]\n",
      "\n",
      "[3 2 2]\n",
      "\n",
      "2\n"
     ]
    }
   ],
   "source": [
    "print(x)\n",
    "print('')\n",
    "print(x[1])\n",
    "print('')\n",
    "print(x[1][2])"
   ]
  },
  {
   "cell_type": "code",
   "execution_count": 255,
   "metadata": {},
   "outputs": [
    {
     "data": {
      "text/plain": [
       "array([[3, 2, 2],\n",
       "       [2, 8, 2],\n",
       "       [2, 4, 5],\n",
       "       [3, 2, 2]])"
      ]
     },
     "execution_count": 255,
     "metadata": {},
     "output_type": "execute_result"
    }
   ],
   "source": [
    "#Indexação por linhas inteiras (permite fora de ordem)\n",
    "x[[1, 2, 0, 1]]"
   ]
  },
  {
   "cell_type": "code",
   "execution_count": 257,
   "metadata": {},
   "outputs": [
    {
     "data": {
      "text/plain": [
       "array([ 1,  2,  3,  4,  5,  6,  7,  8,  9, 10])"
      ]
     },
     "execution_count": 257,
     "metadata": {},
     "output_type": "execute_result"
    }
   ],
   "source": [
    "#Indexação usando True / False\n",
    "x = np.arange(1,11)\n",
    "x"
   ]
  },
  {
   "cell_type": "code",
   "execution_count": 258,
   "metadata": {},
   "outputs": [
    {
     "data": {
      "text/plain": [
       "array([False, False, False, False,  True,  True,  True,  True,  True,\n",
       "        True])"
      ]
     },
     "execution_count": 258,
     "metadata": {},
     "output_type": "execute_result"
    }
   ],
   "source": [
    "x >= 5"
   ]
  },
  {
   "cell_type": "code",
   "execution_count": 259,
   "metadata": {},
   "outputs": [
    {
     "data": {
      "text/plain": [
       "array([ 5,  6,  7,  8,  9, 10])"
      ]
     },
     "execution_count": 259,
     "metadata": {},
     "output_type": "execute_result"
    }
   ],
   "source": [
    "x[x>=5]"
   ]
  },
  {
   "cell_type": "markdown",
   "metadata": {},
   "source": [
    " ## Bonus\n",
    " \n",
    " <div style=\"text-align: center\">  </div>\n",
    "\n",
    " \n",
    "\n",
    "<div style=\"float:left; markdown=\"1\">\n",
    "\n",
    "![image alt <](data:image/jpeg;base64,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)\n",
    "\n",
    "</div>\n",
    "\n",
    "\n",
    "\n"
   ]
  },
  {
   "cell_type": "markdown",
   "metadata": {},
   "source": [
    "### Comparando o tempo de uma operação básica\n",
    "    \n",
    "    Numpy x Listas"
   ]
  },
  {
   "cell_type": "code",
   "execution_count": 52,
   "metadata": {},
   "outputs": [
    {
     "name": "stdout",
     "output_type": "stream",
     "text": [
      "Tempo Numpy:0.02394843\n",
      "Tempo Lista:0.54418850\n",
      "\n",
      "   A Lista levou 2272.33 % do tempo do np.array!\n"
     ]
    }
   ],
   "source": [
    "import time\n",
    "\n",
    "N = 10000000 #10M\n",
    "\n",
    "#Numpy\n",
    "start = time.time()\n",
    "x = np.arange(N)\n",
    "x.sum\n",
    "time_N = time.time()-start\n",
    "\n",
    "#List\n",
    "start = time.time()\n",
    "y = list(range(N))\n",
    "sum(y)\n",
    "time_L = time.time()-start\n",
    "\n",
    "print('Tempo Numpy:{:.8f}'.format(time_N))\n",
    "print('Tempo Lista:{:.8f}'.format(time_L))\n",
    "print('')\n",
    "print('   A Lista levou {:.2f} % do tempo do np.array!'.format(time_L/time_N*100))\n"
   ]
  }
 ],
 "metadata": {
  "kernelspec": {
   "display_name": "Python 3",
   "language": "python",
   "name": "python3"
  },
  "language_info": {
   "codemirror_mode": {
    "name": "ipython",
    "version": 3
   },
   "file_extension": ".py",
   "mimetype": "text/x-python",
   "name": "python",
   "nbconvert_exporter": "python",
   "pygments_lexer": "ipython3",
   "version": "3.7.3"
  }
 },
 "nbformat": 4,
 "nbformat_minor": 2
}
