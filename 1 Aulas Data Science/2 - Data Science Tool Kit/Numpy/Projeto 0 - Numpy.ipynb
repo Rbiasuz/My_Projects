{
 "cells": [
  {
   "cell_type": "markdown",
   "metadata": {},
   "source": [
    "## Projeto 0 (praticando NumPy)\n",
    "\n",
    "### Uma empresa lhe solicitou uma breve analise do seu volume de pedidos por dia"
   ]
  },
  {
   "cell_type": "code",
   "execution_count": 1,
   "metadata": {},
   "outputs": [],
   "source": [
    "import numpy as np"
   ]
  },
  {
   "cell_type": "markdown",
   "metadata": {},
   "source": [
    ">Você tem a lista (declarada abaixo) para trabalhar.\n",
    " Ela é gerada por um banco de dados, e corresponde ao volume de pedidos por dia.\n",
    " Considere que só existam dados de segunda até sexta-feira e o primeiro valor corresponde a uma segunda-feira\n",
    "    "
   ]
  },
  {
   "cell_type": "code",
   "execution_count": 2,
   "metadata": {},
   "outputs": [],
   "source": [
    "pedidos = [\n",
    "\n",
    "       389, 390, 380, 409, 311, 411, 391, 399, 400, 388, 401, 393, 415,\n",
    "       397, 350, 411, 380, 359, 384, 375, 400, 399, 402, 389, 352, 412,\n",
    "       359, 398, 393, 333, 402, 420, 397, 399, 385, 399, 389, 386, 416,\n",
    "       352, 400, 433, 423, 408, 377, 411, 404, 412, 428, 322, 411, 395,\n",
    "       411, 399, 358, 400, 399, 419, 387, 369, 398, 423, 388, 388, 359,\n",
    "       417, 371, 432, 429, 365, 405, 377, 361, 421, 356, 408, 383, 403,\n",
    "       417, 377, 398, 430, 425, 395, 358, 424, 442, 384, 389, 345, 403,\n",
    "       353, 411, 435, 345, 422, 398, 391, 381, 368, 423, 416, 400, 452,\n",
    "       398, 465, 444, 443, 400, 359, 436, 421, 432, 430, 388, 468, 412,\n",
    "       432, 412, 367\n",
    "\n",
    "]"
   ]
  },
  {
   "cell_type": "markdown",
   "metadata": {},
   "source": [
    ">Qual o valor da média, da soma total e do desvio padrão dos pedidos?"
   ]
  },
  {
   "cell_type": "code",
   "execution_count": 90,
   "metadata": {},
   "outputs": [
    {
     "name": "stdout",
     "output_type": "stream",
     "text": [
      "a média é 397.12 pedidos por dia\n"
     ]
    }
   ],
   "source": [
    "#Seu Código Aqui\n",
    "media = ...\n",
    "print('a média é {:.2f} pedidos por dia'.format(media))"
   ]
  },
  {
   "cell_type": "code",
   "execution_count": 91,
   "metadata": {},
   "outputs": [
    {
     "name": "stdout",
     "output_type": "stream",
     "text": [
      "a soma total é 47654 pedidos\n"
     ]
    }
   ],
   "source": [
    "soma = ...\n",
    "print('a soma total é {} pedidos'.format(soma))"
   ]
  },
  {
   "cell_type": "code",
   "execution_count": 92,
   "metadata": {},
   "outputs": [
    {
     "name": "stdout",
     "output_type": "stream",
     "text": [
      "Desvio Padrão = 27.84 pedidos\n"
     ]
    }
   ],
   "source": [
    "desvio = ...\n",
    "print('Desvio Padrão = {:.2f} pedidos'.format(desvio))"
   ]
  },
  {
   "cell_type": "markdown",
   "metadata": {},
   "source": [
    ">Qual foi o maior e o menor número de pedidos?\n",
    " E depois de quantos dias isso aconteceu?"
   ]
  },
  {
   "cell_type": "code",
   "execution_count": 93,
   "metadata": {},
   "outputs": [
    {
     "name": "stdout",
     "output_type": "stream",
     "text": [
      "o maior número de pedidos foi de 468 no 116° dia\n"
     ]
    }
   ],
   "source": [
    "maior = ...\n",
    "dia = ...\n",
    "print('o maior número de pedidos foi de {} no {}° dia'.format(maior, dia+1))"
   ]
  },
  {
   "cell_type": "code",
   "execution_count": 94,
   "metadata": {},
   "outputs": [
    {
     "name": "stdout",
     "output_type": "stream",
     "text": [
      "o menor número de pedidos foi de 311 no 5° dia\n"
     ]
    }
   ],
   "source": [
    "menor = ...\n",
    "dia = ...\n",
    "print('o menor número de pedidos foi de {} no {}° dia'.format(menor, dia+1))"
   ]
  },
  {
   "cell_type": "markdown",
   "metadata": {},
   "source": [
    "    \n",
    ">Para melhor visualizar a informação, você agora pretende deixar em um formato de matriz.\n",
    "   \n",
    "    Nessa matriz, cada coluna representa um dia da semana (seg, ter, qua, qui, sex)\n",
    "\n",
    ">Além disso, recalcule a média para cada dia da semana e para cada semana"
   ]
  },
  {
   "cell_type": "code",
   "execution_count": 95,
   "metadata": {},
   "outputs": [
    {
     "name": "stdout",
     "output_type": "stream",
     "text": [
      "[[389 390 380 409 311]\n",
      " [411 391 399 400 388]\n",
      " [401 393 415 397 350]\n",
      " [411 380 359 384 375]\n",
      " [400 399 402 389 352]\n",
      " [412 359 398 393 333]\n",
      " [402 420 397 399 385]\n",
      " [399 389 386 416 352]\n",
      " [400 433 423 408 377]\n",
      " [411 404 412 428 322]\n",
      " [411 395 411 399 358]\n",
      " [400 399 419 387 369]\n",
      " [398 423 388 388 359]\n",
      " [417 371 432 429 365]\n",
      " [405 377 361 421 356]\n",
      " [408 383 403 417 377]\n",
      " [398 430 425 395 358]\n",
      " [424 442 384 389 345]\n",
      " [403 353 411 435 345]\n",
      " [422 398 391 381 368]\n",
      " [423 416 400 452 398]\n",
      " [465 444 443 400 359]\n",
      " [436 421 432 430 388]\n",
      " [468 412 432 412 367]]\n"
     ]
    }
   ],
   "source": [
    "matriz = ...\n",
    "print(matriz)"
   ]
  },
  {
   "cell_type": "code",
   "execution_count": 96,
   "metadata": {},
   "outputs": [
    {
     "name": "stdout",
     "output_type": "stream",
     "text": [
      "A média da 1° semana foi de 375.80 pedidos\n",
      "A média da 2° semana foi de 397.80 pedidos\n",
      "A média da 3° semana foi de 391.20 pedidos\n",
      "A média da 4° semana foi de 381.80 pedidos\n",
      "A média da 5° semana foi de 388.40 pedidos\n",
      "A média da 6° semana foi de 379.00 pedidos\n",
      "A média da 7° semana foi de 400.60 pedidos\n",
      "A média da 8° semana foi de 388.40 pedidos\n",
      "A média da 9° semana foi de 408.20 pedidos\n",
      "A média da 10° semana foi de 395.40 pedidos\n",
      "A média da 11° semana foi de 394.80 pedidos\n",
      "A média da 12° semana foi de 394.80 pedidos\n",
      "A média da 13° semana foi de 391.20 pedidos\n",
      "A média da 14° semana foi de 402.80 pedidos\n",
      "A média da 15° semana foi de 384.00 pedidos\n",
      "A média da 16° semana foi de 397.60 pedidos\n",
      "A média da 17° semana foi de 401.20 pedidos\n",
      "A média da 18° semana foi de 396.80 pedidos\n",
      "A média da 19° semana foi de 389.40 pedidos\n",
      "A média da 20° semana foi de 392.00 pedidos\n",
      "A média da 21° semana foi de 417.80 pedidos\n",
      "A média da 22° semana foi de 422.20 pedidos\n",
      "A média da 23° semana foi de 421.40 pedidos\n",
      "A média da 24° semana foi de 418.20 pedidos\n"
     ]
    }
   ],
   "source": [
    "#Média por semana     ----- Dica: o argumento axis do numpy se refere ao eixo em que se aplica a função\n",
    "medias_semana =  ...\n",
    "\n",
    "semana = 0\n",
    "for i in ...\n",
    "    semana+=1\n",
    "    print('A média da {}° semana foi de {:.2f} pedidos'.format(semana, i))"
   ]
  },
  {
   "cell_type": "code",
   "execution_count": 97,
   "metadata": {},
   "outputs": [
    {
     "name": "stdout",
     "output_type": "stream",
     "text": [
      "O Desvio Padrão do 1° dia da semana foi de 413.08 pedidos\n",
      "O Desvio Padrão do 2° dia da semana foi de 400.92 pedidos\n",
      "O Desvio Padrão do 3° dia da semana foi de 404.29 pedidos\n",
      "O Desvio Padrão do 4° dia da semana foi de 406.58 pedidos\n",
      "O Desvio Padrão do 5° dia da semana foi de 360.71 pedidos\n"
     ]
    }
   ],
   "source": [
    "#Média por dia da semana\n",
    "media_dia = ...\n",
    "\n",
    "dia = 0\n",
    "for i ...\n",
    "    dia+=1\n",
    "    print('O Desvio Padrão do {}° dia da semana foi de {:.2f} pedidos'.format(dia, i))"
   ]
  },
  {
   "cell_type": "code",
   "execution_count": 5,
   "metadata": {},
   "outputs": [],
   "source": [
    "# Com as variáveis medias_semana e media_dia calculadas, execute essa célula para gerar os gráficos\n",
    "import matplotlib.pyplot as plt\n",
    "%matplotlib inline\n",
    "\n",
    "semana = ['seg','ter','qua','qui','sex']\n",
    "desvio = np.std(matriz, axis=0)\n",
    "\n",
    "plt.bar(semana, height=media_dia, yerr=desvio, error_kw=dict(elinewidth=5, ecolor='b'))\n",
    "plt.title('Média de pedidos por dia da semana')\n",
    "plt.ylabel('Pedidos')"
   ]
  },
  {
   "cell_type": "code",
   "execution_count": 7,
   "metadata": {},
   "outputs": [
    {
     "data": {
      "text/plain": [
       "\"plt.plot(medias_semana,  'go--', linewidth=2, markersize=12)\\nplt.title('Média de pedidos por semana')\\nplt.xlabel('Semana')\\nplt.ylabel('Pedidos')\""
      ]
     },
     "execution_count": 7,
     "metadata": {},
     "output_type": "execute_result"
    }
   ],
   "source": [
    "plt.plot(medias_semana,  'go--', linewidth=2, markersize=12)\n",
    "plt.title('Média de pedidos por semana')\n",
    "plt.xlabel('Semana')\n",
    "plt.ylabel('Pedidos')"
   ]
  },
  {
   "cell_type": "markdown",
   "metadata": {},
   "source": [
    "#### O que você conclui das últimas duas análises?\n",
    "\n",
    "##### Lembre-se, a parte mais imporante de um cientista de dados é interpretar as informações, e não apenas obtê-las"
   ]
  }
 ],
 "metadata": {
  "kernelspec": {
   "display_name": "Python 3",
   "language": "python",
   "name": "python3"
  },
  "language_info": {
   "codemirror_mode": {
    "name": "ipython",
    "version": 3
   },
   "file_extension": ".py",
   "mimetype": "text/x-python",
   "name": "python",
   "nbconvert_exporter": "python",
   "pygments_lexer": "ipython3",
   "version": "3.7.3"
  }
 },
 "nbformat": 4,
 "nbformat_minor": 2
}
