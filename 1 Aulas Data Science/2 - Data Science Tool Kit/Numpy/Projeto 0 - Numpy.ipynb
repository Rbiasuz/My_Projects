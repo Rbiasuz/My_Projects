{
 "cells": [
  {
   "cell_type": "markdown",
   "metadata": {},
   "source": [
    "## Projeto 0 (praticando NumPy)\n",
    "\n",
    "### Uma empresa lhe solicitou uma breve analise do seu volume de pedidos por dia"
   ]
  },
  {
   "cell_type": "code",
   "execution_count": 1,
   "metadata": {},
   "outputs": [],
   "source": [
    "import numpy as np"
   ]
  },
  {
   "cell_type": "markdown",
   "metadata": {},
   "source": [
    ">Você tem a lista (declarada abaixo) para trabalhar em sua empresa.\n",
    " Ela é gerada por um banco de dados, e corresponde ao volume de pedidos por dia.\n",
    " Considere que só existam dados de segunda até quinta e o primeiro valor é de uma segunda-feira\n",
    "    "
   ]
  },
  {
   "cell_type": "code",
   "execution_count": 2,
   "metadata": {},
   "outputs": [],
   "source": [
    "pedidos = [\n",
    "\n",
    "       389, 381, 380, 409, 390, 411, 391, 442, 427, 388, 446, 393, 415,\n",
    "       410, 350, 433, 357, 359, 384, 375, 400, 433, 468, 412, 352, 412,\n",
    "       359, 420, 393, 333, 433, 431, 419, 399, 385, 430, 389, 386, 447,\n",
    "       352, 400, 433, 423, 408, 377, 430, 404, 412, 428, 322, 428, 395,\n",
    "       430, 437, 358, 400, 449, 419, 387, 369, 398, 423, 388, 388, 359,\n",
    "       417, 371, 432, 429, 365, 405, 377, 361, 421, 356, 408, 383, 403,\n",
    "       417, 377, 398, 430, 425, 395, 358, 424, 442, 384, 389, 389, 358,\n",
    "       353, 389, 372, 389, 357, 398, 391, 381, 368, 412, 405, 368, 413,\n",
    "       398, 403, 423, 443, 372, 359, 389, 399, 432, 430, 388, 405, 386,\n",
    "       379, 396, 367\n",
    "\n",
    "]"
   ]
  },
  {
   "cell_type": "markdown",
   "metadata": {},
   "source": [
    ">Qual o valor da média, da soma total e do desvio padrão dos pedidos?"
   ]
  },
  {
   "cell_type": "code",
   "execution_count": 19,
   "metadata": {},
   "outputs": [
    {
     "name": "stdout",
     "output_type": "stream",
     "text": [
      "a média é 400.22 pedidos por dia\n"
     ]
    }
   ],
   "source": [
    "#Seu Código Aqui\n",
    "media = #Seu Código Aqui\n",
    "print('a média é {:.2f} pedidos por dia'.format(media))"
   ]
  },
  {
   "cell_type": "code",
   "execution_count": 20,
   "metadata": {},
   "outputs": [
    {
     "name": "stdout",
     "output_type": "stream",
     "text": [
      "a soma total é 48026 pedidos\n"
     ]
    }
   ],
   "source": [
    "soma = #Seu Código Aqui\n",
    "print('a soma total é {} pedidos'.format(soma))"
   ]
  },
  {
   "cell_type": "code",
   "execution_count": 25,
   "metadata": {},
   "outputs": [
    {
     "name": "stdout",
     "output_type": "stream",
     "text": [
      "Desvio Padrão = 27.17 pedidos\n"
     ]
    }
   ],
   "source": [
    "desvio = #Seu Código Aqui\n",
    "print('Desvio Padrão = {:.2f} pedidos'.format(desvio))"
   ]
  },
  {
   "cell_type": "markdown",
   "metadata": {},
   "source": [
    ">Qual foi o maior e o menor número de pedidos?\n",
    " E depois de quantos dias isso aconteceu?"
   ]
  },
  {
   "cell_type": "code",
   "execution_count": 71,
   "metadata": {},
   "outputs": [
    {
     "name": "stdout",
     "output_type": "stream",
     "text": [
      "o maior número de pedidos foi de 468 no 23° dia\n"
     ]
    }
   ],
   "source": [
    "maior = #Seu Código Aqui\n",
    "dia = #Seu Código Aqui\n",
    "print('o maior número de pedidos foi de {} no {}° dia'.format(maior, dia+1))"
   ]
  },
  {
   "cell_type": "code",
   "execution_count": 70,
   "metadata": {},
   "outputs": [
    {
     "name": "stdout",
     "output_type": "stream",
     "text": [
      "o menor número de pedidos foi de 322 no 50° dia\n"
     ]
    }
   ],
   "source": [
    "menor = #Seu Código Aqui\n",
    "dia = #Seu Código Aqui\n",
    "print('o menor número de pedidos foi de {} no {}° dia'.format(menor, dia+1))"
   ]
  },
  {
   "cell_type": "markdown",
   "metadata": {},
   "source": [
    "    \n",
    ">Para melhor visualizar a informação, você agora pretende deixar em um formato de matriz.\n",
    "   \n",
    "    Nessa matriz, cada coluna representa um dia da semana (seg, ter, qua, qui, sex)\n",
    "\n",
    ">Além disso, recalcule a média e o desvio para cada dia da semana"
   ]
  },
  {
   "cell_type": "code",
   "execution_count": 72,
   "metadata": {},
   "outputs": [
    {
     "name": "stdout",
     "output_type": "stream",
     "text": [
      "[[389 381 380 409 390]\n",
      " [411 391 442 427 388]\n",
      " [446 393 375 365 399]\n",
      " [433 357 359 384 375]\n",
      " [386 433 468 372 352]\n",
      " [350 359 420 393 333]\n",
      " [433 431 419 366 385]\n",
      " [430 352 371 447 352]\n",
      " [400 433 423 408 391]\n",
      " [430 404 412 428 322]\n",
      " [428 395 430 437 358]\n",
      " [400 449 419 387 369]\n",
      " [398 423 365 376 396]\n",
      " [417 355 432 429 365]\n",
      " [405 356 361 421 356]\n",
      " [408 383 403 417 380]\n",
      " [398 430 425 395 358]\n",
      " [424 442 384 389 389]\n",
      " [358 353 389 372 389]\n",
      " [357 398 357 381 368]\n",
      " [412 405 368 413 366]\n",
      " [366 423 443 372 359]\n",
      " [374 399 432 430 388]\n",
      " [405 386 369 396 373]]\n"
     ]
    }
   ],
   "source": [
    "matriz = #Seu Código Aqui\n",
    "print(matriz)"
   ]
  },
  {
   "cell_type": "code",
   "execution_count": 77,
   "metadata": {},
   "outputs": [
    {
     "name": "stdout",
     "output_type": "stream",
     "text": [
      "A média do 1° dia da semana foi de 402.42 pedidos\n",
      "A média do 2° dia da semana foi de 397.12 pedidos\n",
      "A média do 3° dia da semana foi de 401.92 pedidos\n",
      "A média do 4° dia da semana foi de 400.58 pedidos\n",
      "A média do 5° dia da semana foi de 370.88 pedidos\n"
     ]
    }
   ],
   "source": [
    "médias = #Seu Código Aqui\n",
    "\n",
    "aux = 0\n",
    "for #Seu Código Aqui\n",
    "    aux+=1\n",
    "    print('A média do {}° dia da semana foi de {:.2f} pedidos'.format(aux, i))"
   ]
  },
  {
   "cell_type": "code",
   "execution_count": 78,
   "metadata": {},
   "outputs": [
    {
     "name": "stdout",
     "output_type": "stream",
     "text": [
      "O Desvio Padrão do 1° dia da semana foi de 26.02 pedidos\n",
      "O Desvio Padrão do 2° dia da semana foi de 30.36 pedidos\n",
      "O Desvio Padrão do 3° dia da semana foi de 31.64 pedidos\n",
      "O Desvio Padrão do 4° dia da semana foi de 24.30 pedidos\n",
      "O Desvio Padrão do 5° dia da semana foi de 19.41 pedidos\n"
     ]
    }
   ],
   "source": [
    "desvios = #Seu Código Aqui\n",
    "\n",
    "aux = 0\n",
    "for #Seu Código Aqui\n",
    "    aux+=1\n",
    "    print('O Desvio Padrão do {}° dia da semana foi de {:.2f} pedidos'.format(aux, i))"
   ]
  },
  {
   "cell_type": "markdown",
   "metadata": {},
   "source": [
    "#### O que você conclui das últimas duas análises?\n",
    "\n",
    "##### Lembre-se, a parte mais imporante de um cientista de dados é interpretar as informações, e não apenas obtê-las"
   ]
  },
  {
   "cell_type": "markdown",
   "metadata": {},
   "source": [
    "Escreva aqui seus comentários"
   ]
  }
 ],
 "metadata": {
  "kernelspec": {
   "display_name": "Python 3",
   "language": "python",
   "name": "python3"
  },
  "language_info": {
   "codemirror_mode": {
    "name": "ipython",
    "version": 3
   },
   "file_extension": ".py",
   "mimetype": "text/x-python",
   "name": "python",
   "nbconvert_exporter": "python",
   "pygments_lexer": "ipython3",
   "version": "3.6.8"
  }
 },
 "nbformat": 4,
 "nbformat_minor": 2
}
