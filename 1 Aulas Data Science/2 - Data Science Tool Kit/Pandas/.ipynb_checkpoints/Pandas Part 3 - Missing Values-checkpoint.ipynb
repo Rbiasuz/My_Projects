{
 "cells": [
  {
   "cell_type": "markdown",
   "metadata": {},
   "source": [
    "# Missing Values\n",
    "\n",
    "#### Quando trabalhamos com dados reais, raramente temos o que chamamos de um \"Tidy DataFrame\", ou seja, um banco de dados organizado e limpo...\n",
    "\n",
    "#### Um dos problemas mais comuns são ausência de dados... Mais adiante, quando começarmos a parte de Machine Learning, 1 campo vazio pode resultar no erro de toda análise\n",
    "\n",
    "#### Vamos descobrir como investigar, analisar e tratar esse problema frequente"
   ]
  },
  {
   "cell_type": "markdown",
   "metadata": {},
   "source": [
    "![detec](https://blog.jovempan.uol.com.br/paulacarvalho/wp-content/uploads/sites/14/2019/05/20190507-detective-pikachu-pokemon-movie-ryan-reynolds.jpg)"
   ]
  },
  {
   "cell_type": "code",
   "execution_count": 11,
   "metadata": {},
   "outputs": [
    {
     "name": "stdout",
     "output_type": "stream",
     "text": [
      "(227, 20)\n"
     ]
    },
    {
     "data": {
      "text/html": [
       "<div>\n",
       "<style scoped>\n",
       "    .dataframe tbody tr th:only-of-type {\n",
       "        vertical-align: middle;\n",
       "    }\n",
       "\n",
       "    .dataframe tbody tr th {\n",
       "        vertical-align: top;\n",
       "    }\n",
       "\n",
       "    .dataframe thead th {\n",
       "        text-align: right;\n",
       "    }\n",
       "</style>\n",
       "<table border=\"1\" class=\"dataframe\">\n",
       "  <thead>\n",
       "    <tr style=\"text-align: right;\">\n",
       "      <th></th>\n",
       "      <th>Country</th>\n",
       "      <th>Region</th>\n",
       "      <th>Population</th>\n",
       "      <th>Area (sq. mi.)</th>\n",
       "      <th>Pop. Density (per sq. mi.)</th>\n",
       "      <th>Coastline (coast/area ratio)</th>\n",
       "      <th>Net migration</th>\n",
       "      <th>Infant mortality (per 1000 births)</th>\n",
       "      <th>GDP ($ per capita)</th>\n",
       "      <th>Literacy (%)</th>\n",
       "      <th>Phones (per 1000)</th>\n",
       "      <th>Arable (%)</th>\n",
       "      <th>Crops (%)</th>\n",
       "      <th>Other (%)</th>\n",
       "      <th>Climate</th>\n",
       "      <th>Birthrate</th>\n",
       "      <th>Deathrate</th>\n",
       "      <th>Agriculture</th>\n",
       "      <th>Industry</th>\n",
       "      <th>Service</th>\n",
       "    </tr>\n",
       "  </thead>\n",
       "  <tbody>\n",
       "    <tr>\n",
       "      <th>0</th>\n",
       "      <td>Afghanistan</td>\n",
       "      <td>ASIA (EX. NEAR EAST)</td>\n",
       "      <td>31056997</td>\n",
       "      <td>647500</td>\n",
       "      <td>48.0</td>\n",
       "      <td>0.00</td>\n",
       "      <td>23.06</td>\n",
       "      <td>163.07</td>\n",
       "      <td>700.0</td>\n",
       "      <td>36.0</td>\n",
       "      <td>3.2</td>\n",
       "      <td>12.13</td>\n",
       "      <td>0.22</td>\n",
       "      <td>87.65</td>\n",
       "      <td>1.0</td>\n",
       "      <td>46.60</td>\n",
       "      <td>20.34</td>\n",
       "      <td>0.380</td>\n",
       "      <td>0.240</td>\n",
       "      <td>0.380</td>\n",
       "    </tr>\n",
       "    <tr>\n",
       "      <th>1</th>\n",
       "      <td>Albania</td>\n",
       "      <td>EASTERN EUROPE</td>\n",
       "      <td>3581655</td>\n",
       "      <td>28748</td>\n",
       "      <td>124.6</td>\n",
       "      <td>1.26</td>\n",
       "      <td>-4.93</td>\n",
       "      <td>21.52</td>\n",
       "      <td>4500.0</td>\n",
       "      <td>86.5</td>\n",
       "      <td>71.2</td>\n",
       "      <td>21.09</td>\n",
       "      <td>4.42</td>\n",
       "      <td>74.49</td>\n",
       "      <td>3.0</td>\n",
       "      <td>15.11</td>\n",
       "      <td>5.22</td>\n",
       "      <td>0.232</td>\n",
       "      <td>0.188</td>\n",
       "      <td>0.579</td>\n",
       "    </tr>\n",
       "    <tr>\n",
       "      <th>2</th>\n",
       "      <td>Algeria</td>\n",
       "      <td>NORTHERN AFRICA</td>\n",
       "      <td>32930091</td>\n",
       "      <td>2381740</td>\n",
       "      <td>13.8</td>\n",
       "      <td>0.04</td>\n",
       "      <td>-0.39</td>\n",
       "      <td>31.00</td>\n",
       "      <td>6000.0</td>\n",
       "      <td>70.0</td>\n",
       "      <td>78.1</td>\n",
       "      <td>3.22</td>\n",
       "      <td>0.25</td>\n",
       "      <td>96.53</td>\n",
       "      <td>1.0</td>\n",
       "      <td>17.14</td>\n",
       "      <td>4.61</td>\n",
       "      <td>0.101</td>\n",
       "      <td>0.600</td>\n",
       "      <td>0.298</td>\n",
       "    </tr>\n",
       "    <tr>\n",
       "      <th>3</th>\n",
       "      <td>American Samoa</td>\n",
       "      <td>OCEANIA</td>\n",
       "      <td>57794</td>\n",
       "      <td>199</td>\n",
       "      <td>290.4</td>\n",
       "      <td>58.29</td>\n",
       "      <td>-20.71</td>\n",
       "      <td>9.27</td>\n",
       "      <td>8000.0</td>\n",
       "      <td>97.0</td>\n",
       "      <td>259.5</td>\n",
       "      <td>10.00</td>\n",
       "      <td>15.00</td>\n",
       "      <td>75.00</td>\n",
       "      <td>2.0</td>\n",
       "      <td>22.46</td>\n",
       "      <td>3.27</td>\n",
       "      <td>NaN</td>\n",
       "      <td>NaN</td>\n",
       "      <td>NaN</td>\n",
       "    </tr>\n",
       "    <tr>\n",
       "      <th>4</th>\n",
       "      <td>Andorra</td>\n",
       "      <td>WESTERN EUROPE</td>\n",
       "      <td>71201</td>\n",
       "      <td>468</td>\n",
       "      <td>152.1</td>\n",
       "      <td>0.00</td>\n",
       "      <td>6.60</td>\n",
       "      <td>4.05</td>\n",
       "      <td>19000.0</td>\n",
       "      <td>100.0</td>\n",
       "      <td>497.2</td>\n",
       "      <td>2.22</td>\n",
       "      <td>0.00</td>\n",
       "      <td>97.78</td>\n",
       "      <td>3.0</td>\n",
       "      <td>8.71</td>\n",
       "      <td>6.25</td>\n",
       "      <td>NaN</td>\n",
       "      <td>NaN</td>\n",
       "      <td>NaN</td>\n",
       "    </tr>\n",
       "  </tbody>\n",
       "</table>\n",
       "</div>"
      ],
      "text/plain": [
       "           Country                               Region  Population  \\\n",
       "0     Afghanistan         ASIA (EX. NEAR EAST)             31056997   \n",
       "1         Albania   EASTERN EUROPE                          3581655   \n",
       "2         Algeria   NORTHERN AFRICA                        32930091   \n",
       "3  American Samoa   OCEANIA                                   57794   \n",
       "4         Andorra   WESTERN EUROPE                            71201   \n",
       "\n",
       "   Area (sq. mi.)  Pop. Density (per sq. mi.)  Coastline (coast/area ratio)  \\\n",
       "0          647500                        48.0                          0.00   \n",
       "1           28748                       124.6                          1.26   \n",
       "2         2381740                        13.8                          0.04   \n",
       "3             199                       290.4                         58.29   \n",
       "4             468                       152.1                          0.00   \n",
       "\n",
       "   Net migration  Infant mortality (per 1000 births)  GDP ($ per capita)  \\\n",
       "0          23.06                              163.07               700.0   \n",
       "1          -4.93                               21.52              4500.0   \n",
       "2          -0.39                               31.00              6000.0   \n",
       "3         -20.71                                9.27              8000.0   \n",
       "4           6.60                                4.05             19000.0   \n",
       "\n",
       "   Literacy (%)  Phones (per 1000)  Arable (%)  Crops (%)  Other (%)  Climate  \\\n",
       "0          36.0                3.2       12.13       0.22      87.65      1.0   \n",
       "1          86.5               71.2       21.09       4.42      74.49      3.0   \n",
       "2          70.0               78.1        3.22       0.25      96.53      1.0   \n",
       "3          97.0              259.5       10.00      15.00      75.00      2.0   \n",
       "4         100.0              497.2        2.22       0.00      97.78      3.0   \n",
       "\n",
       "   Birthrate  Deathrate  Agriculture  Industry  Service  \n",
       "0      46.60      20.34        0.380     0.240    0.380  \n",
       "1      15.11       5.22        0.232     0.188    0.579  \n",
       "2      17.14       4.61        0.101     0.600    0.298  \n",
       "3      22.46       3.27          NaN       NaN      NaN  \n",
       "4       8.71       6.25          NaN       NaN      NaN  "
      ]
     },
     "execution_count": 11,
     "metadata": {},
     "output_type": "execute_result"
    }
   ],
   "source": [
    "#primeiro, carregando as bibliotecas e carregando um banco de dados:\n",
    "import numpy as np\n",
    "import pandas as pd\n",
    "\n",
    "df = pd.read_csv('countries of the world.csv', decimal=',')\n",
    "print(df.shape)\n",
    "df.head()"
   ]
  },
  {
   "cell_type": "code",
   "execution_count": 12,
   "metadata": {},
   "outputs": [
    {
     "data": {
      "text/plain": [
       "Country                                0\n",
       "Region                                 0\n",
       "Population                             0\n",
       "Area (sq. mi.)                         0\n",
       "Pop. Density (per sq. mi.)             0\n",
       "Coastline (coast/area ratio)           0\n",
       "Net migration                          3\n",
       "Infant mortality (per 1000 births)     3\n",
       "GDP ($ per capita)                     1\n",
       "Literacy (%)                          18\n",
       "Phones (per 1000)                      4\n",
       "Arable (%)                             2\n",
       "Crops (%)                              2\n",
       "Other (%)                              2\n",
       "Climate                               22\n",
       "Birthrate                              3\n",
       "Deathrate                              4\n",
       "Agriculture                           15\n",
       "Industry                              16\n",
       "Service                               15\n",
       "dtype: int64"
      ]
     },
     "execution_count": 12,
     "metadata": {},
     "output_type": "execute_result"
    }
   ],
   "source": [
    "#Verificando valores nulos por coluna\n",
    "\n",
    "missing_values_count = df.isnull().sum()\n",
    "missing_values_count"
   ]
  },
  {
   "cell_type": "markdown",
   "metadata": {},
   "source": [
    "### Removendo os valores ausentes:"
   ]
  },
  {
   "cell_type": "code",
   "execution_count": 13,
   "metadata": {},
   "outputs": [],
   "source": [
    "#Nossa primeira opção é remover todos os valores ausentes, usando o método \"dropna\"\n",
    "df_corrigido = df.dropna()"
   ]
  },
  {
   "cell_type": "code",
   "execution_count": 14,
   "metadata": {},
   "outputs": [
    {
     "name": "stdout",
     "output_type": "stream",
     "text": [
      "(179, 20)\n"
     ]
    },
    {
     "data": {
      "text/plain": [
       "Country                               0\n",
       "Region                                0\n",
       "Population                            0\n",
       "Area (sq. mi.)                        0\n",
       "Pop. Density (per sq. mi.)            0\n",
       "Coastline (coast/area ratio)          0\n",
       "Net migration                         0\n",
       "Infant mortality (per 1000 births)    0\n",
       "GDP ($ per capita)                    0\n",
       "Literacy (%)                          0\n",
       "Phones (per 1000)                     0\n",
       "Arable (%)                            0\n",
       "Crops (%)                             0\n",
       "Other (%)                             0\n",
       "Climate                               0\n",
       "Birthrate                             0\n",
       "Deathrate                             0\n",
       "Agriculture                           0\n",
       "Industry                              0\n",
       "Service                               0\n",
       "dtype: int64"
      ]
     },
     "execution_count": 14,
     "metadata": {},
     "output_type": "execute_result"
    }
   ],
   "source": [
    "print(df_corrigido.shape)\n",
    "missing_values_count = df_corrigido.isnull().sum()\n",
    "missing_values_count"
   ]
  },
  {
   "cell_type": "markdown",
   "metadata": {},
   "source": [
    "### Duas coisas aconteceram: Não temos nenhum dado vazio, o que é ótimo, porém de 227 linhas fomos para 179, ou seja, perdemos toda a informação de 48 países"
   ]
  },
  {
   "cell_type": "code",
   "execution_count": 15,
   "metadata": {},
   "outputs": [],
   "source": [
    "#O método \"dropna\" tem por default o padrão axis = 0 (remove toda a linha), outra opção seria remover a coluna.\n",
    "#Para isso, usamos axis = 1\n",
    "df_corrigido = df.dropna(axis=1)"
   ]
  },
  {
   "cell_type": "code",
   "execution_count": 16,
   "metadata": {},
   "outputs": [
    {
     "name": "stdout",
     "output_type": "stream",
     "text": [
      "(227, 6)\n"
     ]
    },
    {
     "data": {
      "text/plain": [
       "Country                         0\n",
       "Region                          0\n",
       "Population                      0\n",
       "Area (sq. mi.)                  0\n",
       "Pop. Density (per sq. mi.)      0\n",
       "Coastline (coast/area ratio)    0\n",
       "dtype: int64"
      ]
     },
     "execution_count": 16,
     "metadata": {},
     "output_type": "execute_result"
    }
   ],
   "source": [
    "print(df_corrigido.shape)\n",
    "missing_values_count = df_corrigido.isnull().sum()\n",
    "missing_values_count"
   ]
  },
  {
   "cell_type": "markdown",
   "metadata": {},
   "source": [
    "### Agora temos os 227 paises, porém nossas colunas diminuiram de 20 para 6!!"
   ]
  },
  {
   "cell_type": "markdown",
   "metadata": {},
   "source": [
    "### Outra opção é, no lugar de remover os dados inexistentes, preencher esses valores com alguma informação:\n",
    "\n",
    "## Filling in missing values"
   ]
  },
  {
   "cell_type": "code",
   "execution_count": 17,
   "metadata": {},
   "outputs": [],
   "source": [
    "# Podemos, por exemplo, preencher todos os valores vazios com algo específico, utilizando o método 'fillna'\n",
    "# Nesse caso, utilizamos 'zero':\n",
    "\n",
    "df_corrigido = df.fillna(0)"
   ]
  },
  {
   "cell_type": "code",
   "execution_count": 18,
   "metadata": {},
   "outputs": [
    {
     "name": "stdout",
     "output_type": "stream",
     "text": [
      "(227, 20)\n"
     ]
    },
    {
     "data": {
      "text/plain": [
       "Country                               0\n",
       "Region                                0\n",
       "Population                            0\n",
       "Area (sq. mi.)                        0\n",
       "Pop. Density (per sq. mi.)            0\n",
       "Coastline (coast/area ratio)          0\n",
       "Net migration                         0\n",
       "Infant mortality (per 1000 births)    0\n",
       "GDP ($ per capita)                    0\n",
       "Literacy (%)                          0\n",
       "Phones (per 1000)                     0\n",
       "Arable (%)                            0\n",
       "Crops (%)                             0\n",
       "Other (%)                             0\n",
       "Climate                               0\n",
       "Birthrate                             0\n",
       "Deathrate                             0\n",
       "Agriculture                           0\n",
       "Industry                              0\n",
       "Service                               0\n",
       "dtype: int64"
      ]
     },
     "execution_count": 18,
     "metadata": {},
     "output_type": "execute_result"
    }
   ],
   "source": [
    "print(df_corrigido.shape)\n",
    "missing_values_count = df_corrigido.isnull().sum()\n",
    "missing_values_count"
   ]
  },
  {
   "cell_type": "markdown",
   "metadata": {},
   "source": [
    "## Perfeito! Todas linhas, todas as colunas e sem nehhum valor ausente!!\n",
    "\n",
    "#### Só que..."
   ]
  },
  {
   "cell_type": "code",
   "execution_count": 21,
   "metadata": {},
   "outputs": [
    {
     "name": "stdout",
     "output_type": "stream",
     "text": [
      "original:\n",
      "\n",
      "count    209.000000\n",
      "mean      82.838278\n",
      "std       19.722173\n",
      "min       17.600000\n",
      "25%       70.600000\n",
      "50%       92.500000\n",
      "75%       98.000000\n",
      "max      100.000000\n",
      "Name: Literacy (%), dtype: float64\n",
      "\n",
      "alterado\n",
      "\n",
      "count    227.000000\n",
      "mean      76.269604\n",
      "std       29.346066\n",
      "min        0.000000\n",
      "25%       62.950000\n",
      "50%       90.300000\n",
      "75%       97.800000\n",
      "max      100.000000\n",
      "Name: Literacy (%), dtype: float64\n"
     ]
    }
   ],
   "source": [
    "original = df['Literacy (%)'].describe()\n",
    "alterado = df_corrigido['Literacy (%)'].describe()\n",
    "\n",
    "print('original:')\n",
    "print('')\n",
    "print(original)\n",
    "print('')\n",
    "print('alterado')\n",
    "print('')\n",
    "print(alterado)\n"
   ]
  },
  {
   "cell_type": "markdown",
   "metadata": {},
   "source": [
    "### Outras opções:"
   ]
  },
  {
   "cell_type": "code",
   "execution_count": 12,
   "metadata": {},
   "outputs": [
    {
     "data": {
      "text/plain": [
       "count    227.000000\n",
       "mean      82.838278\n",
       "std       18.920483\n",
       "min       17.600000\n",
       "25%       76.400000\n",
       "50%       90.300000\n",
       "75%       97.800000\n",
       "max      100.000000\n",
       "Name: Literacy (%), dtype: float64"
      ]
     },
     "execution_count": 12,
     "metadata": {},
     "output_type": "execute_result"
    }
   ],
   "source": [
    "# Preenchendo com a média da coluna:\n",
    "\n",
    "df_corrigido['Literacy (%)'] = df['Literacy (%)'].fillna(df['Literacy (%)'].mean())\n",
    "df_corrigido['Literacy (%)'].describe()"
   ]
  },
  {
   "cell_type": "code",
   "execution_count": 58,
   "metadata": {},
   "outputs": [
    {
     "data": {
      "text/plain": [
       "count    227.000000\n",
       "mean      83.604405\n",
       "std       19.100523\n",
       "min       17.600000\n",
       "25%       76.400000\n",
       "50%       92.500000\n",
       "75%       97.800000\n",
       "max      100.000000\n",
       "Name: Literacy (%), dtype: float64"
      ]
     },
     "execution_count": 58,
     "metadata": {},
     "output_type": "execute_result"
    }
   ],
   "source": [
    "# Preenchendo com a mediana da coluna:\n",
    "\n",
    "df_corrigido['Literacy (%)'] = df['Literacy (%)'].fillna(df['Literacy (%)'].median())\n",
    "df_corrigido['Literacy (%)'].describe()"
   ]
  },
  {
   "cell_type": "code",
   "execution_count": 23,
   "metadata": {},
   "outputs": [
    {
     "data": {
      "text/plain": [
       "count    227.000000\n",
       "mean      82.233040\n",
       "std       20.147248\n",
       "min       17.600000\n",
       "25%       69.900000\n",
       "50%       92.200000\n",
       "75%       98.000000\n",
       "max      100.000000\n",
       "Name: Literacy (%), dtype: float64"
      ]
     },
     "execution_count": 23,
     "metadata": {},
     "output_type": "execute_result"
    }
   ],
   "source": [
    "# Preenchendo com o mesmo valor da linha de baixo:\n",
    "\n",
    "df_corrigido['Literacy (%)'] = df['Literacy (%)'].fillna(method = 'bfill', axis=0)\n",
    "df_corrigido['Literacy (%)'].describe()"
   ]
  },
  {
   "cell_type": "code",
   "execution_count": 22,
   "metadata": {},
   "outputs": [
    {
     "data": {
      "text/plain": [
       "count    227.000000\n",
       "mean      82.611454\n",
       "std       19.759614\n",
       "min       17.600000\n",
       "25%       70.600000\n",
       "50%       92.200000\n",
       "75%       98.000000\n",
       "max      100.000000\n",
       "Name: Literacy (%), dtype: float64"
      ]
     },
     "execution_count": 22,
     "metadata": {},
     "output_type": "execute_result"
    }
   ],
   "source": [
    "# Preenchendo com o mesmo valor da linha de cima:\n",
    "\n",
    "df_corrigido['Literacy (%)'] = df['Literacy (%)'].fillna(method = 'ffill', axis=0)\n",
    "df_corrigido['Literacy (%)'].describe()"
   ]
  },
  {
   "cell_type": "markdown",
   "metadata": {},
   "source": [
    "### Cuidado com os valores errados 'escondidos'"
   ]
  },
  {
   "cell_type": "code",
   "execution_count": 28,
   "metadata": {},
   "outputs": [
    {
     "data": {
      "text/html": [
       "<div>\n",
       "<style scoped>\n",
       "    .dataframe tbody tr th:only-of-type {\n",
       "        vertical-align: middle;\n",
       "    }\n",
       "\n",
       "    .dataframe tbody tr th {\n",
       "        vertical-align: top;\n",
       "    }\n",
       "\n",
       "    .dataframe thead th {\n",
       "        text-align: right;\n",
       "    }\n",
       "</style>\n",
       "<table border=\"1\" class=\"dataframe\">\n",
       "  <thead>\n",
       "    <tr style=\"text-align: right;\">\n",
       "      <th></th>\n",
       "      <th>teste</th>\n",
       "      <th>null??</th>\n",
       "    </tr>\n",
       "  </thead>\n",
       "  <tbody>\n",
       "    <tr>\n",
       "      <th>0</th>\n",
       "      <td>1</td>\n",
       "      <td>False</td>\n",
       "    </tr>\n",
       "    <tr>\n",
       "      <th>1</th>\n",
       "      <td>None</td>\n",
       "      <td>True</td>\n",
       "    </tr>\n",
       "    <tr>\n",
       "      <th>2</th>\n",
       "      <td>3</td>\n",
       "      <td>False</td>\n",
       "    </tr>\n",
       "    <tr>\n",
       "      <th>3</th>\n",
       "      <td>None</td>\n",
       "      <td>True</td>\n",
       "    </tr>\n",
       "    <tr>\n",
       "      <th>4</th>\n",
       "      <td>5</td>\n",
       "      <td>False</td>\n",
       "    </tr>\n",
       "    <tr>\n",
       "      <th>5</th>\n",
       "      <td>Na</td>\n",
       "      <td>False</td>\n",
       "    </tr>\n",
       "    <tr>\n",
       "      <th>6</th>\n",
       "      <td>N/A</td>\n",
       "      <td>False</td>\n",
       "    </tr>\n",
       "    <tr>\n",
       "      <th>7</th>\n",
       "      <td>8</td>\n",
       "      <td>False</td>\n",
       "    </tr>\n",
       "    <tr>\n",
       "      <th>8</th>\n",
       "      <td>NaN</td>\n",
       "      <td>True</td>\n",
       "    </tr>\n",
       "    <tr>\n",
       "      <th>9</th>\n",
       "      <td>10</td>\n",
       "      <td>False</td>\n",
       "    </tr>\n",
       "    <tr>\n",
       "      <th>10</th>\n",
       "      <td>NaN</td>\n",
       "      <td>True</td>\n",
       "    </tr>\n",
       "  </tbody>\n",
       "</table>\n",
       "</div>"
      ],
      "text/plain": [
       "   teste  null??\n",
       "0      1   False\n",
       "1   None    True\n",
       "2      3   False\n",
       "3   None    True\n",
       "4      5   False\n",
       "5     Na   False\n",
       "6    N/A   False\n",
       "7      8   False\n",
       "8    NaN    True\n",
       "9     10   False\n",
       "10   NaN    True"
      ]
     },
     "execution_count": 28,
     "metadata": {},
     "output_type": "execute_result"
    }
   ],
   "source": [
    "#NaN não detectáveis por pandas:\n",
    "df_teste = pd.DataFrame()\n",
    "df_teste['teste'] = [1,None,3,None, 5,'Na','N/A',8,np.NaN,10, np.NaN]\n",
    "df_teste['null??'] = df_teste['teste'].isnull()\n",
    "df_teste"
   ]
  },
  {
   "cell_type": "code",
   "execution_count": 29,
   "metadata": {},
   "outputs": [],
   "source": [
    "missing_values = [\"n/a\", \"na\", \"N/A\", 'NA', \"Na\"]\n",
    "df_teste['teste'].replace(missing_values, np.NaN, inplace=True)"
   ]
  },
  {
   "cell_type": "code",
   "execution_count": 30,
   "metadata": {},
   "outputs": [
    {
     "data": {
      "text/html": [
       "<div>\n",
       "<style scoped>\n",
       "    .dataframe tbody tr th:only-of-type {\n",
       "        vertical-align: middle;\n",
       "    }\n",
       "\n",
       "    .dataframe tbody tr th {\n",
       "        vertical-align: top;\n",
       "    }\n",
       "\n",
       "    .dataframe thead th {\n",
       "        text-align: right;\n",
       "    }\n",
       "</style>\n",
       "<table border=\"1\" class=\"dataframe\">\n",
       "  <thead>\n",
       "    <tr style=\"text-align: right;\">\n",
       "      <th></th>\n",
       "      <th>teste</th>\n",
       "      <th>null??</th>\n",
       "    </tr>\n",
       "  </thead>\n",
       "  <tbody>\n",
       "    <tr>\n",
       "      <th>0</th>\n",
       "      <td>1.0</td>\n",
       "      <td>False</td>\n",
       "    </tr>\n",
       "    <tr>\n",
       "      <th>1</th>\n",
       "      <td>NaN</td>\n",
       "      <td>True</td>\n",
       "    </tr>\n",
       "    <tr>\n",
       "      <th>2</th>\n",
       "      <td>3.0</td>\n",
       "      <td>False</td>\n",
       "    </tr>\n",
       "    <tr>\n",
       "      <th>3</th>\n",
       "      <td>NaN</td>\n",
       "      <td>True</td>\n",
       "    </tr>\n",
       "    <tr>\n",
       "      <th>4</th>\n",
       "      <td>5.0</td>\n",
       "      <td>False</td>\n",
       "    </tr>\n",
       "    <tr>\n",
       "      <th>5</th>\n",
       "      <td>NaN</td>\n",
       "      <td>True</td>\n",
       "    </tr>\n",
       "    <tr>\n",
       "      <th>6</th>\n",
       "      <td>NaN</td>\n",
       "      <td>True</td>\n",
       "    </tr>\n",
       "    <tr>\n",
       "      <th>7</th>\n",
       "      <td>8.0</td>\n",
       "      <td>False</td>\n",
       "    </tr>\n",
       "    <tr>\n",
       "      <th>8</th>\n",
       "      <td>NaN</td>\n",
       "      <td>True</td>\n",
       "    </tr>\n",
       "    <tr>\n",
       "      <th>9</th>\n",
       "      <td>10.0</td>\n",
       "      <td>False</td>\n",
       "    </tr>\n",
       "    <tr>\n",
       "      <th>10</th>\n",
       "      <td>NaN</td>\n",
       "      <td>True</td>\n",
       "    </tr>\n",
       "  </tbody>\n",
       "</table>\n",
       "</div>"
      ],
      "text/plain": [
       "    teste  null??\n",
       "0     1.0   False\n",
       "1     NaN    True\n",
       "2     3.0   False\n",
       "3     NaN    True\n",
       "4     5.0   False\n",
       "5     NaN    True\n",
       "6     NaN    True\n",
       "7     8.0   False\n",
       "8     NaN    True\n",
       "9    10.0   False\n",
       "10    NaN    True"
      ]
     },
     "execution_count": 30,
     "metadata": {},
     "output_type": "execute_result"
    }
   ],
   "source": [
    "df_teste['null??'] = df_teste['teste'].isnull()\n",
    "df_teste[['teste', 'null??']]"
   ]
  },
  {
   "cell_type": "code",
   "execution_count": 31,
   "metadata": {},
   "outputs": [
    {
     "data": {
      "text/html": [
       "<div>\n",
       "<style scoped>\n",
       "    .dataframe tbody tr th:only-of-type {\n",
       "        vertical-align: middle;\n",
       "    }\n",
       "\n",
       "    .dataframe tbody tr th {\n",
       "        vertical-align: top;\n",
       "    }\n",
       "\n",
       "    .dataframe thead th {\n",
       "        text-align: right;\n",
       "    }\n",
       "</style>\n",
       "<table border=\"1\" class=\"dataframe\">\n",
       "  <thead>\n",
       "    <tr style=\"text-align: right;\">\n",
       "      <th></th>\n",
       "      <th>teste</th>\n",
       "      <th>null??</th>\n",
       "    </tr>\n",
       "  </thead>\n",
       "  <tbody>\n",
       "    <tr>\n",
       "      <th>0</th>\n",
       "      <td>1.0</td>\n",
       "      <td>False</td>\n",
       "    </tr>\n",
       "    <tr>\n",
       "      <th>1</th>\n",
       "      <td>5.0</td>\n",
       "      <td>True</td>\n",
       "    </tr>\n",
       "    <tr>\n",
       "      <th>2</th>\n",
       "      <td>3.0</td>\n",
       "      <td>False</td>\n",
       "    </tr>\n",
       "    <tr>\n",
       "      <th>3</th>\n",
       "      <td>5.0</td>\n",
       "      <td>True</td>\n",
       "    </tr>\n",
       "    <tr>\n",
       "      <th>4</th>\n",
       "      <td>5.0</td>\n",
       "      <td>False</td>\n",
       "    </tr>\n",
       "    <tr>\n",
       "      <th>5</th>\n",
       "      <td>5.0</td>\n",
       "      <td>True</td>\n",
       "    </tr>\n",
       "    <tr>\n",
       "      <th>6</th>\n",
       "      <td>5.0</td>\n",
       "      <td>True</td>\n",
       "    </tr>\n",
       "    <tr>\n",
       "      <th>7</th>\n",
       "      <td>8.0</td>\n",
       "      <td>False</td>\n",
       "    </tr>\n",
       "    <tr>\n",
       "      <th>8</th>\n",
       "      <td>5.0</td>\n",
       "      <td>True</td>\n",
       "    </tr>\n",
       "    <tr>\n",
       "      <th>9</th>\n",
       "      <td>10.0</td>\n",
       "      <td>False</td>\n",
       "    </tr>\n",
       "    <tr>\n",
       "      <th>10</th>\n",
       "      <td>5.0</td>\n",
       "      <td>True</td>\n",
       "    </tr>\n",
       "  </tbody>\n",
       "</table>\n",
       "</div>"
      ],
      "text/plain": [
       "    teste  null??\n",
       "0     1.0   False\n",
       "1     5.0    True\n",
       "2     3.0   False\n",
       "3     5.0    True\n",
       "4     5.0   False\n",
       "5     5.0    True\n",
       "6     5.0    True\n",
       "7     8.0   False\n",
       "8     5.0    True\n",
       "9    10.0   False\n",
       "10    5.0    True"
      ]
     },
     "execution_count": 31,
     "metadata": {},
     "output_type": "execute_result"
    }
   ],
   "source": [
    "df_teste.fillna(df_teste.median(), inplace=True)\n",
    "df_teste[['teste', 'null??']]"
   ]
  },
  {
   "cell_type": "code",
   "execution_count": null,
   "metadata": {},
   "outputs": [],
   "source": [
    "# Na hora da importação:\n",
    "\n",
    "# Making a list of missing value types\n",
    "missing_values = [\"n/a\", \"na\", \"N/A\", 'NA', \"Na\"]\n",
    "df = pd.read_csv(\"seu arquivo\", na_values = missing_values)\n",
    "\n"
   ]
  },
  {
   "cell_type": "markdown",
   "metadata": {},
   "source": [
    "# Importante!\n",
    "\n",
    "### Não existe (pelo menos ainda não) um método mágico que funcione melhor para todos os problemas!\n",
    "\n",
    "Em geral, boa parte do tempo de um DataScientist envolve a parte de \"Data Cleanning\", que é justamente, coletar, organizar e ajustar os dados.\n",
    "\n",
    "Forbes: https://www.forbes.com/sites/gilpress/2016/03/23/data-preparation-most-time-consuming-least-enjoyable-data-science-task-survey-says/#218465cd6f63  -> 80%\n",
    "\n",
    "Infoworld: https://www.infoworld.com/article/3228245/the-80-20-data-science-dilemma.html  -> 80%\n",
    "\n",
    "IBM: https://www.ibm.com/cloud/blog/ibm-data-catalog-data-scientists-productivity   -> 80%\n",
    "\n",
    "![chart](http://businessoverbroadway.com/wp-content/uploads/2019/02/propotion_time_spent_DS_activities.png)\n",
    "\n",
    "\n",
    "### Algumas dicas para essa etapa:\n",
    "\n",
    "* Conheça os dados!\n",
    "Nenhum dado está desaparecido sem algum motivo, entender a causa desse ruído é muito importante para sua análise\n",
    "\n",
    "* FFILL funciona para casos em que seus dados apresentam uma sequência lógica\n",
    "Ex.: Se os dados são cadastrados em uma tabela em ordem de categoria, por exemplo\n",
    "\n",
    "* Geralmente, você vai precisar juntar mais de um método\n",
    "Cada coluna de um banco de dados representa alguma informação diferente, dessa forma, provavelmente você deverá analisar cada coluna e buscar qual a melhor forma de trabalhar com ela!\n",
    "\n",
    "\n",
    "##### Exemplo:\n",
    "\n",
    "Vamos supor que você está trabalhando com um banco de dados referente a preços de casa.\n",
    "Existem quatro categorias com dados vazios: \n",
    "* npool (número de piscinas na casa)\n",
    "* size (m² da casa)\n",
    "* neighb (bairro)\n",
    "* other (observações)\n",
    " \n",
    "\n",
    "Verificando essas colunas, você percebe que 90% dos valores npool estão vazios, o que faz sentido, pois a maioria das casas não tem piscina, então, trocar os vazios por zero nessa coluna pode fazer sentido\n",
    "\n",
    "    método fillna(0)\n",
    "\n",
    "Você conhece a origem da planilha, e sabe que ela foi preenchida casa por casa (em ordem), então o bairro de uma casa tem grandes chances de ser o bairro da casa da linha superior, dessa forma um ffill pode ser utilizado nessa categoria.\n",
    "\n",
    "    método ffill() ou bfill()\n",
    "\n",
    "Olhando para other, 99% dos valores estão vazios, e você não encontra nenhuma relação com outras colunas... Talvez nesse caso o melhor seja usar um dropna nessa coluna toda.\n",
    "\n",
    "    método dropna()\n",
    "\n",
    "Já em size, você percebe uma grande disperção dos valores, porém, plotando essa disperção com outras combinações de colunas (nro de quartos e se tem garagem ou não, por exemplo), você percebe certa correlação. Então você pode criar uma função que preenche size conforme a média de linhas que apresentam categorias similares \n",
    "\n",
    "    método fillna( select condicional + mean() )\n"
   ]
  },
  {
   "cell_type": "code",
   "execution_count": 33,
   "metadata": {},
   "outputs": [
    {
     "data": {
      "image/png": "[encoded data removed]",
      "text/plain": [
       "<Figure size 432x288 with 1 Axes>"
      ]
     },
     "metadata": {
      "needs_background": "light"
     },
     "output_type": "display_data"
    }
   ],
   "source": [
    "#Exemplificando o select condicional:\n",
    "\n",
    "\" Vamos supor que queremos preencher os valores vazios de GDP \"\n",
    "\n",
    "import matplotlib.pyplot as plt\n",
    "plt.hist(df['GDP ($ per capita)'])\n",
    "plt.show()"
   ]
  },
  {
   "cell_type": "code",
   "execution_count": 34,
   "metadata": {},
   "outputs": [
    {
     "data": {
      "image/png": "[encoded data removed]",
      "text/plain": [
       "<Figure size 432x288 with 1 Axes>"
      ]
     },
     "metadata": {
      "needs_background": "light"
     },
     "output_type": "display_data"
    }
   ],
   "source": [
    "#Podemos utilizar a população pra isso?\n",
    "plt.scatter(df['Population'], df['GDP ($ per capita)'])\n",
    "plt.show()"
   ]
  },
  {
   "cell_type": "code",
   "execution_count": 35,
   "metadata": {},
   "outputs": [
    {
     "data": {
      "image/png": "[encoded data removed]",
      "text/plain": [
       "<Figure size 432x288 with 1 Axes>"
      ]
     },
     "metadata": {
      "needs_background": "light"
     },
     "output_type": "display_data"
    }
   ],
   "source": [
    "#Podemos utilizar a mortalidade infantil pra isso?\n",
    "plt.scatter(df['Infant mortality (per 1000 births)'], df['GDP ($ per capita)'])\n",
    "plt.show()"
   ]
  },
  {
   "cell_type": "code",
   "execution_count": 36,
   "metadata": {},
   "outputs": [
    {
     "data": {
      "text/html": [
       "<div>\n",
       "<style scoped>\n",
       "    .dataframe tbody tr th:only-of-type {\n",
       "        vertical-align: middle;\n",
       "    }\n",
       "\n",
       "    .dataframe tbody tr th {\n",
       "        vertical-align: top;\n",
       "    }\n",
       "\n",
       "    .dataframe thead th {\n",
       "        text-align: right;\n",
       "    }\n",
       "</style>\n",
       "<table border=\"1\" class=\"dataframe\">\n",
       "  <thead>\n",
       "    <tr style=\"text-align: right;\">\n",
       "      <th></th>\n",
       "      <th>Country</th>\n",
       "      <th>Region</th>\n",
       "      <th>Population</th>\n",
       "      <th>Area (sq. mi.)</th>\n",
       "      <th>Pop. Density (per sq. mi.)</th>\n",
       "      <th>Coastline (coast/area ratio)</th>\n",
       "      <th>Net migration</th>\n",
       "      <th>Infant mortality (per 1000 births)</th>\n",
       "      <th>GDP ($ per capita)</th>\n",
       "      <th>Literacy (%)</th>\n",
       "      <th>Phones (per 1000)</th>\n",
       "      <th>Arable (%)</th>\n",
       "      <th>Crops (%)</th>\n",
       "      <th>Other (%)</th>\n",
       "      <th>Climate</th>\n",
       "      <th>Birthrate</th>\n",
       "      <th>Deathrate</th>\n",
       "      <th>Agriculture</th>\n",
       "      <th>Industry</th>\n",
       "      <th>Service</th>\n",
       "    </tr>\n",
       "  </thead>\n",
       "  <tbody>\n",
       "    <tr>\n",
       "      <th>0</th>\n",
       "      <td>Afghanistan</td>\n",
       "      <td>ASIA (EX. NEAR EAST)</td>\n",
       "      <td>31056997</td>\n",
       "      <td>647500</td>\n",
       "      <td>48.0</td>\n",
       "      <td>0.00</td>\n",
       "      <td>23.06</td>\n",
       "      <td>163.07</td>\n",
       "      <td>700.0</td>\n",
       "      <td>36.0</td>\n",
       "      <td>3.2</td>\n",
       "      <td>12.13</td>\n",
       "      <td>0.22</td>\n",
       "      <td>87.65</td>\n",
       "      <td>1.0</td>\n",
       "      <td>46.60</td>\n",
       "      <td>20.34</td>\n",
       "      <td>0.380</td>\n",
       "      <td>0.240</td>\n",
       "      <td>0.380</td>\n",
       "    </tr>\n",
       "    <tr>\n",
       "      <th>5</th>\n",
       "      <td>Angola</td>\n",
       "      <td>SUB-SAHARAN AFRICA</td>\n",
       "      <td>12127071</td>\n",
       "      <td>1246700</td>\n",
       "      <td>9.7</td>\n",
       "      <td>0.13</td>\n",
       "      <td>0.00</td>\n",
       "      <td>191.19</td>\n",
       "      <td>1900.0</td>\n",
       "      <td>42.0</td>\n",
       "      <td>7.8</td>\n",
       "      <td>2.41</td>\n",
       "      <td>0.24</td>\n",
       "      <td>97.35</td>\n",
       "      <td>NaN</td>\n",
       "      <td>45.11</td>\n",
       "      <td>24.20</td>\n",
       "      <td>0.096</td>\n",
       "      <td>0.658</td>\n",
       "      <td>0.246</td>\n",
       "    </tr>\n",
       "    <tr>\n",
       "      <th>13</th>\n",
       "      <td>Azerbaijan</td>\n",
       "      <td>C.W. OF IND. STATES</td>\n",
       "      <td>7961619</td>\n",
       "      <td>86600</td>\n",
       "      <td>91.9</td>\n",
       "      <td>0.00</td>\n",
       "      <td>-4.90</td>\n",
       "      <td>81.74</td>\n",
       "      <td>3400.0</td>\n",
       "      <td>97.0</td>\n",
       "      <td>137.1</td>\n",
       "      <td>19.63</td>\n",
       "      <td>2.71</td>\n",
       "      <td>77.66</td>\n",
       "      <td>1.0</td>\n",
       "      <td>20.74</td>\n",
       "      <td>9.75</td>\n",
       "      <td>0.141</td>\n",
       "      <td>0.457</td>\n",
       "      <td>0.402</td>\n",
       "    </tr>\n",
       "    <tr>\n",
       "      <th>21</th>\n",
       "      <td>Benin</td>\n",
       "      <td>SUB-SAHARAN AFRICA</td>\n",
       "      <td>7862944</td>\n",
       "      <td>112620</td>\n",
       "      <td>69.8</td>\n",
       "      <td>0.11</td>\n",
       "      <td>0.00</td>\n",
       "      <td>85.00</td>\n",
       "      <td>1100.0</td>\n",
       "      <td>40.9</td>\n",
       "      <td>9.7</td>\n",
       "      <td>18.08</td>\n",
       "      <td>2.40</td>\n",
       "      <td>79.52</td>\n",
       "      <td>2.0</td>\n",
       "      <td>38.85</td>\n",
       "      <td>12.22</td>\n",
       "      <td>0.316</td>\n",
       "      <td>0.138</td>\n",
       "      <td>0.546</td>\n",
       "    </tr>\n",
       "    <tr>\n",
       "      <th>23</th>\n",
       "      <td>Bhutan</td>\n",
       "      <td>ASIA (EX. NEAR EAST)</td>\n",
       "      <td>2279723</td>\n",
       "      <td>47000</td>\n",
       "      <td>48.5</td>\n",
       "      <td>0.00</td>\n",
       "      <td>0.00</td>\n",
       "      <td>100.44</td>\n",
       "      <td>1300.0</td>\n",
       "      <td>42.2</td>\n",
       "      <td>14.3</td>\n",
       "      <td>3.09</td>\n",
       "      <td>0.43</td>\n",
       "      <td>96.48</td>\n",
       "      <td>2.0</td>\n",
       "      <td>33.65</td>\n",
       "      <td>12.70</td>\n",
       "      <td>0.258</td>\n",
       "      <td>0.379</td>\n",
       "      <td>0.363</td>\n",
       "    </tr>\n",
       "  </tbody>\n",
       "</table>\n",
       "</div>"
      ],
      "text/plain": [
       "         Country                               Region  Population  \\\n",
       "0   Afghanistan         ASIA (EX. NEAR EAST)             31056997   \n",
       "5        Angola   SUB-SAHARAN AFRICA                     12127071   \n",
       "13   Azerbaijan                  C.W. OF IND. STATES      7961619   \n",
       "21        Benin   SUB-SAHARAN AFRICA                      7862944   \n",
       "23       Bhutan         ASIA (EX. NEAR EAST)              2279723   \n",
       "\n",
       "    Area (sq. mi.)  Pop. Density (per sq. mi.)  Coastline (coast/area ratio)  \\\n",
       "0           647500                        48.0                          0.00   \n",
       "5          1246700                         9.7                          0.13   \n",
       "13           86600                        91.9                          0.00   \n",
       "21          112620                        69.8                          0.11   \n",
       "23           47000                        48.5                          0.00   \n",
       "\n",
       "    Net migration  Infant mortality (per 1000 births)  GDP ($ per capita)  \\\n",
       "0           23.06                              163.07               700.0   \n",
       "5            0.00                              191.19              1900.0   \n",
       "13          -4.90                               81.74              3400.0   \n",
       "21           0.00                               85.00              1100.0   \n",
       "23           0.00                              100.44              1300.0   \n",
       "\n",
       "    Literacy (%)  Phones (per 1000)  Arable (%)  Crops (%)  Other (%)  \\\n",
       "0           36.0                3.2       12.13       0.22      87.65   \n",
       "5           42.0                7.8        2.41       0.24      97.35   \n",
       "13          97.0              137.1       19.63       2.71      77.66   \n",
       "21          40.9                9.7       18.08       2.40      79.52   \n",
       "23          42.2               14.3        3.09       0.43      96.48   \n",
       "\n",
       "    Climate  Birthrate  Deathrate  Agriculture  Industry  Service  \n",
       "0       1.0      46.60      20.34        0.380     0.240    0.380  \n",
       "5       NaN      45.11      24.20        0.096     0.658    0.246  \n",
       "13      1.0      20.74       9.75        0.141     0.457    0.402  \n",
       "21      2.0      38.85      12.22        0.316     0.138    0.546  \n",
       "23      2.0      33.65      12.70        0.258     0.379    0.363  "
      ]
     },
     "execution_count": 36,
     "metadata": {},
     "output_type": "execute_result"
    }
   ],
   "source": [
    "#Criando o cluster de alta taixa de mortalidade\n",
    "df[ df['Infant mortality (per 1000 births)'] > 75 ].head()"
   ]
  },
  {
   "cell_type": "code",
   "execution_count": 37,
   "metadata": {},
   "outputs": [
    {
     "data": {
      "text/plain": [
       "1219.3548387096773"
      ]
     },
     "execution_count": 37,
     "metadata": {},
     "output_type": "execute_result"
    }
   ],
   "source": [
    "df [ df['Infant mortality (per 1000 births)'] > 75 ]['GDP ($ per capita)'].mean()"
   ]
  },
  {
   "cell_type": "code",
   "execution_count": 38,
   "metadata": {},
   "outputs": [
    {
     "data": {
      "text/plain": [
       "14990.625"
      ]
     },
     "execution_count": 38,
     "metadata": {},
     "output_type": "execute_result"
    }
   ],
   "source": [
    "#Cluster inferior\n",
    "df [ df['Infant mortality (per 1000 births)'] < 25 ]['GDP ($ per capita)'].mean()"
   ]
  },
  {
   "cell_type": "code",
   "execution_count": 39,
   "metadata": {},
   "outputs": [
    {
     "name": "stderr",
     "output_type": "stream",
     "text": [
      "C:\\Users\\rodribia\\AppData\\Local\\Continuum\\anaconda3\\lib\\site-packages\\ipykernel_launcher.py:2: UserWarning: Boolean Series key will be reindexed to match DataFrame index.\n",
      "  \n"
     ]
    },
    {
     "data": {
      "text/plain": [
       "3455.3846153846152"
      ]
     },
     "execution_count": 39,
     "metadata": {},
     "output_type": "execute_result"
    }
   ],
   "source": [
    "#Cluster Intermediário\n",
    "df[df['Infant mortality (per 1000 births)'] > 25][df['Infant mortality (per 1000 births)'] < 75]['GDP ($ per capita)'].mean()"
   ]
  },
  {
   "cell_type": "code",
   "execution_count": 50,
   "metadata": {},
   "outputs": [
    {
     "data": {
      "text/html": [
       "<div>\n",
       "<style scoped>\n",
       "    .dataframe tbody tr th:only-of-type {\n",
       "        vertical-align: middle;\n",
       "    }\n",
       "\n",
       "    .dataframe tbody tr th {\n",
       "        vertical-align: top;\n",
       "    }\n",
       "\n",
       "    .dataframe thead th {\n",
       "        text-align: right;\n",
       "    }\n",
       "</style>\n",
       "<table border=\"1\" class=\"dataframe\">\n",
       "  <thead>\n",
       "    <tr style=\"text-align: right;\">\n",
       "      <th></th>\n",
       "      <th>c</th>\n",
       "      <th>b</th>\n",
       "    </tr>\n",
       "  </thead>\n",
       "  <tbody>\n",
       "    <tr>\n",
       "      <th>0</th>\n",
       "      <td>10</td>\n",
       "      <td>1.0</td>\n",
       "    </tr>\n",
       "    <tr>\n",
       "      <th>1</th>\n",
       "      <td>50</td>\n",
       "      <td>3.0</td>\n",
       "    </tr>\n",
       "    <tr>\n",
       "      <th>2</th>\n",
       "      <td>100</td>\n",
       "      <td>8.0</td>\n",
       "    </tr>\n",
       "    <tr>\n",
       "      <th>3</th>\n",
       "      <td>200</td>\n",
       "      <td>NaN</td>\n",
       "    </tr>\n",
       "    <tr>\n",
       "      <th>4</th>\n",
       "      <td>10</td>\n",
       "      <td>5.0</td>\n",
       "    </tr>\n",
       "    <tr>\n",
       "      <th>5</th>\n",
       "      <td>50</td>\n",
       "      <td>8.0</td>\n",
       "    </tr>\n",
       "    <tr>\n",
       "      <th>6</th>\n",
       "      <td>100</td>\n",
       "      <td>NaN</td>\n",
       "    </tr>\n",
       "    <tr>\n",
       "      <th>7</th>\n",
       "      <td>200</td>\n",
       "      <td>7.0</td>\n",
       "    </tr>\n",
       "    <tr>\n",
       "      <th>8</th>\n",
       "      <td>10</td>\n",
       "      <td>NaN</td>\n",
       "    </tr>\n",
       "    <tr>\n",
       "      <th>9</th>\n",
       "      <td>50</td>\n",
       "      <td>4.0</td>\n",
       "    </tr>\n",
       "    <tr>\n",
       "      <th>10</th>\n",
       "      <td>100</td>\n",
       "      <td>1.0</td>\n",
       "    </tr>\n",
       "    <tr>\n",
       "      <th>11</th>\n",
       "      <td>200</td>\n",
       "      <td>0.0</td>\n",
       "    </tr>\n",
       "  </tbody>\n",
       "</table>\n",
       "</div>"
      ],
      "text/plain": [
       "      c    b\n",
       "0    10  1.0\n",
       "1    50  3.0\n",
       "2   100  8.0\n",
       "3   200  NaN\n",
       "4    10  5.0\n",
       "5    50  8.0\n",
       "6   100  NaN\n",
       "7   200  7.0\n",
       "8    10  NaN\n",
       "9    50  4.0\n",
       "10  100  1.0\n",
       "11  200  0.0"
      ]
     },
     "execution_count": 50,
     "metadata": {},
     "output_type": "execute_result"
    }
   ],
   "source": [
    "# Exemplo visual: ref: https://stackoverflow.com/questions/44111425/cannot-use-fillna-when-a-condition-is-introduced\n",
    "\n",
    "ex = pd.DataFrame({'c':[10,50,100,200] * 3,\n",
    "                   'b':[1,3,8,np.nan,5,8,np.nan,7, np.nan, 4,1,0]})\n",
    "ex"
   ]
  },
  {
   "cell_type": "code",
   "execution_count": 51,
   "metadata": {},
   "outputs": [
    {
     "data": {
      "text/plain": [
       "0      True\n",
       "1     False\n",
       "2     False\n",
       "3     False\n",
       "4      True\n",
       "5     False\n",
       "6     False\n",
       "7     False\n",
       "8      True\n",
       "9     False\n",
       "10    False\n",
       "11    False\n",
       "Name: c, dtype: bool"
      ]
     },
     "execution_count": 51,
     "metadata": {},
     "output_type": "execute_result"
    }
   ],
   "source": [
    "#criando booleanos para cada corte\n",
    "m1 = (ex['c'] >= 0)   & (ex['c'] <= 43)   \n",
    "m2 = (ex['c'] >= 44)  & (ex['c'] <= 96)   \n",
    "m3 = (ex['c'] >= 97)  & (ex['c'] <= 151)\n",
    "m4 = (ex['c'] >= 152) & (ex['c'] <= 273)\n",
    "\n",
    "m1"
   ]
  },
  {
   "cell_type": "code",
   "execution_count": 52,
   "metadata": {},
   "outputs": [
    {
     "data": {
      "text/plain": [
       "0    1.0\n",
       "4    5.0\n",
       "8    NaN\n",
       "Name: b, dtype: float64"
      ]
     },
     "execution_count": 52,
     "metadata": {},
     "output_type": "execute_result"
    }
   ],
   "source": [
    "#pegando um 'pedaço' do DataFrame de acorto com os booleanos criados acima\n",
    "ex.loc[m1,'b']"
   ]
  },
  {
   "cell_type": "code",
   "execution_count": 53,
   "metadata": {},
   "outputs": [
    {
     "data": {
      "text/plain": [
       "3.0"
      ]
     },
     "execution_count": 53,
     "metadata": {},
     "output_type": "execute_result"
    }
   ],
   "source": [
    "#pegando a mediana desse pedaço\n",
    "ex.loc[m1,'b'].median()"
   ]
  },
  {
   "cell_type": "code",
   "execution_count": 54,
   "metadata": {},
   "outputs": [
    {
     "data": {
      "text/html": [
       "<div>\n",
       "<style scoped>\n",
       "    .dataframe tbody tr th:only-of-type {\n",
       "        vertical-align: middle;\n",
       "    }\n",
       "\n",
       "    .dataframe tbody tr th {\n",
       "        vertical-align: top;\n",
       "    }\n",
       "\n",
       "    .dataframe thead th {\n",
       "        text-align: right;\n",
       "    }\n",
       "</style>\n",
       "<table border=\"1\" class=\"dataframe\">\n",
       "  <thead>\n",
       "    <tr style=\"text-align: right;\">\n",
       "      <th></th>\n",
       "      <th>c</th>\n",
       "      <th>b</th>\n",
       "    </tr>\n",
       "  </thead>\n",
       "  <tbody>\n",
       "    <tr>\n",
       "      <th>0</th>\n",
       "      <td>10</td>\n",
       "      <td>1.0</td>\n",
       "    </tr>\n",
       "    <tr>\n",
       "      <th>1</th>\n",
       "      <td>50</td>\n",
       "      <td>3.0</td>\n",
       "    </tr>\n",
       "    <tr>\n",
       "      <th>2</th>\n",
       "      <td>100</td>\n",
       "      <td>8.0</td>\n",
       "    </tr>\n",
       "    <tr>\n",
       "      <th>3</th>\n",
       "      <td>200</td>\n",
       "      <td>3.5</td>\n",
       "    </tr>\n",
       "    <tr>\n",
       "      <th>4</th>\n",
       "      <td>10</td>\n",
       "      <td>5.0</td>\n",
       "    </tr>\n",
       "    <tr>\n",
       "      <th>5</th>\n",
       "      <td>50</td>\n",
       "      <td>8.0</td>\n",
       "    </tr>\n",
       "    <tr>\n",
       "      <th>6</th>\n",
       "      <td>100</td>\n",
       "      <td>4.5</td>\n",
       "    </tr>\n",
       "    <tr>\n",
       "      <th>7</th>\n",
       "      <td>200</td>\n",
       "      <td>7.0</td>\n",
       "    </tr>\n",
       "    <tr>\n",
       "      <th>8</th>\n",
       "      <td>10</td>\n",
       "      <td>3.0</td>\n",
       "    </tr>\n",
       "    <tr>\n",
       "      <th>9</th>\n",
       "      <td>50</td>\n",
       "      <td>4.0</td>\n",
       "    </tr>\n",
       "    <tr>\n",
       "      <th>10</th>\n",
       "      <td>100</td>\n",
       "      <td>1.0</td>\n",
       "    </tr>\n",
       "    <tr>\n",
       "      <th>11</th>\n",
       "      <td>200</td>\n",
       "      <td>0.0</td>\n",
       "    </tr>\n",
       "  </tbody>\n",
       "</table>\n",
       "</div>"
      ],
      "text/plain": [
       "      c    b\n",
       "0    10  1.0\n",
       "1    50  3.0\n",
       "2   100  8.0\n",
       "3   200  3.5\n",
       "4    10  5.0\n",
       "5    50  8.0\n",
       "6   100  4.5\n",
       "7   200  7.0\n",
       "8    10  3.0\n",
       "9    50  4.0\n",
       "10  100  1.0\n",
       "11  200  0.0"
      ]
     },
     "execution_count": 54,
     "metadata": {},
     "output_type": "execute_result"
    }
   ],
   "source": [
    "#colocando tudo junto\n",
    "#um pedaço = um pedaço .fillna (média desse pedaço)\n",
    "\n",
    "ex.loc[m1,'b'] = ex.loc[m1,'b'].fillna(ex.loc[m1,'b'].median())\n",
    "ex.loc[m2,'b'] = ex.loc[m2,'b'].fillna(ex.loc[m2,'b'].median())\n",
    "ex.loc[m3,'b'] = ex.loc[m3,'b'].fillna(ex.loc[m3,'b'].median())\n",
    "ex.loc[m4,'b'] = ex.loc[m4,'b'].fillna(ex.loc[m4,'b'].median())\n",
    "ex"
   ]
  },
  {
   "cell_type": "code",
   "execution_count": 27,
   "metadata": {},
   "outputs": [
    {
     "data": {
      "image/png": "[encoded data removed]",
      "text/plain": [
       "<Figure size 432x288 with 1 Axes>"
      ]
     },
     "metadata": {
      "needs_background": "light"
     },
     "output_type": "display_data"
    }
   ],
   "source": [
    "#Podemos utilizar a quantidade de celulares por 1000?\n",
    "\n",
    "plt.scatter(df['Phones (per 1000)'], df['GDP ($ per capita)'])\n",
    "plt.show()"
   ]
  },
  {
   "cell_type": "code",
   "execution_count": 56,
   "metadata": {},
   "outputs": [],
   "source": [
    "#Linear regression"
   ]
  }
 ],
 "metadata": {
  "kernelspec": {
   "display_name": "Python 3",
   "language": "python",
   "name": "python3"
  },
  "language_info": {
   "codemirror_mode": {
    "name": "ipython",
    "version": 3
   },
   "file_extension": ".py",
   "mimetype": "text/x-python",
   "name": "python",
   "nbconvert_exporter": "python",
   "pygments_lexer": "ipython3",
   "version": "3.7.3"
  }
 },
 "nbformat": 4,
 "nbformat_minor": 2
}
