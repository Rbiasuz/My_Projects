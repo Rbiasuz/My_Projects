{
 "cells": [
  {
   "cell_type": "code",
   "execution_count": 1,
   "metadata": {},
   "outputs": [],
   "source": [
    "# Import scrapy\n",
    "import scrapy\n",
    "\n",
    "# Import the CrawlerProcess\n",
    "from scrapy.crawler import CrawlerProcess\n",
    "\n",
    "# Create the Spider class\n",
    "class YourSpider(scrapy.Spider):\n",
    "    name = 'yourspider'\n",
    "  # start_requests method\n",
    "    def start_requests(self):\n",
    "        yield scrapy.Request(url = url_short, callback = self.parse)\n",
    "      \n",
    "    def parse(self, response):\n",
    "    # My version of the parser you wrote in the previous part\n",
    "        crs_titles = response.xpath('//h4[contains(@class,\"block__title\")]/text()').extract()\n",
    "        crs_descrs = response.xpath('//p[contains(@class,\"block__description\")]/text()').extract()\n",
    "        for crs_title, crs_descr in zip(crs_titles, crs_descrs):\n",
    "            dc_dict[crs_title] = crs_descr\n",
    "    "
   ]
  },
  {
   "cell_type": "code",
   "execution_count": 2,
   "metadata": {},
   "outputs": [],
   "source": [
    "url_short = 'https://assets.datacamp.com/production/repositories/2560/datasets/19a0a26daa8d9db1d920b5d5607c19d6d8094b3b/all_short'"
   ]
  },
  {
   "cell_type": "code",
   "execution_count": 3,
   "metadata": {},
   "outputs": [
    {
     "name": "stderr",
     "output_type": "stream",
     "text": [
      "2019-10-14 16:59:28 [scrapy.utils.log] INFO: Scrapy 1.7.3 started (bot: scrapybot)\n",
      "2019-10-14 16:59:28 [scrapy.utils.log] INFO: Versions: lxml 4.3.2.0, libxml2 2.9.9, cssselect 1.1.0, parsel 1.5.2, w3lib 1.21.0, Twisted 19.7.0, Python 3.7.3 (default, Mar 27 2019, 17:13:21) [MSC v.1915 64 bit (AMD64)], pyOpenSSL 19.0.0 (OpenSSL 1.1.1d  10 Sep 2019), cryptography 2.6.1, Platform Windows-10-10.0.17763-SP0\n",
      "2019-10-14 16:59:28 [scrapy.crawler] INFO: Overridden settings: {}\n",
      "2019-10-14 16:59:28 [scrapy.extensions.telnet] INFO: Telnet Password: f30ccf56eae57c29\n",
      "2019-10-14 16:59:28 [scrapy.middleware] INFO: Enabled extensions:\n",
      "['scrapy.extensions.corestats.CoreStats',\n",
      " 'scrapy.extensions.telnet.TelnetConsole',\n",
      " 'scrapy.extensions.logstats.LogStats']\n",
      "2019-10-14 16:59:28 [scrapy.middleware] INFO: Enabled downloader middlewares:\n",
      "['scrapy.downloadermiddlewares.httpauth.HttpAuthMiddleware',\n",
      " 'scrapy.downloadermiddlewares.downloadtimeout.DownloadTimeoutMiddleware',\n",
      " 'scrapy.downloadermiddlewares.defaultheaders.DefaultHeadersMiddleware',\n",
      " 'scrapy.downloadermiddlewares.useragent.UserAgentMiddleware',\n",
      " 'scrapy.downloadermiddlewares.retry.RetryMiddleware',\n",
      " 'scrapy.downloadermiddlewares.redirect.MetaRefreshMiddleware',\n",
      " 'scrapy.downloadermiddlewares.httpcompression.HttpCompressionMiddleware',\n",
      " 'scrapy.downloadermiddlewares.redirect.RedirectMiddleware',\n",
      " 'scrapy.downloadermiddlewares.cookies.CookiesMiddleware',\n",
      " 'scrapy.downloadermiddlewares.httpproxy.HttpProxyMiddleware',\n",
      " 'scrapy.downloadermiddlewares.stats.DownloaderStats']\n",
      "2019-10-14 16:59:28 [scrapy.middleware] INFO: Enabled spider middlewares:\n",
      "['scrapy.spidermiddlewares.httperror.HttpErrorMiddleware',\n",
      " 'scrapy.spidermiddlewares.offsite.OffsiteMiddleware',\n",
      " 'scrapy.spidermiddlewares.referer.RefererMiddleware',\n",
      " 'scrapy.spidermiddlewares.urllength.UrlLengthMiddleware',\n",
      " 'scrapy.spidermiddlewares.depth.DepthMiddleware']\n",
      "2019-10-14 16:59:28 [scrapy.middleware] INFO: Enabled item pipelines:\n",
      "[]\n",
      "2019-10-14 16:59:28 [scrapy.core.engine] INFO: Spider opened\n",
      "2019-10-14 16:59:28 [scrapy.extensions.logstats] INFO: Crawled 0 pages (at 0 pages/min), scraped 0 items (at 0 items/min)\n",
      "2019-10-14 16:59:28 [scrapy.extensions.telnet] INFO: Telnet console listening on 127.0.0.1:6023\n",
      "2019-10-14 16:59:30 [scrapy.core.engine] DEBUG: Crawled (200) <GET https://assets.datacamp.com/production/repositories/2560/datasets/19a0a26daa8d9db1d920b5d5607c19d6d8094b3b/all_short> (referer: None)\n",
      "2019-10-14 16:59:30 [scrapy.core.engine] INFO: Closing spider (finished)\n",
      "2019-10-14 16:59:30 [scrapy.statscollectors] INFO: Dumping Scrapy stats:\n",
      "{'downloader/request_bytes': 306,\n",
      " 'downloader/request_count': 1,\n",
      " 'downloader/request_method_count/GET': 1,\n",
      " 'downloader/response_bytes': 171275,\n",
      " 'downloader/response_count': 1,\n",
      " 'downloader/response_status_count/200': 1,\n",
      " 'elapsed_time_seconds': 1.487473,\n",
      " 'finish_reason': 'finished',\n",
      " 'finish_time': datetime.datetime(2019, 10, 14, 19, 59, 30, 429784),\n",
      " 'log_count/DEBUG': 1,\n",
      " 'log_count/INFO': 10,\n",
      " 'response_received_count': 1,\n",
      " 'scheduler/dequeued': 1,\n",
      " 'scheduler/dequeued/memory': 1,\n",
      " 'scheduler/enqueued': 1,\n",
      " 'scheduler/enqueued/memory': 1,\n",
      " 'start_time': datetime.datetime(2019, 10, 14, 19, 59, 28, 942311)}\n",
      "2019-10-14 16:59:30 [scrapy.core.engine] INFO: Spider closed (finished)\n"
     ]
    },
    {
     "data": {
      "text/plain": [
       "{'Introduction to R': '\\n          Master the basics of data analysis by manipulating common data structures such as vectors, matrices and data frames.\\n        ',\n",
       " 'Data Analysis in R, the data.table Way': '\\n          Master core concepts in data manipulation such as subsetting, updating, indexing and joining your data using data.table.\\n        ',\n",
       " 'Data Manipulation in R with dplyr': '\\n          Master techniques for data manipulation using the select, mutate, filter, arrange, and summarise functions in dplyr.\\n        ',\n",
       " 'Data Visualization in R with ggvis': '\\n          Learn to create interactive graphs to display distributions, relationships, model fits, and more using ggvis.\\n        ',\n",
       " 'Reporting with R Markdown': '\\n          Learn to create interactive analyses and automated reports with R Markdown.\\n        ',\n",
       " 'Intermediate R': '\\n          Continue your journey to become an R ninja by learning about conditional statements, loops, and vector functions.\\n        ',\n",
       " 'Introduction to Machine Learning': '\\n          Learn to train and assess models performing common machine learning tasks such as classification and clustering.\\n        ',\n",
       " 'Cleaning Data in R': '\\n          Learn to explore your data so you can properly clean and prepare it for analysis.\\n        ',\n",
       " 'Intro to Python for Data Science': '\\n          Master the basics of data analysis in Python. Expand your skill set by learning scientific computing with numpy.\\n        ',\n",
       " 'Intermediate R - Practice': '\\n          Strengthen your knowledge of the topics you learned in Intermediate R with a ton of new and fun exercises.\\n        ',\n",
       " 'Predicting Customer Churn in Python': '\\n          Learn how to use Python to analyze customer churn and build a model to predict it.\\n        '}"
      ]
     },
     "execution_count": 3,
     "metadata": {},
     "output_type": "execute_result"
    }
   ],
   "source": [
    "# Initialize the dictionary **outside** of the Spider class\n",
    "dc_dict = dict()\n",
    "\n",
    "# Run the Spider\n",
    "process = CrawlerProcess()\n",
    "process.crawl(YourSpider)\n",
    "process.start()\n",
    "\n",
    "# Print a preview of courses\n",
    "(dc_dict)"
   ]
  },
  {
   "cell_type": "code",
   "execution_count": 9,
   "metadata": {},
   "outputs": [
    {
     "name": "stdout",
     "output_type": "stream",
     "text": [
      "Introduction to R \n",
      "\n",
      "\n",
      "          Master the basics of data analysis by manipulating common data structures such as vectors, matrices and data frames.\n",
      "        \n",
      "Data Analysis in R, the data.table Way \n",
      "\n",
      "\n",
      "          Master core concepts in data manipulation such as subsetting, updating, indexing and joining your data using data.table.\n",
      "        \n",
      "Data Manipulation in R with dplyr \n",
      "\n",
      "\n",
      "          Master techniques for data manipulation using the select, mutate, filter, arrange, and summarise functions in dplyr.\n",
      "        \n",
      "Data Visualization in R with ggvis \n",
      "\n",
      "\n",
      "          Learn to create interactive graphs to display distributions, relationships, model fits, and more using ggvis.\n",
      "        \n",
      "Reporting with R Markdown \n",
      "\n",
      "\n",
      "          Learn to create interactive analyses and automated reports with R Markdown.\n",
      "        \n",
      "Intermediate R \n",
      "\n",
      "\n",
      "          Continue your journey to become an R ninja by learning about conditional statements, loops, and vector functions.\n",
      "        \n",
      "Introduction to Machine Learning \n",
      "\n",
      "\n",
      "          Learn to train and assess models performing common machine learning tasks such as classification and clustering.\n",
      "        \n",
      "Cleaning Data in R \n",
      "\n",
      "\n",
      "          Learn to explore your data so you can properly clean and prepare it for analysis.\n",
      "        \n",
      "Intro to Python for Data Science \n",
      "\n",
      "\n",
      "          Master the basics of data analysis in Python. Expand your skill set by learning scientific computing with numpy.\n",
      "        \n",
      "Intermediate R - Practice \n",
      "\n",
      "\n",
      "          Strengthen your knowledge of the topics you learned in Intermediate R with a ton of new and fun exercises.\n",
      "        \n",
      "Predicting Customer Churn in Python \n",
      "\n",
      "\n",
      "          Learn how to use Python to analyze customer churn and build a model to predict it.\n",
      "        \n"
     ]
    }
   ],
   "source": [
    "for i in dc_dict:\n",
    "    print(i, '\\n')\n",
    "    print(dc_dict[i])"
   ]
  }
 ],
 "metadata": {
  "kernelspec": {
   "display_name": "Python 3",
   "language": "python",
   "name": "python3"
  },
  "language_info": {
   "codemirror_mode": {
    "name": "ipython",
    "version": 3
   },
   "file_extension": ".py",
   "mimetype": "text/x-python",
   "name": "python",
   "nbconvert_exporter": "python",
   "pygments_lexer": "ipython3",
   "version": "3.7.3"
  }
 },
 "nbformat": 4,
 "nbformat_minor": 4
}
