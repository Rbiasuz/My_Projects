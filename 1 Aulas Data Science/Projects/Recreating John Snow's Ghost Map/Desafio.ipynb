{
 "cells": [
  {
   "cell_type": "markdown",
   "metadata": {},
   "source": [
    "# John Snow e o mapa da cólera"
   ]
  },
  {
   "cell_type": "markdown",
   "metadata": {},
   "source": [
    "![fig](https://www.thevintagenews.com/wp-content/uploads/2016/09/John-Snow.jpg)"
   ]
  },
  {
   "cell_type": "markdown",
   "metadata": {},
   "source": [
    "John Snow (York, 15 de março de 1813 – Londres, 16 de junho de 1858) foi um médico inglês, considerado pai da epidemiologia moderna. \n",
    "\n",
    "Demonstrou que o cólera era causado pelo consumo de águas contaminadas com matérias fecais, ao comprovar que os casos dessa doença se agrupavam nas zonas onde a água consumida estava contaminada com fezes, na cidade de Londres no ano de 1854. \n",
    "\n",
    "Nesse ano cartografou num plano do distrito do Soho os poços de água, localizando como culpado o poço existente em Broad Street, em pleno coração da epidemia. Snow recomendou à comunidade fecha-lo, com o que foram diminuindo os casos da doença. Este episódio é considerado como um dos exemplos mais precoces no uso do método geográfico para a descrição de casos de uma epidemia. \n",
    "\n",
    "https://pt.wikipedia.org/wiki/John_Snow\n"
   ]
  },
  {
   "cell_type": "markdown",
   "metadata": {},
   "source": [
    "# Desafio: reproduzir o Mapa que Jon Snow fez em 1854"
   ]
  },
  {
   "cell_type": "code",
   "execution_count": 1,
   "metadata": {},
   "outputs": [
    {
     "ename": "SyntaxError",
     "evalue": "invalid syntax (<ipython-input-1-1c20aa96b5cf>, line 4)",
     "output_type": "error",
     "traceback": [
      "\u001b[1;36m  File \u001b[1;32m\"<ipython-input-1-1c20aa96b5cf>\"\u001b[1;36m, line \u001b[1;32m4\u001b[0m\n\u001b[1;33m    deaths = #seu codigo aqui\u001b[0m\n\u001b[1;37m                             ^\u001b[0m\n\u001b[1;31mSyntaxError\u001b[0m\u001b[1;31m:\u001b[0m invalid syntax\n"
     ]
    }
   ],
   "source": [
    "# Carregue o Pandas!\n",
    "\n",
    "# Reading in the data\n",
    "deaths = #seu codigo aqui\n",
    "pumps = #seu codigo aqui\n",
    "dates =  #seu codigo aqui\n"
   ]
  },
  {
   "cell_type": "code",
   "execution_count": 2,
   "metadata": {},
   "outputs": [],
   "source": [
    "# Vamos começar dando uma olhada no DF \"deaths\"\n",
    "\n",
    "#Qual o cabeçalho dele?\n",
    "#Quantas linhas e colunas temos?"
   ]
  },
  {
   "cell_type": "code",
   "execution_count": 3,
   "metadata": {},
   "outputs": [
    {
     "ename": "NameError",
     "evalue": "name 'deaths' is not defined",
     "output_type": "error",
     "traceback": [
      "\u001b[1;31m---------------------------------------------------------------------------\u001b[0m",
      "\u001b[1;31mNameError\u001b[0m                                 Traceback (most recent call last)",
      "\u001b[1;32m<ipython-input-3-50dbd909b5f9>\u001b[0m in \u001b[0;36m<module>\u001b[1;34m\u001b[0m\n\u001b[0;32m      9\u001b[0m \u001b[1;31m#seu codigo aqui\u001b[0m\u001b[1;33m\u001b[0m\u001b[1;33m\u001b[0m\u001b[1;33m\u001b[0m\u001b[0m\n\u001b[0;32m     10\u001b[0m \u001b[1;33m\u001b[0m\u001b[0m\n\u001b[1;32m---> 11\u001b[1;33m \u001b[0mdeaths\u001b[0m\u001b[1;33m.\u001b[0m\u001b[0mdescribe\u001b[0m\u001b[1;33m(\u001b[0m\u001b[1;33m)\u001b[0m\u001b[1;33m\u001b[0m\u001b[1;33m\u001b[0m\u001b[0m\n\u001b[0m",
      "\u001b[1;31mNameError\u001b[0m: name 'deaths' is not defined"
     ]
    }
   ],
   "source": [
    "# Renomear as colunas do dataframe death de acordo com o dicionário abaixo:\n",
    "\n",
    "newcols = {\n",
    "    'Death': 'death_count',\n",
    "    'X coordinate': 'x_latitude', \n",
    "    'Y coordinate': 'y_longitude' \n",
    "    }\n",
    "\n",
    "#seu codigo aqui\n",
    "\n",
    "deaths.describe()"
   ]
  },
  {
   "cell_type": "code",
   "execution_count": 11,
   "metadata": {},
   "outputs": [
    {
     "data": {
      "text/plain": [
       "489"
      ]
     },
     "execution_count": 11,
     "metadata": {},
     "output_type": "execute_result"
    }
   ],
   "source": [
    "# Crie `locations` selecionando apenas latitude e longitude do seu DataFrame\n",
    "locations = #seu codigo aqui\n",
    "\n",
    "# Crie `deaths_list` transformando o DataFrame criado acimanuma lista de listas \n",
    "#(Dica: use .values.tolist() direto no dataframe)\n",
    "\n",
    "deaths_list = #seu codigo aqui\n",
    "\n",
    "len(deaths_list)"
   ]
  },
  {
   "cell_type": "markdown",
   "metadata": {},
   "source": [
    "### Instalando a biblioteca de mapas, folium:\n",
    "\n",
    "    conda install -c conda-forge folium\n",
    "    \n",
    "Documentação: https://python-visualization.github.io/folium/"
   ]
  },
  {
   "cell_type": "code",
   "execution_count": 4,
   "metadata": {},
   "outputs": [
    {
     "ename": "SyntaxError",
     "evalue": "invalid syntax (<ipython-input-4-f21d86077b86>, line 9)",
     "output_type": "error",
     "traceback": [
      "\u001b[1;36m  File \u001b[1;32m\"<ipython-input-4-f21d86077b86>\"\u001b[1;36m, line \u001b[1;32m9\u001b[0m\n\u001b[1;33m    for point in  #seu codigo aqui\u001b[0m\n\u001b[1;37m                                  ^\u001b[0m\n\u001b[1;31mSyntaxError\u001b[0m\u001b[1;31m:\u001b[0m invalid syntax\n"
     ]
    }
   ],
   "source": [
    "# Desenhe o mapa:\n",
    "import folium\n",
    "\n",
    "# A posição inicial está criada para você:\n",
    "map = folium.Map(location=[51.5132119,-0.13666], tiles='Stamen Toner', zoom_start=17)\n",
    "\n",
    "# Crie um laço que itere para cada item na lista criada anterirmente\n",
    "\n",
    "for point in  #seu codigo aqui\n",
    "    folium.CircleMarker(deaths_list[point], radius=8, color='red', fill=True, fill_color='red', opacity = 0.4).add_to(map)\n",
    "map"
   ]
  },
  {
   "cell_type": "code",
   "execution_count": 5,
   "metadata": {},
   "outputs": [
    {
     "ename": "SyntaxError",
     "evalue": "invalid syntax (<ipython-input-5-16c0a300c1e4>, line 5)",
     "output_type": "error",
     "traceback": [
      "\u001b[1;36m  File \u001b[1;32m\"<ipython-input-5-16c0a300c1e4>\"\u001b[1;36m, line \u001b[1;32m5\u001b[0m\n\u001b[1;33m    locations_pumps =  #seu codigo aqui\u001b[0m\n\u001b[1;37m                                       ^\u001b[0m\n\u001b[1;31mSyntaxError\u001b[0m\u001b[1;31m:\u001b[0m invalid syntax\n"
     ]
    }
   ],
   "source": [
    "# Vamos fazer o mesmo para o df de \"pumps\"\n",
    "\n",
    "\n",
    "# Selecionar apenas as coluans ['X coordinate', 'Y coordinate'] \n",
    "locations_pumps =  #seu codigo aqui\n",
    "\n",
    "# Transform numa lista de listas\n",
    "pumps_list =  #seu codigo aqui\n",
    "\n",
    "# Criar o laço que coloca os pontos no mapa\n",
    "map1 = map\n",
    "#seu codigo aqui\n",
    "    folium.Marker(#seu codigo aqui, \n",
    "        popup=pumps['Pump Name'][point]).add_to(map1)\n",
    "map1"
   ]
  },
  {
   "cell_type": "code",
   "execution_count": 6,
   "metadata": {},
   "outputs": [
    {
     "ename": "SyntaxError",
     "evalue": "invalid syntax (<ipython-input-6-a7e99bb51d3f>, line 4)",
     "output_type": "error",
     "traceback": [
      "\u001b[1;36m  File \u001b[1;32m\"<ipython-input-6-a7e99bb51d3f>\"\u001b[1;36m, line \u001b[1;32m4\u001b[0m\n\u001b[1;33m    handle_removed = #seu codigo aqui\u001b[0m\n\u001b[1;37m                                     ^\u001b[0m\n\u001b[1;31mSyntaxError\u001b[0m\u001b[1;31m:\u001b[0m invalid syntax\n"
     ]
    }
   ],
   "source": [
    "# Por fim, vamos explorar o DF \"dates\"\n",
    "\n",
    "# Set a data em que a bomba foi removida: (8th of September 1854)\n",
    "handle_removed = #seu codigo aqui\n",
    "\n",
    "# Crie a coluna `day_name` em `dates` com o nome do dia de cada linha\n",
    "dates['day_name'] = #seu codigo aqui\n",
    "\n",
    "# Crie a coluna `handle` em `dates` baseada na data se foi ou não ainda removida a bomba\n",
    "dates['handle'] = #seu codigo aqui\n",
    "\n",
    "# Agrupe somando os valores de acordo com se a bomba foi ou não removida\n",
    "dates.#seu codigo aqui"
   ]
  },
  {
   "cell_type": "code",
   "execution_count": 7,
   "metadata": {},
   "outputs": [],
   "source": [
    "# Crie um gráfico mostrando a diferença de mortes por cólera e os ataques de cólera ao longo dos anos"
   ]
  },
  {
   "cell_type": "markdown",
   "metadata": {},
   "source": [
    "# E então, Jon Snow não sabia de nada?"
   ]
  }
 ],
 "metadata": {
  "kernelspec": {
   "display_name": "Python 3",
   "language": "python",
   "name": "python3"
  },
  "language_info": {
   "codemirror_mode": {
    "name": "ipython",
    "version": 3
   },
   "file_extension": ".py",
   "mimetype": "text/x-python",
   "name": "python",
   "nbconvert_exporter": "python",
   "pygments_lexer": "ipython3",
   "version": "3.7.3"
  }
 },
 "nbformat": 4,
 "nbformat_minor": 2
}
