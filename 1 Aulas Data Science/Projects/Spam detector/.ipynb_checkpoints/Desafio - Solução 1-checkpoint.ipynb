{
 "cells": [
  {
   "cell_type": "markdown",
   "metadata": {},
   "source": [
    "# Spam or not Spam?\n",
    "\n",
    "![fg](data:image/jpeg;base64,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)"
   ]
  },
  {
   "cell_type": "markdown",
   "metadata": {},
   "source": [
    "### Seu desafio é ler o banco de dados e criar um detector de SPAM, que acerte no mínimo 95% das vezes!\n",
    "\n",
    "### Dicas:\n",
    "\n",
    "* Separa em teste e treino com no mínimo 30% para teste!\n",
    "* Naive Bayes é um bom modelo para esse tipo de tarefa (https://en.wikipedia.org/wiki/Naive_Bayes_classifier)\n",
    "    * você pode usar ele importando a função do scikit: \n",
    "        * from sklearn.naive_bayes import MultinomialNB\n",
    "        * documentação: https://scikit-learn.org/stable/modules/generated/sklearn.naive_bayes.MultinomialNB.html\n",
    "\n",
    "* Provavelmente você vai ter que transformar os textos em vetores (Tf-idf-vectorizer)\n",
    "    * Os textos estão em inglês, então talvez usar stopwords em inglês ajude\n",
    "* Não esqueça de olhar a matriz de confusão para verificar se seu classificador está balanceado!"
   ]
  },
  {
   "cell_type": "code",
   "execution_count": 10,
   "metadata": {},
   "outputs": [],
   "source": [
    "# Importing libs:\n",
    "\n",
    "import numpy as np \n",
    "import pandas as pd \n",
    "\n",
    "import matplotlib.pyplot as plt\n",
    "import seaborn as sns\n",
    "%matplotlib inline\n",
    "\n",
    "from sklearn.model_selection import train_test_split\n",
    "\n",
    "from sklearn.metrics import accuracy_score, confusion_matrix"
   ]
  },
  {
   "cell_type": "code",
   "execution_count": 2,
   "metadata": {},
   "outputs": [
    {
     "data": {
      "text/html": [
       "<div>\n",
       "<style scoped>\n",
       "    .dataframe tbody tr th:only-of-type {\n",
       "        vertical-align: middle;\n",
       "    }\n",
       "\n",
       "    .dataframe tbody tr th {\n",
       "        vertical-align: top;\n",
       "    }\n",
       "\n",
       "    .dataframe thead th {\n",
       "        text-align: right;\n",
       "    }\n",
       "</style>\n",
       "<table border=\"1\" class=\"dataframe\">\n",
       "  <thead>\n",
       "    <tr style=\"text-align: right;\">\n",
       "      <th></th>\n",
       "      <th>label</th>\n",
       "      <th>message</th>\n",
       "    </tr>\n",
       "  </thead>\n",
       "  <tbody>\n",
       "    <tr>\n",
       "      <th>0</th>\n",
       "      <td>ham</td>\n",
       "      <td>Go until jurong point, crazy.. Available only ...</td>\n",
       "    </tr>\n",
       "    <tr>\n",
       "      <th>1</th>\n",
       "      <td>ham</td>\n",
       "      <td>Ok lar... Joking wif u oni...</td>\n",
       "    </tr>\n",
       "    <tr>\n",
       "      <th>2</th>\n",
       "      <td>spam</td>\n",
       "      <td>Free entry in 2 a wkly comp to win FA Cup fina...</td>\n",
       "    </tr>\n",
       "    <tr>\n",
       "      <th>3</th>\n",
       "      <td>ham</td>\n",
       "      <td>U dun say so early hor... U c already then say...</td>\n",
       "    </tr>\n",
       "    <tr>\n",
       "      <th>4</th>\n",
       "      <td>ham</td>\n",
       "      <td>Nah I don't think he goes to usf, he lives aro...</td>\n",
       "    </tr>\n",
       "    <tr>\n",
       "      <th>5</th>\n",
       "      <td>spam</td>\n",
       "      <td>FreeMsg Hey there darling it's been 3 week's n...</td>\n",
       "    </tr>\n",
       "    <tr>\n",
       "      <th>6</th>\n",
       "      <td>ham</td>\n",
       "      <td>Even my brother is not like to speak with me. ...</td>\n",
       "    </tr>\n",
       "    <tr>\n",
       "      <th>7</th>\n",
       "      <td>ham</td>\n",
       "      <td>As per your request 'Melle Melle (Oru Minnamin...</td>\n",
       "    </tr>\n",
       "    <tr>\n",
       "      <th>8</th>\n",
       "      <td>spam</td>\n",
       "      <td>WINNER!! As a valued network customer you have...</td>\n",
       "    </tr>\n",
       "    <tr>\n",
       "      <th>9</th>\n",
       "      <td>spam</td>\n",
       "      <td>Had your mobile 11 months or more? U R entitle...</td>\n",
       "    </tr>\n",
       "  </tbody>\n",
       "</table>\n",
       "</div>"
      ],
      "text/plain": [
       "  label                                            message\n",
       "0   ham  Go until jurong point, crazy.. Available only ...\n",
       "1   ham                      Ok lar... Joking wif u oni...\n",
       "2  spam  Free entry in 2 a wkly comp to win FA Cup fina...\n",
       "3   ham  U dun say so early hor... U c already then say...\n",
       "4   ham  Nah I don't think he goes to usf, he lives aro...\n",
       "5  spam  FreeMsg Hey there darling it's been 3 week's n...\n",
       "6   ham  Even my brother is not like to speak with me. ...\n",
       "7   ham  As per your request 'Melle Melle (Oru Minnamin...\n",
       "8  spam  WINNER!! As a valued network customer you have...\n",
       "9  spam  Had your mobile 11 months or more? U R entitle..."
      ]
     },
     "execution_count": 2,
     "metadata": {},
     "output_type": "execute_result"
    }
   ],
   "source": [
    "# Reading the dataset:\n",
    "\n",
    "sms = pd.read_csv('sms-spam-collection-dataset.zip', encoding='latin-1')\n",
    "sms = sms.drop(['Unnamed: 2','Unnamed: 3','Unnamed: 4'],axis=1)\n",
    "sms = sms.rename(columns = {'v1':'label','v2':'message'})\n",
    "sms.head(10)"
   ]
  },
  {
   "cell_type": "markdown",
   "metadata": {},
   "source": [
    "## Now is up to you!\n",
    "\n",
    "![ucando](https://encrypted-tbn0.gstatic.com/images?q=tbn:ANd9GcStwxaUWKWGfbC5CgXXRyM0EkEAXzw3z84AmlWHNCv1d_e8D3GS_Q&s)"
   ]
  },
  {
   "cell_type": "code",
   "execution_count": 5,
   "metadata": {},
   "outputs": [],
   "source": [
    "from sklearn.feature_extraction.text import TfidfVectorizer\n",
    "from nltk.corpus import stopwords\n",
    "\n",
    "text_feat = sms['message'].copy()\n",
    "vectorizer = TfidfVectorizer(\"english\")\n",
    "features = vectorizer.fit_transform(text_feat)"
   ]
  },
  {
   "cell_type": "code",
   "execution_count": 6,
   "metadata": {},
   "outputs": [],
   "source": [
    "X_train, X_test, y_train, y_test = train_test_split(features, sms['label'], test_size=0.3, random_state=42)"
   ]
  },
  {
   "cell_type": "code",
   "execution_count": 9,
   "metadata": {},
   "outputs": [],
   "source": [
    " from sklearn.naive_bayes import MultinomialNB\n",
    "model = MultinomialNB()\n",
    "model.fit(X_train, y_train)\n",
    "predictions = model.predict(X_test)"
   ]
  },
  {
   "cell_type": "code",
   "execution_count": 11,
   "metadata": {},
   "outputs": [
    {
     "data": {
      "text/plain": [
       "0.9569377990430622"
      ]
     },
     "execution_count": 11,
     "metadata": {},
     "output_type": "execute_result"
    }
   ],
   "source": [
    "accuracy_score(predictions, y_test)"
   ]
  },
  {
   "cell_type": "code",
   "execution_count": 15,
   "metadata": {},
   "outputs": [
    {
     "data": {
      "image/png": "[encoded data removed]",
      "text/plain": [
       "<Figure size 432x288 with 2 Axes>"
      ]
     },
     "metadata": {
      "needs_background": "light"
     },
     "output_type": "display_data"
    }
   ],
   "source": [
    "sns.heatmap(confusion_matrix(predictions, y_test), annot=True, fmt='.1f');"
   ]
  }
 ],
 "metadata": {
  "kernelspec": {
   "display_name": "Python 3",
   "language": "python",
   "name": "python3"
  },
  "language_info": {
   "codemirror_mode": {
    "name": "ipython",
    "version": 3
   },
   "file_extension": ".py",
   "mimetype": "text/x-python",
   "name": "python",
   "nbconvert_exporter": "python",
   "pygments_lexer": "ipython3",
   "version": "3.6.8"
  }
 },
 "nbformat": 4,
 "nbformat_minor": 2
}
