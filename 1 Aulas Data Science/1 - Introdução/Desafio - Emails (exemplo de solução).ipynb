{
 "cells": [
  {
   "cell_type": "code",
   "execution_count": 1,
   "metadata": {},
   "outputs": [],
   "source": [
    "#Carregando os Dados\n",
    "\n",
    "import csv\n",
    "\n",
    "lista = []\n",
    "with open('lista_emails.csv', newline='') as inputfile:\n",
    "    for row in csv.reader(inputfile):\n",
    "        lista.append(row[0])"
   ]
  },
  {
   "cell_type": "code",
   "execution_count": 2,
   "metadata": {},
   "outputs": [
    {
     "data": {
      "text/plain": [
       "6857"
      ]
     },
     "execution_count": 2,
     "metadata": {},
     "output_type": "execute_result"
    }
   ],
   "source": [
    "#Quantidade de emails na nossa lista\n",
    "len(lista)"
   ]
  },
  {
   "cell_type": "code",
   "execution_count": 3,
   "metadata": {},
   "outputs": [
    {
     "data": {
      "text/plain": [
       "['bozo_lp_2@yahoo.com.br',\n",
       " 'br88jp@gmail.com',\n",
       " 'braeckevelt@pandora.be',\n",
       " 'braiannunes@yahoo.com.br',\n",
       " 'braiannunes@yahoo.com.br',\n",
       " 'brainstorming.br@gmail.com',\n",
       " 'brancogoval@hotmail.com',\n",
       " 'brandynho__2007@hotmail.com',\n",
       " 'Brasil.Naruto@gmail.com',\n",
       " 'brawnzinho@hotmail.com.br']"
      ]
     },
     "execution_count": 3,
     "metadata": {},
     "output_type": "execute_result"
    }
   ],
   "source": [
    "#Visualizando\n",
    "lista[700:710]"
   ]
  },
  {
   "cell_type": "code",
   "execution_count": 4,
   "metadata": {},
   "outputs": [],
   "source": [
    "#Deixando todos minúsucols\n",
    "lista = list(map(lambda x: x.lower(), lista))"
   ]
  },
  {
   "cell_type": "code",
   "execution_count": 5,
   "metadata": {},
   "outputs": [
    {
     "data": {
      "text/plain": [
       "[('thayronenipponic@hotmail.com', 34),\n",
       " ('john.darkkiss@yahoo.com.br', 9),\n",
       " ('duuh_lost@hotmail.com', 7),\n",
       " ('kayyomuaythai22@gmail.com', 7),\n",
       " ('marcelo_profile2@yahoo.com.br', 7),\n",
       " ('tdb_euevc@hotmail.com', 7),\n",
       " ('viktor_chorao@hotmail.com', 7),\n",
       " ('chacy.ejpj@gmail.com', 6),\n",
       " ('charlesxfile@hotmail.com', 6),\n",
       " ('dejesus.vitor@gmail.com', 6)]"
      ]
     },
     "execution_count": 5,
     "metadata": {},
     "output_type": "execute_result"
    }
   ],
   "source": [
    "#Existem emails repetidos?\n",
    "\n",
    "from collections import Counter\n",
    "count = Counter(lista) # Cria uma contagem de cada valor na lista\n",
    "count.most_common(10) # Retorna os 'n' mais frequentes valores\n",
    "\n",
    "#Info sobre a biblioteca Counter: \n",
    "# https://towardsdatascience.com/pythons-collections-module-high-performance-container-data-types-cb4187afb5fc"
   ]
  },
  {
   "cell_type": "code",
   "execution_count": 6,
   "metadata": {},
   "outputs": [],
   "source": [
    "# Removendo emails repetidos\n",
    "lista = list(set(lista))"
   ]
  },
  {
   "cell_type": "code",
   "execution_count": 7,
   "metadata": {},
   "outputs": [
    {
     "data": {
      "text/plain": [
       "[('soulmaster.fake@yahoo.com.br', 1),\n",
       " ('rodox-agloco@bol.com.br', 1),\n",
       " ('tainara.mendes@gmail.com', 1),\n",
       " ('gino.daniel@yahoo.com.br', 1),\n",
       " ('leticia_mel@ig.com.br', 1),\n",
       " ('ju_lele_@hotmail.com', 1),\n",
       " ('frunksousa@gmail.com', 1),\n",
       " ('felipe_funk_jm@yahoo.com.br', 1),\n",
       " ('mancha_100_@hotmail.com', 1),\n",
       " ('luciodoideira@yahoo.com.br', 1)]"
      ]
     },
     "execution_count": 7,
     "metadata": {},
     "output_type": "execute_result"
    }
   ],
   "source": [
    "# Verificando se agora existem valores duplicados\n",
    "from collections import Counter\n",
    "count = Counter(lista)\n",
    "count.most_common(10)"
   ]
  },
  {
   "cell_type": "code",
   "execution_count": 8,
   "metadata": {},
   "outputs": [
    {
     "data": {
      "text/plain": [
       "5364"
      ]
     },
     "execution_count": 8,
     "metadata": {},
     "output_type": "execute_result"
    }
   ],
   "source": [
    "#Quantidade de emails que sobraram?\n",
    "len(lista)"
   ]
  },
  {
   "cell_type": "code",
   "execution_count": 9,
   "metadata": {},
   "outputs": [
    {
     "name": "stdout",
     "output_type": "stream",
     "text": [
      "Quantidade de duplicatas na lista correspondia a 21.77%\n"
     ]
    }
   ],
   "source": [
    "#Quantos % representavam os valores duplicados?\n",
    "print('Quantidade de duplicatas na lista correspondia a {:.2%}'.format(1 - 5364 / 6857)) "
   ]
  },
  {
   "cell_type": "code",
   "execution_count": 11,
   "metadata": {},
   "outputs": [],
   "source": [
    "def removendo_emails(email):\n",
    "    #Essa função recebe um email e retorna o provedor do mesmo\n",
    "    \n",
    "    email = email.split('@')[1]\n",
    "    email = email.split('.')[0]\n",
    "    \n",
    "    return email.lower()"
   ]
  },
  {
   "cell_type": "code",
   "execution_count": 12,
   "metadata": {},
   "outputs": [
    {
     "data": {
      "text/plain": [
       "'ucs'"
      ]
     },
     "execution_count": 12,
     "metadata": {},
     "output_type": "execute_result"
    }
   ],
   "source": [
    "#Testando a função criada\n",
    "removendo_emails('Rbiasuz@Ucs.br')"
   ]
  },
  {
   "cell_type": "code",
   "execution_count": 13,
   "metadata": {},
   "outputs": [],
   "source": [
    "#Aplicando a função criada na nossa lista\n",
    "emails = map(removendo_emails, lista)"
   ]
  },
  {
   "cell_type": "code",
   "execution_count": 14,
   "metadata": {},
   "outputs": [],
   "source": [
    "#Transformando novamente em uma lista\n",
    "emails = list(emails)"
   ]
  },
  {
   "cell_type": "code",
   "execution_count": 15,
   "metadata": {},
   "outputs": [
    {
     "data": {
      "text/plain": [
       "[('hotmail', 2525),\n",
       " ('yahoo', 1507),\n",
       " ('gmail', 623),\n",
       " ('bol', 333),\n",
       " ('ig', 54),\n",
       " ('msn', 32),\n",
       " ('uol', 26),\n",
       " ('oi', 26),\n",
       " ('terra', 22),\n",
       " ('jim', 16),\n",
       " ('pop', 15),\n",
       " ('ibest', 12),\n",
       " ('zipmail', 12),\n",
       " ('walla', 10),\n",
       " ('itelefonica', 10),\n",
       " ('pandora', 8),\n",
       " ('click21', 7),\n",
       " ('globo', 7),\n",
       " ('brturbo', 4),\n",
       " ('yaroo', 3),\n",
       " ('superig', 3),\n",
       " ('portalcorinthians', 2),\n",
       " ('curitiba', 2),\n",
       " ('hellokitty', 2),\n",
       " ('univale', 2),\n",
       " ('netsite', 2),\n",
       " ('orolix', 2),\n",
       " ('hotmal', 2),\n",
       " ('linuxmail', 2),\n",
       " ('revistaetapa', 1),\n",
       " ('net', 1),\n",
       " ('fdsb', 1),\n",
       " ('tobiasschoenenberg', 1),\n",
       " ('thavars', 1),\n",
       " ('ahoo', 1),\n",
       " ('live', 1),\n",
       " ('wvbpdti', 1),\n",
       " ('telenet', 1),\n",
       " ('simple', 1),\n",
       " ('lol', 1),\n",
       " ('email', 1),\n",
       " ('vipz', 1),\n",
       " ('texas', 1),\n",
       " ('howest', 1),\n",
       " ('grupomodelo', 1),\n",
       " ('enois157', 1),\n",
       " ('philips', 1),\n",
       " ('brasnet', 1),\n",
       " ('sapo', 1),\n",
       " ('hottmail', 1),\n",
       " ('s3x', 1),\n",
       " ('borg', 1),\n",
       " ('eu', 1),\n",
       " ('detran', 1),\n",
       " ('185ig', 1),\n",
       " ('ninim', 1),\n",
       " ('lolqkpiae', 1),\n",
       " ('acipatos', 1),\n",
       " ('bimsem', 1),\n",
       " ('wu', 1),\n",
       " ('deofficedokter', 1),\n",
       " ('24fun', 1),\n",
       " ('nanda', 1),\n",
       " ('fake', 1),\n",
       " ('unipam', 1),\n",
       " ('cresce', 1),\n",
       " ('codex', 1),\n",
       " ('freesurf', 1),\n",
       " ('rediffmail', 1),\n",
       " ('megamusicas', 1),\n",
       " ('yhaoo', 1),\n",
       " ('spolicarpo', 1),\n",
       " ('hot', 1),\n",
       " ('vinicyus', 1),\n",
       " ('buecker', 1),\n",
       " ('didimoco', 1),\n",
       " ('col', 1),\n",
       " ('paulohenrique', 1),\n",
       " ('octanefx', 1),\n",
       " ('hotimail', 1),\n",
       " ('chock', 1),\n",
       " ('gamil', 1),\n",
       " ('kaka', 1),\n",
       " ('dkdjs', 1),\n",
       " ('louka', 1),\n",
       " ('fox', 1),\n",
       " ('loanda', 1),\n",
       " ('mississippi', 1),\n",
       " ('isbt', 1),\n",
       " ('chunga', 1),\n",
       " ('donz', 1),\n",
       " ('gemail', 1),\n",
       " ('tknet', 1),\n",
       " ('hotmai', 1),\n",
       " ('oucaneo', 1),\n",
       " ('electrabel', 1),\n",
       " ('caguei', 1),\n",
       " ('ozu', 1),\n",
       " ('hub', 1),\n",
       " ('bugs', 1),\n",
       " ('homail', 1),\n",
       " ('amigo', 1),\n",
       " ('exploits', 1),\n",
       " ('teste', 1),\n",
       " ('yahool', 1),\n",
       " ('akkerbabbelaar', 1),\n",
       " ('guiatech', 1),\n",
       " ('hotrmail', 1),\n",
       " ('verhegge', 1),\n",
       " ('lindinha', 1),\n",
       " ('maesweb', 1),\n",
       " ('yaho', 1),\n",
       " ('bypalhaco', 1),\n",
       " ('boneca', 1),\n",
       " ('amandafrancozo', 1),\n",
       " ('yahooo', 1),\n",
       " ('moderador', 1),\n",
       " ('motoqueirofantasma', 1),\n",
       " ('hotmial', 1),\n",
       " ('ajato', 1),\n",
       " ('veloxmail', 1),\n",
       " ('rock', 1)]"
      ]
     },
     "execution_count": 15,
     "metadata": {},
     "output_type": "execute_result"
    }
   ],
   "source": [
    "#Verificando os emails mais frequentes:\n",
    "emails_freq = Counter(emails)\n",
    "emails_freq.most_common()"
   ]
  },
  {
   "cell_type": "code",
   "execution_count": 16,
   "metadata": {},
   "outputs": [
    {
     "data": {
      "text/plain": [
       "[('hotmail', 2525),\n",
       " ('yahoo', 1507),\n",
       " ('gmail', 623),\n",
       " ('bol', 333),\n",
       " ('ig', 54),\n",
       " ('msn', 32),\n",
       " ('uol', 26),\n",
       " ('oi', 26),\n",
       " ('terra', 22),\n",
       " ('jim', 16)]"
      ]
     },
     "execution_count": 16,
     "metadata": {},
     "output_type": "execute_result"
    }
   ],
   "source": [
    "#Vamos focar apenas nos 10 mais comuns\n",
    "emails_freq.most_common(10)"
   ]
  },
  {
   "cell_type": "code",
   "execution_count": 17,
   "metadata": {},
   "outputs": [],
   "source": [
    "# transformando as listas de valores em duas variáveis\n",
    "labels, values = zip(*emails_freq.most_common(10))"
   ]
  },
  {
   "cell_type": "code",
   "execution_count": 18,
   "metadata": {},
   "outputs": [],
   "source": [
    "# Importando a biblioteca básica de visualização de dados \n",
    "import matplotlib.pyplot as plt\n",
    "%matplotlib inline"
   ]
  },
  {
   "cell_type": "code",
   "execution_count": 19,
   "metadata": {
    "scrolled": false
   },
   "outputs": [
    {
     "data": {
      "text/plain": [
       "Text(0.5, 1.0, 'Quantidade de emails por provedor')"
      ]
     },
     "execution_count": 19,
     "metadata": {},
     "output_type": "execute_result"
    },
    {
     "data": {
      "image/png": "[encoded data removed]",
      "text/plain": [
       "<Figure size 1008x432 with 1 Axes>"
      ]
     },
     "metadata": {
      "needs_background": "light"
     },
     "output_type": "display_data"
    }
   ],
   "source": [
    "# Plotando um gráfico de barras dos nossos dados\n",
    "plt.figure(figsize=(14,6))\n",
    "plt.style.use('fivethirtyeight')\n",
    "plt.bar(labels, values)\n",
    "plt.title(\"Quantidade de emails por provedor\", fontsize=20)"
   ]
  },
  {
   "cell_type": "code",
   "execution_count": 111,
   "metadata": {},
   "outputs": [],
   "source": [
    "# Qual o % de cada?\n",
    "values_per = []\n",
    "for val in values:\n",
    "    values_per.append(round(val / len(lista) * 100,2))"
   ]
  },
  {
   "cell_type": "code",
   "execution_count": 112,
   "metadata": {},
   "outputs": [
    {
     "data": {
      "text/plain": [
       "[47.07, 28.09, 11.61, 6.21, 1.01, 0.6, 0.48, 0.48, 0.41, 0.3]"
      ]
     },
     "execution_count": 112,
     "metadata": {},
     "output_type": "execute_result"
    }
   ],
   "source": [
    "values_per"
   ]
  },
  {
   "cell_type": "code",
   "execution_count": 25,
   "metadata": {},
   "outputs": [
    {
     "data": {
      "text/plain": [
       "[2525, 1507, 623, 333, 376]"
      ]
     },
     "execution_count": 25,
     "metadata": {},
     "output_type": "execute_result"
    }
   ],
   "source": [
    "labels, values = zip(*emails_freq.most_common())\n",
    "values = list(values)\n",
    "labels = list(labels)\n",
    "\n",
    "aux = sum(values[4:])\n",
    "sizes = values[:4]\n",
    "sizes.append(aux)\n",
    "sizes"
   ]
  },
  {
   "cell_type": "code",
   "execution_count": 26,
   "metadata": {},
   "outputs": [
    {
     "data": {
      "text/plain": [
       "['hotmail', 'yahoo', 'gmail', 'bol', 'Outros']"
      ]
     },
     "execution_count": 26,
     "metadata": {},
     "output_type": "execute_result"
    }
   ],
   "source": [
    "labels = list(labels)\n",
    "labels = labels[:4]\n",
    "labels.append('Outros')\n",
    "labels"
   ]
  },
  {
   "cell_type": "code",
   "execution_count": 27,
   "metadata": {},
   "outputs": [
    {
     "data": {
      "image/png": "[encoded data removed]",
      "text/plain": [
       "<Figure size 1008x432 with 1 Axes>"
      ]
     },
     "metadata": {},
     "output_type": "display_data"
    }
   ],
   "source": [
    "# Data to plot\n",
    "plt.figure(figsize=(14,6))\n",
    "explode = (0.15, 0., 0., 0., 0.)  # explode 1st slice\n",
    "\n",
    "# Plot\n",
    "plt.pie(sizes, explode=explode, labels=labels, autopct='%1.1f%%', shadow=True, startangle=90)\n",
    "plt.axis('equal')\n",
    "plt.show()"
   ]
  }
 ],
 "metadata": {
  "kernelspec": {
   "display_name": "Python 3",
   "language": "python",
   "name": "python3"
  },
  "language_info": {
   "codemirror_mode": {
    "name": "ipython",
    "version": 3
   },
   "file_extension": ".py",
   "mimetype": "text/x-python",
   "name": "python",
   "nbconvert_exporter": "python",
   "pygments_lexer": "ipython3",
   "version": "3.7.3"
  }
 },
 "nbformat": 4,
 "nbformat_minor": 2
}
