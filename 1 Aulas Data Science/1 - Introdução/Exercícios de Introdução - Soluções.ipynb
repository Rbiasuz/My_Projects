{
 "cells": [
  {
   "cell_type": "markdown",
   "metadata": {},
   "source": [
    "# Hello World!\n",
    "\n",
    "Olá, Jovem Padawan!\n",
    "\n",
    "Esses exercícios são apenas para avançarmos alguns quesitos relacionados ao uso do Jupyter Notebook e das funções mais básicas de Python!\n",
    "\n",
    "Cada questão terá uma pequena instrução, e é esperado que você coloque seu código quando você se deparar com a seguinte mensagem:\n",
    "\n",
    "    #Seu código aqui\n",
    "    \n",
    "Geralmente vão ter 3 pontinhos pra lhe guiar nas partes que está faltando alguma coisa\n",
    "    \n",
    "Qualquer dúvida não hesitem em entrar em contato:\n",
    "\n",
    "> rbiasuz@ucs.br, 999437411\n",
    "\n"
   ]
  },
  {
   "cell_type": "markdown",
   "metadata": {},
   "source": [
    "## Task 1:\n",
    "\n",
    "#### Colocar a imagem que está no link https://pics.me.me/you-did-well-young-padawan-501431.png diretamente na célula abaixo.\n",
    "\n",
    "Hint: Para exibir direto uma imagem, você pode utilizar a chamada: ! [nome que vc quiser dar para a figura] (link) "
   ]
  },
  {
   "cell_type": "markdown",
   "metadata": {},
   "source": [
    "![figura]( https://pics.me.me/you-did-well-young-padawan-501431.png )"
   ]
  },
  {
   "cell_type": "markdown",
   "metadata": {},
   "source": [
    "## Task 2:\n",
    "\n",
    "#### Verifique o tipo das váriaveis abaixo:\n",
    "\n",
    "Obs.: Para saber o tipo de uma variável digite a função type('nome da variavel')\n"
   ]
  },
  {
   "cell_type": "code",
   "execution_count": 1,
   "metadata": {},
   "outputs": [],
   "source": [
    "a = 'Mochileiro'\n",
    "b = 42\n",
    "c = ['das', 'Galáxias']\n",
    "d = {'Douglas Adams':\"Mochileiro\", 'Tolkien': 'Senhor dos Anéis'}\n",
    "e = 3.1415\n",
    "f = (2.7182, 'e')\n",
    "\n",
    "# Atenção, essa célula é onde estão as variáveis, porém você precisa executar ela\n",
    "# Caso contrário você tera um erro\n",
    "# para executar, pode apenas selecionar ela e pressionar ctrl + enter"
   ]
  },
  {
   "cell_type": "code",
   "execution_count": 3,
   "metadata": {},
   "outputs": [
    {
     "name": "stdout",
     "output_type": "stream",
     "text": [
      "<class 'str'>\n",
      "<class 'int'>\n",
      "<class 'list'>\n",
      "<class 'dict'>\n",
      "<class 'float'>\n",
      "<class 'tuple'>\n"
     ]
    }
   ],
   "source": [
    "#Seu código aqui\n",
    "\n",
    "print(type(a))      #Esse está feito para você. ^_^\n",
    "print(type(b))    #Agora é só ajustar o código aonde estão os 3 pontinhos\n",
    "print(type(c))\n",
    "print(type(d))\n",
    "print(type(e))\n",
    "print(type(f))"
   ]
  },
  {
   "cell_type": "markdown",
   "metadata": {},
   "source": [
    "## Task 3\n",
    "\n",
    "#### Obtenha o resultado de 296 dividido por 7 "
   ]
  },
  {
   "cell_type": "code",
   "execution_count": 4,
   "metadata": {},
   "outputs": [
    {
     "data": {
      "text/plain": [
       "42.285714285714285"
      ]
     },
     "execution_count": 4,
     "metadata": {},
     "output_type": "execute_result"
    }
   ],
   "source": [
    "#seu código aqui\n",
    "296 / 7"
   ]
  },
  {
   "cell_type": "markdown",
   "metadata": {},
   "source": [
    "## Task 4\n",
    "\n",
    "#### Utilize as váriaveis abaixo para obter o valor \"Jóias do Infinito\""
   ]
  },
  {
   "cell_type": "code",
   "execution_count": 6,
   "metadata": {},
   "outputs": [],
   "source": [
    "a = \"Jóias\"\n",
    "b = \" Do\"\n",
    "c = \" Infinito\""
   ]
  },
  {
   "cell_type": "code",
   "execution_count": 7,
   "metadata": {},
   "outputs": [
    {
     "data": {
      "text/plain": [
       "'Jóias Do Infinito'"
      ]
     },
     "execution_count": 7,
     "metadata": {},
     "output_type": "execute_result"
    }
   ],
   "source": [
    "#seu código aqui'\n",
    "a + b + c"
   ]
  },
  {
   "cell_type": "markdown",
   "metadata": {},
   "source": [
    "## Task 5 - Challange\n",
    "\n",
    "#### 1) Importe a biblioteca do Pandas com o alias 'pd'\n",
    "#### 2) Importe a biblioteca do Matplotlib.pyplot com o alias 'plt'\n",
    "#### 3) Crie as listas solicitadas abaixo\n",
    "#### 4) Crie o dicionário de acordo com as instruções\n",
    "#### 5) Execute a célula que vai criar um Dataframe para você (mais sobre isso adiante)\n",
    "#### 6) Use o comando .plot para criar um gráfico de linha do nosso Dataframe"
   ]
  },
  {
   "cell_type": "code",
   "execution_count": 8,
   "metadata": {},
   "outputs": [],
   "source": [
    "#seu código aqui\n",
    "import pandas as pd\n",
    "import matplotlib.pyplot as plt\n",
    "\n",
    "#esse comando define o matplotlib no modo inline - está feito para você\n",
    "%matplotlib inline"
   ]
  },
  {
   "cell_type": "code",
   "execution_count": 9,
   "metadata": {},
   "outputs": [],
   "source": [
    "#lista 1: números de 1 até 4, de um em um\n",
    "#lista 2: números de 2 até 16, sendo cada valor a multiplicação do anterior por 2\n",
    "#Lista 3 está feita\n",
    "\n",
    "#seu código aqui\n",
    "lista1 = [1,2,3,4]\n",
    "lista2 = [2,4,8,16]\n",
    "nomes = ['P_1','P_2','P_3','P_4']"
   ]
  },
  {
   "cell_type": "code",
   "execution_count": 11,
   "metadata": {},
   "outputs": [],
   "source": [
    "    # Hint: \n",
    "# os valores de cada chave de um dicionário podem ser de qualquer tipo\n",
    "# incluindo listas ou até mesmo outros dicionários\n",
    "\n",
    "#crie um dicionário onde a chave 'nomes' seja a lista de nomes declarada anteriormente,\n",
    "#e que a chave \"a\" seja a lista 1 \n",
    "#e que a chave \"b\" seja a lista 2\n",
    "\n",
    "#seu código aqui\n",
    "dicionario = {'nomes': nomes, 'a':lista1, 'b':lista2}"
   ]
  },
  {
   "cell_type": "code",
   "execution_count": 12,
   "metadata": {},
   "outputs": [
    {
     "data": {
      "text/html": [
       "<div>\n",
       "<style scoped>\n",
       "    .dataframe tbody tr th:only-of-type {\n",
       "        vertical-align: middle;\n",
       "    }\n",
       "\n",
       "    .dataframe tbody tr th {\n",
       "        vertical-align: top;\n",
       "    }\n",
       "\n",
       "    .dataframe thead th {\n",
       "        text-align: right;\n",
       "    }\n",
       "</style>\n",
       "<table border=\"1\" class=\"dataframe\">\n",
       "  <thead>\n",
       "    <tr style=\"text-align: right;\">\n",
       "      <th></th>\n",
       "      <th>nomes</th>\n",
       "      <th>a</th>\n",
       "      <th>b</th>\n",
       "    </tr>\n",
       "  </thead>\n",
       "  <tbody>\n",
       "    <tr>\n",
       "      <th>0</th>\n",
       "      <td>P_1</td>\n",
       "      <td>1</td>\n",
       "      <td>2</td>\n",
       "    </tr>\n",
       "    <tr>\n",
       "      <th>1</th>\n",
       "      <td>P_2</td>\n",
       "      <td>2</td>\n",
       "      <td>4</td>\n",
       "    </tr>\n",
       "    <tr>\n",
       "      <th>2</th>\n",
       "      <td>P_3</td>\n",
       "      <td>3</td>\n",
       "      <td>8</td>\n",
       "    </tr>\n",
       "    <tr>\n",
       "      <th>3</th>\n",
       "      <td>P_4</td>\n",
       "      <td>4</td>\n",
       "      <td>16</td>\n",
       "    </tr>\n",
       "  </tbody>\n",
       "</table>\n",
       "</div>"
      ],
      "text/plain": [
       "  nomes  a   b\n",
       "0   P_1  1   2\n",
       "1   P_2  2   4\n",
       "2   P_3  3   8\n",
       "3   P_4  4  16"
      ]
     },
     "execution_count": 12,
     "metadata": {},
     "output_type": "execute_result"
    }
   ],
   "source": [
    "# Esse comando cria um DataFrame - uma estrutura de dados em tabela - apenas execute para ver o resultado\n",
    "df = pd.DataFrame(dicionario) \n",
    "df"
   ]
  },
  {
   "cell_type": "code",
   "execution_count": 14,
   "metadata": {},
   "outputs": [
    {
     "data": {
      "text/plain": [
       "<matplotlib.axes._subplots.AxesSubplot at 0x20aed4cfb70>"
      ]
     },
     "execution_count": 14,
     "metadata": {},
     "output_type": "execute_result"
    },
    {
     "data": {
      "image/png": "[encoded data removed]",
      "text/plain": [
       "<Figure size 432x288 with 1 Axes>"
      ]
     },
     "metadata": {
      "needs_background": "light"
     },
     "output_type": "display_data"
    }
   ],
   "source": [
    "#Pandas e Matplotlib funcionam de forma integrada.\n",
    "#Basta chamar .plot() que o gráfico será criado considerando apenas as variáveis numéricas.\n",
    "\n",
    "#Seu código aqui\n",
    "df.plot()"
   ]
  },
  {
   "cell_type": "markdown",
   "metadata": {},
   "source": [
    "# Parabéns!\n",
    "\n",
    "## Você fez seu primeiro Notebook! \n",
    "\n",
    "### ^^\n",
    "\n",
    "\n",
    "![gif](https://media1.tenor.com/images/d86cad7fe20aa5c8fc8ef64c80355bb4/tenor.gif?itemid=4115431)\n"
   ]
  }
 ],
 "metadata": {
  "kernelspec": {
   "display_name": "Python 3",
   "language": "python",
   "name": "python3"
  },
  "language_info": {
   "codemirror_mode": {
    "name": "ipython",
    "version": 3
   },
   "file_extension": ".py",
   "mimetype": "text/x-python",
   "name": "python",
   "nbconvert_exporter": "python",
   "pygments_lexer": "ipython3",
   "version": "3.6.8"
  }
 },
 "nbformat": 4,
 "nbformat_minor": 2
}
