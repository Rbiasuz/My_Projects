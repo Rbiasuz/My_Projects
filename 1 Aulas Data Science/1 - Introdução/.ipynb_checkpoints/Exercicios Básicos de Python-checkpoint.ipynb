{
 "cells": [
  {
   "cell_type": "markdown",
   "metadata": {},
   "source": [
    "## Exercícios -  Comandos básicos em Python\n",
    "\n",
    "Complete os exercícios abaixo"
   ]
  },
  {
   "cell_type": "markdown",
   "metadata": {},
   "source": [
    "#### Verifique o tipo das váriaveis abaixo:"
   ]
  },
  {
   "cell_type": "code",
   "execution_count": 1,
   "metadata": {},
   "outputs": [],
   "source": [
    "a = 'Mochileiro'\n",
    "b = 42\n",
    "c = ['das', 'Galáxias']\n",
    "d = {'Douglas Adams':\"Mochileiro\", 'Tolkien': 'Senhor dos Anéis'}\n",
    "e = 3.1415\n",
    "f = (2.7182, 'e')"
   ]
  },
  {
   "cell_type": "code",
   "execution_count": 2,
   "metadata": {},
   "outputs": [
    {
     "name": "stdout",
     "output_type": "stream",
     "text": [
      "<class 'str'>\n",
      "<class 'int'>\n",
      "<class 'list'>\n",
      "<class 'dict'>\n",
      "<class 'float'>\n",
      "<class 'tuple'>\n"
     ]
    }
   ],
   "source": [
    "print(type(a)) #Esse está feito para você. ^_^\n",
    "print(type(b))\n",
    "print(type(c))\n",
    "print(type(d))\n",
    "print(type(e))\n",
    "print(type(f))"
   ]
  },
  {
   "cell_type": "markdown",
   "metadata": {},
   "source": [
    "#### Obtenha o resultado de 296 dividido por 7 "
   ]
  },
  {
   "cell_type": "code",
   "execution_count": 39,
   "metadata": {},
   "outputs": [],
   "source": [
    "#seu código aqui'\n"
   ]
  },
  {
   "cell_type": "markdown",
   "metadata": {},
   "source": [
    "#### Utilize as váriaveis abaixo para obter o valor \"Jóias do Infinito\""
   ]
  },
  {
   "cell_type": "code",
   "execution_count": 34,
   "metadata": {},
   "outputs": [],
   "source": [
    "a = \"Jóias\"\n",
    "b = \" Do\"\n",
    "c = \" Infinito\""
   ]
  },
  {
   "cell_type": "code",
   "execution_count": 33,
   "metadata": {
    "scrolled": true
   },
   "outputs": [],
   "source": [
    "#seu código aqui'"
   ]
  },
  {
   "cell_type": "markdown",
   "metadata": {},
   "source": [
    "#### Dada as variáveis:**\n",
    "\n",
    "    Planeta = \"Titã\"\n",
    "    Personagem = \"Thanos\"\n",
    "\n",
    "#### Use .format() para printar a seguinte frase: **\n",
    "\n",
    "    O vilão Thanos é de um planeta chamado Titã, que não é mais habitado..."
   ]
  },
  {
   "cell_type": "code",
   "execution_count": 3,
   "metadata": {},
   "outputs": [],
   "source": [
    "planeta = \"Titã\"\n",
    "diametro = 'Thanos'"
   ]
  },
  {
   "cell_type": "code",
   "execution_count": 7,
   "metadata": {},
   "outputs": [],
   "source": [
    "#seu código aqui'"
   ]
  },
  {
   "cell_type": "markdown",
   "metadata": {},
   "source": [
    "#### Dada a lista abaixo, obtenha a palavra doutor \"Doctor\"."
   ]
  },
  {
   "cell_type": "code",
   "execution_count": 13,
   "metadata": {},
   "outputs": [],
   "source": [
    "lista = [1, 2, 'teste', 4, 'Doctor', 'se você obter esse lembre da indexãção em python...']"
   ]
  },
  {
   "cell_type": "code",
   "execution_count": 31,
   "metadata": {},
   "outputs": [],
   "source": [
    "#seu código aqui'"
   ]
  },
  {
   "cell_type": "markdown",
   "metadata": {},
   "source": [
    "#### Dado o seguinte dicionário, extraia \"Senhor dos Anéis\""
   ]
  },
  {
   "cell_type": "code",
   "execution_count": 15,
   "metadata": {},
   "outputs": [],
   "source": [
    "d = {'Douglas Adams':\"Mochileiro\", 'Tolkien': 'Senhor dos Anéis'}"
   ]
  },
  {
   "cell_type": "code",
   "execution_count": 30,
   "metadata": {},
   "outputs": [],
   "source": [
    "#seu código aqui'"
   ]
  },
  {
   "cell_type": "markdown",
   "metadata": {},
   "source": [
    "#### Construa uma função chamada ver_nome(x) que retire o nome dado um e-mail no seguinte formato:\n",
    "\n",
    "    rbiasuz@ucs.br\n",
    "    \n",
    "##### Por exemplo, passando como parâmetro \"rbiasuz@ucs.br\" retornaria: rbiasuz"
   ]
  },
  {
   "cell_type": "code",
   "execution_count": 29,
   "metadata": {},
   "outputs": [],
   "source": [
    "#seu código aqui'"
   ]
  },
  {
   "cell_type": "code",
   "execution_count": 43,
   "metadata": {},
   "outputs": [
    {
     "name": "stdout",
     "output_type": "stream",
     "text": [
      "rbiasuz\n"
     ]
    }
   ],
   "source": [
    "ver_nome('rbiasuz@ucs.br')"
   ]
  },
  {
   "cell_type": "markdown",
   "metadata": {},
   "source": [
    "#### Crie uma função chamada tamanho(x,y) que receba dois números e diga se o primeiro é maior, igual ou menor que o segundo."
   ]
  },
  {
   "cell_type": "code",
   "execution_count": 28,
   "metadata": {},
   "outputs": [],
   "source": [
    "#seu código aqui'"
   ]
  },
  {
   "cell_type": "code",
   "execution_count": 26,
   "metadata": {},
   "outputs": [
    {
     "name": "stdout",
     "output_type": "stream",
     "text": [
      "O primeiro é menor\n",
      "São iguais\n",
      "O primeiro é maior\n"
     ]
    }
   ],
   "source": [
    "for i in range(3):\n",
    "    tamanho(i,1)"
   ]
  }
 ],
 "metadata": {
  "kernelspec": {
   "display_name": "Python 3",
   "language": "python",
   "name": "python3"
  },
  "language_info": {
   "codemirror_mode": {
    "name": "ipython",
    "version": 3
   },
   "file_extension": ".py",
   "mimetype": "text/x-python",
   "name": "python",
   "nbconvert_exporter": "python",
   "pygments_lexer": "ipython3",
   "version": "3.7.3"
  }
 },
 "nbformat": 4,
 "nbformat_minor": 1
}
