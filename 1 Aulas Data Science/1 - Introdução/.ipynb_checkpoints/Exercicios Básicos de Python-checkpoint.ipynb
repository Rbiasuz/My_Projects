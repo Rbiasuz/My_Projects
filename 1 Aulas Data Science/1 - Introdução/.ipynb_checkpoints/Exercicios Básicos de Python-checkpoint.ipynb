{
 "cells": [
  {
   "cell_type": "markdown",
   "metadata": {},
   "source": [
    "## Exercícios -  Comandos básicos em Python\n",
    "\n",
    "Complete os exercícios abaixo"
   ]
  },
  {
   "cell_type": "markdown",
   "metadata": {},
   "source": [
    "#### Dado o seguinte dicionário, extraia \"Senhor dos Anéis\""
   ]
  },
  {
   "cell_type": "code",
   "execution_count": 1,
   "metadata": {},
   "outputs": [],
   "source": [
    "d = {'Douglas Adams':\"Mochileiro\", 'Tolkien': 'Senhor dos Anéis'}"
   ]
  },
  {
   "cell_type": "code",
   "execution_count": 2,
   "metadata": {},
   "outputs": [
    {
     "data": {
      "text/plain": [
       "'Senhor dos Anéis'"
      ]
     },
     "execution_count": 2,
     "metadata": {},
     "output_type": "execute_result"
    }
   ],
   "source": [
    "#seu código aqui"
   ]
  },
  {
   "cell_type": "markdown",
   "metadata": {},
   "source": [
    "#### Dada as lista abaixo, obtenha a palavra doutor \"Doctor\" e \"Strange\"."
   ]
  },
  {
   "cell_type": "code",
   "execution_count": 3,
   "metadata": {},
   "outputs": [],
   "source": [
    "lista1 = [1, 2, 'três', 4, 'Doctor', 'se você obter esse lembre da indexãção em python...']\n",
    "lista2 = [\n",
    "    [1,2,3,4],\n",
    "    [5,6,'Strange',8],\n",
    "    [9,10,11,12]\n",
    "]"
   ]
  },
  {
   "cell_type": "code",
   "execution_count": 4,
   "metadata": {},
   "outputs": [
    {
     "name": "stdout",
     "output_type": "stream",
     "text": [
      "Doctor Strange\n"
     ]
    }
   ],
   "source": [
    "#seu código aqui"
   ]
  },
  {
   "cell_type": "markdown",
   "metadata": {},
   "source": [
    "#### Dados os Conjuntos:**\n",
    "\n",
    "    engineers = ['Alice', 'Luke', 'Leia', 'Ash', 'Brock', 'Dawn', 'May'...]\n",
    "    managers = ['Ash', 'Rock', 'Logan', 'Xavier', 'Jay', 'Marcus', 'May'... ]\n",
    "    programmers = ['Ash', 'Alice', 'Rock', 'Sean', 'Leia', 'Brock', ...]\n",
    "\n",
    "#### Retorne os engenheiros que são gerentes mas não são programadores:\n"
   ]
  },
  {
   "cell_type": "code",
   "execution_count": 5,
   "metadata": {},
   "outputs": [],
   "source": [
    "engineers = set(['Silver', 'Gold', 'Red', 'Blue', 'Crystal', 'Jack', 'Janice', 'Peter', 'Paul', 'Alice', 'Luke', 'Ruby','Leia', 'Ash', 'Brock', 'Dawn', 'May'])\n",
    "managers = set(['Ash', 'Rock', 'Logan', 'Xavier', 'Jay', 'Crystal', 'Marcus', 'Silver', 'Gold' 'May', 'Jack', 'Brock', 'Dawn', 'Luke', 'Ruby'])\n",
    "programmers = set(['Paul', 'Jane', 'Janice', 'Ash', 'Blue', 'Rock', 'Sean', 'Leia', 'Brock', 'Gold', 'Red', 'Pearl', 'Diamond', 'Saphyre', 'Jack'])"
   ]
  },
  {
   "cell_type": "code",
   "execution_count": 6,
   "metadata": {},
   "outputs": [
    {
     "data": {
      "text/plain": [
       "{'Crystal', 'Dawn', 'Luke', 'Ruby', 'Silver'}"
      ]
     },
     "execution_count": 6,
     "metadata": {},
     "output_type": "execute_result"
    }
   ],
   "source": [
    "#seu código aqui"
   ]
  },
  {
   "cell_type": "markdown",
   "metadata": {},
   "source": [
    "#### Construa uma função chamada \"percentuais\" que receba uma lista de valores e retorne o % de cada valor em relação ao total da lista\n",
    "\n",
    "Exemplo\n",
    "\n",
    "    recebe: [2000, 1500, 750, 300, 250]\n",
    "    \n",
    "    retorna: \n",
    "        41.67 %\n",
    "        31.25 %\n",
    "        15.62 %\n",
    "        6.25 %\n",
    "        5.21 %\n"
   ]
  },
  {
   "cell_type": "code",
   "execution_count": 3,
   "metadata": {},
   "outputs": [],
   "source": [
    "#seu código aqui"
   ]
  },
  {
   "cell_type": "code",
   "execution_count": 5,
   "metadata": {},
   "outputs": [
    {
     "name": "stdout",
     "output_type": "stream",
     "text": [
      "33.95  %\n",
      "31.06  %\n",
      "16.56  %\n",
      "10.35  %\n",
      "7.04  %\n",
      "0.83  %\n",
      "0.21  %\n"
     ]
    }
   ],
   "source": [
    "#execute essa célula para testar, deve retornar algo parecido com o resultado abaixo\n",
    "percentuais([8200,7500,4000,2500,1700,200,50])"
   ]
  },
  {
   "cell_type": "markdown",
   "metadata": {},
   "source": [
    "#### Crie uma função chamada tamanho(x,y) que receba dois números e diga se o primeiro é maior, igual ou menor que o segundo."
   ]
  },
  {
   "cell_type": "code",
   "execution_count": 17,
   "metadata": {},
   "outputs": [],
   "source": [
    "#seu código aqui"
   ]
  },
  {
   "cell_type": "code",
   "execution_count": 18,
   "metadata": {},
   "outputs": [
    {
     "name": "stdout",
     "output_type": "stream",
     "text": [
      "O segundo é maior\n",
      "São iguais\n",
      "O primeiro é maior\n"
     ]
    }
   ],
   "source": [
    "for i in range(3):\n",
    "    tamanho(i,1)"
   ]
  }
 ],
 "metadata": {
  "kernelspec": {
   "display_name": "Python 3",
   "language": "python",
   "name": "python3"
  },
  "language_info": {
   "codemirror_mode": {
    "name": "ipython",
    "version": 3
   },
   "file_extension": ".py",
   "mimetype": "text/x-python",
   "name": "python",
   "nbconvert_exporter": "python",
   "pygments_lexer": "ipython3",
   "version": "3.7.3"
  }
 },
 "nbformat": 4,
 "nbformat_minor": 1
}
