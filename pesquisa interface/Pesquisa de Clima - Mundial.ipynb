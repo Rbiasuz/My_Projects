{
 "cells": [
  {
   "cell_type": "code",
   "execution_count": 23,
   "metadata": {},
   "outputs": [],
   "source": [
    "import pandas as pd\n",
    "df = pd.read_csv(\"country.csv\", sep=';', index_col=0)\n",
    "import seaborn as sns"
   ]
  },
  {
   "cell_type": "code",
   "execution_count": 6,
   "metadata": {},
   "outputs": [
    {
     "data": {
      "text/html": [
       "<script type=\"text/javascript\">window.PlotlyConfig = {MathJaxConfig: 'local'};</script><script type=\"text/javascript\">if (window.MathJax) {MathJax.Hub.Config({SVG: {font: \"STIX-Web\"}});}</script><script>requirejs.config({paths: { 'plotly': ['https://cdn.plot.ly/plotly-latest.min']},});if(!window._Plotly) {require(['plotly'],function(plotly) {window._Plotly=plotly;});}</script>"
      ]
     },
     "metadata": {},
     "output_type": "execute_result"
    }
   ],
   "source": [
    "from plotly.offline import init_notebook_mode, iplot\n",
    "init_notebook_mode(connected=True)"
   ]
  },
  {
   "cell_type": "code",
   "execution_count": 9,
   "metadata": {},
   "outputs": [],
   "source": [
    "import plotly.graph_objs as go"
   ]
  },
  {
   "cell_type": "code",
   "execution_count": 30,
   "metadata": {},
   "outputs": [
    {
     "data": {
      "text/plain": [
       "\"\\n The 'colorscale' property is a colorscale and may be\\n    specified as:\\n      - A list of 2-element lists where the first element is the\\n        normalized color level value (starting at 0 and ending at 1), \\n        and the second item is a valid color string.\\n        (e.g. [[0, 'green'], [0.5, 'red'], [1.0, 'rgb(0, 0, 255)']])\\n      - One of the following named colorscales:\\n            ['Greys', 'YlGnBu', 'Greens', 'YlOrRd', 'Bluered', 'RdBu',\\n            'Reds', 'Blues', 'Picnic', 'Rainbow', 'Portland', 'Jet',\\n            'Hot', 'Blackbody', 'Earth', 'Electric', 'Viridis', 'Cividis']\\n\""
      ]
     },
     "execution_count": 30,
     "metadata": {},
     "output_type": "execute_result"
    }
   ],
   "source": [
    "'''\n",
    " The 'colorscale' property is a colorscale and may be\n",
    "    specified as:\n",
    "      - A list of 2-element lists where the first element is the\n",
    "        normalized color level value (starting at 0 and ending at 1), \n",
    "        and the second item is a valid color string.\n",
    "        (e.g. [[0, 'green'], [0.5, 'red'], [1.0, 'rgb(0, 0, 255)']])\n",
    "      - One of the following named colorscales:\n",
    "            ['Greys', 'YlGnBu', 'Greens', 'YlOrRd', 'Bluered', 'RdBu',\n",
    "            'Reds', 'Blues', 'Picnic', 'Rainbow', 'Portland', 'Jet',\n",
    "            'Hot', 'Blackbody', 'Earth', 'Electric', 'Viridis', 'Cividis']\n",
    "'''"
   ]
  },
  {
   "cell_type": "code",
   "execution_count": 51,
   "metadata": {},
   "outputs": [],
   "source": [
    "scl = [[0.0, 'rgb(84,39,143)'], [0.1, 'rgb(117,107,177)'], [0.2, 'rgb(158,154,200)'],\n",
    "       [0.3, 'rgb(188,189,220)'], [0.4, '218,218,235)'], [0.5, 'rgb(240,240,240)'],\n",
    "       [1.0, 'rgb(252,153,6)']]"
   ]
  },
  {
   "cell_type": "code",
   "execution_count": 59,
   "metadata": {},
   "outputs": [
    {
     "data": {
      "text/html": [
       "<div id=\"4f5668c2-f7ee-4b5a-9358-b0f7f3aa2747\" style=\"height: 525px; width: 100%;\" class=\"plotly-graph-div\"></div><script type=\"text/javascript\">require([\"plotly\"], function(Plotly) { window.PLOTLYENV=window.PLOTLYENV || {};window.PLOTLYENV.BASE_URL=\"https://plot.ly\";Plotly.newPlot(\"4f5668c2-f7ee-4b5a-9358-b0f7f3aa2747\", [{\"autocolorscale\": false, \"colorbar\": {\"title\": \"Resultado Pesquisa de Clima\"}, \"colorscale\": \"Bluered\", \"locationmode\": \"country names\", \"locations\": [\"Brazil\", \"South Africa\", \"India\", \"China\", \"Australia\", \"Mexico\", \"Colombia\"], \"text\": [\"Brazil\", \"South Africa\", \"India\", \"China\", \"Australia\", \"Mexico\", \"Colombia\"], \"z\": [73, 59, 60, 79, 64, 69, 73], \"type\": \"choropleth\", \"uid\": \"ebc22e77-11ba-4670-97c9-cfdeec15c361\"}], {}, {\"showLink\": true, \"linkText\": \"Export to plot.ly\", \"plotlyServerURL\": \"https://plot.ly\"})});</script><script type=\"text/javascript\">window.addEventListener(\"resize\", function(){window._Plotly.Plots.resize(document.getElementById(\"4f5668c2-f7ee-4b5a-9358-b0f7f3aa2747\"));});</script>"
      ]
     },
     "metadata": {},
     "output_type": "execute_result"
    }
   ],
   "source": [
    "iplot([go.Choropleth(\n",
    "    locationmode='country names',\n",
    "    locations=df.index.values,\n",
    "            colorbar = dict(\n",
    "            title = \"Resultado Pesquisa de Clima\"),\n",
    "    \n",
    "    text=df.index,\n",
    "    z=df.Media,\n",
    "    autocolorscale = False,\n",
    "    colorscale = 'Bluered'\n",
    ")])"
   ]
  }
 ],
 "metadata": {
  "kernelspec": {
   "display_name": "Python 3",
   "language": "python",
   "name": "python3"
  },
  "language_info": {
   "codemirror_mode": {
    "name": "ipython",
    "version": 3
   },
   "file_extension": ".py",
   "mimetype": "text/x-python",
   "name": "python",
   "nbconvert_exporter": "python",
   "pygments_lexer": "ipython3",
   "version": "3.7.1"
  }
 },
 "nbformat": 4,
 "nbformat_minor": 2
}
