{
 "cells": [
  {
   "cell_type": "markdown",
   "metadata": {},
   "source": [
    "# Análise de Engajamento/questão da Pesquisa de Clima 2018"
   ]
  },
  {
   "cell_type": "code",
   "execution_count": 17,
   "metadata": {},
   "outputs": [
    {
     "data": {
      "text/html": [
       "\n",
       "    <div class=\"bk-root\">\n",
       "        <a href=\"https://bokeh.pydata.org\" target=\"_blank\" class=\"bk-logo bk-logo-small bk-logo-notebook\"></a>\n",
       "        <span id=\"1003\">Loading BokehJS ...</span>\n",
       "    </div>"
      ]
     },
     "metadata": {},
     "output_type": "execute_result"
    },
    {
     "data": {},
     "metadata": {},
     "output_type": "display_data"
    }
   ],
   "source": [
    "import numpy as np # linear algebra\n",
    "import pandas as pd # data processing, CSV file I/O (e.g. pd.read_csv)\n",
    "from bokeh.io import output_file,show,output_notebook,push_notebook\n",
    "from bokeh.plotting import *\n",
    "from bokeh.models import ColumnDataSource,HoverTool,CategoricalColorMapper, Plot, LinearAxis, Grid\n",
    "from bokeh.layouts import row,column,gridplot,widgetbox\n",
    "from bokeh.models.widgets import Tabs,Panel\n",
    "from bokeh.models.glyphs import VBar\n",
    "output_notebook()"
   ]
  },
  {
   "cell_type": "code",
   "execution_count": 82,
   "metadata": {},
   "outputs": [],
   "source": [
    "df = pd.read_csv('allquest.csv', sep=';', encoding='ISO-8859-1')"
   ]
  },
  {
   "cell_type": "code",
   "execution_count": 83,
   "metadata": {},
   "outputs": [],
   "source": [
    "def isrh(area):\n",
    "    if 'RH' in area or 'Humanos' in area:\n",
    "        return \"RH\"\n",
    "    else:\n",
    "        return \"Other\"\n",
    "df['RH'] = df['Area'].apply(lambda x: isrh(x))"
   ]
  },
  {
   "cell_type": "code",
   "execution_count": 84,
   "metadata": {},
   "outputs": [],
   "source": [
    "def islow(area):\n",
    "    if area >= 81:\n",
    "        return \"P90\"\n",
    "    elif area >=77:\n",
    "        return 'P75'\n",
    "    elif area >= 51:\n",
    "        return \"to_improve\"\n",
    "    else:\n",
    "        return 'critical'"
   ]
  },
  {
   "cell_type": "code",
   "execution_count": null,
   "metadata": {},
   "outputs": [],
   "source": [
    "df['questao'] = df['Eu considero meu gestor imediato um líder de respeito e credibilidade, um exemplo a ser seguido.']\n",
    "df['situation'] = df['questao'].apply(lambda x: islow(x))\n",
    "#df['X'] = np.where(df['Y']>=50, 'yes', 'no')\n",
    "df['situation'] = np.where(df['RH']=='RH', 'RH', df['situation'])"
   ]
  },
  {
   "cell_type": "code",
   "execution_count": 98,
   "metadata": {},
   "outputs": [],
   "source": [
    "# color map\n",
    "factors = df.situation.unique().tolist()\n",
    "colors = [\"orange\",\"blue\",\"red\",\"green\",\"black\",\"brown\",\"grey\",\"purple\",\"yellow\",\"cyan\",\"pink\",\"peru\"]\n",
    "color_mapper = CategoricalColorMapper(factors=factors,palette=colors)\n",
    "sample = df\n",
    "source = ColumnDataSource(sample)"
   ]
  },
  {
   "cell_type": "code",
   "execution_count": 100,
   "metadata": {},
   "outputs": [
    {
     "data": {
      "text/html": [
       "\n",
       "\n",
       "\n",
       "\n",
       "\n",
       "\n",
       "  <div class=\"bk-root\" id=\"592a0078-5eb9-4087-9f22-b2605a0d473b\"></div>\n"
      ]
     },
     "metadata": {},
     "output_type": "execute_result"
    },
    {
     "data": {},
     "metadata": {
      "application/vnd.bokehjs_exec.v0+json": {
       "id": "3321"
      }
     },
     "output_type": "display_data"
    }
   ],
   "source": [
    "p = figure()\n",
    "p.circle(x='questao', y='Engajamento', \n",
    "         source=source, \n",
    "         size=12, color=dict(field=\"situation\", transform=color_mapper))\n",
    "p.title.text = 'Eu considero meu gestor imediato um exemplo'\n",
    "p.xaxis.axis_label = 'questao'\n",
    "p.yaxis.axis_label = 'Engagement'\n",
    "hover = HoverTool()\n",
    "hover.tooltips=[\n",
    "    ('Area', '@Area'),\n",
    "    ('questao', '@questao'),    \n",
    "    ('situation', '@situation'),\n",
    "    ('Engajamento', '@Engajamento')\n",
    "]\n",
    "p.add_tools(hover)\n",
    "show(p)"
   ]
  },
  {
   "cell_type": "code",
   "execution_count": 101,
   "metadata": {},
   "outputs": [],
   "source": [
    "df = pd.read_csv('allquest.csv', sep=';', encoding='ISO-8859-1')"
   ]
  },
  {
   "cell_type": "code",
   "execution_count": 102,
   "metadata": {},
   "outputs": [],
   "source": [
    "def isrh(area):\n",
    "    if 'RH' in area or 'Humanos' in area:\n",
    "        return \"RH\"\n",
    "    else:\n",
    "        return \"Other\"\n",
    "df['RH'] = df['Area'].apply(lambda x: isrh(x))"
   ]
  },
  {
   "cell_type": "code",
   "execution_count": 104,
   "metadata": {},
   "outputs": [],
   "source": [
    "df = df.loc[df['RH'] == 'RH']"
   ]
  },
  {
   "cell_type": "code",
   "execution_count": 105,
   "metadata": {},
   "outputs": [],
   "source": [
    "def islow(area):\n",
    "    if area >= 81:\n",
    "        return \"P90\"\n",
    "    elif area >=77:\n",
    "        return 'P75'\n",
    "    elif area >= 51:\n",
    "        return \"to_improve\"\n",
    "    else:\n",
    "        return 'critical'"
   ]
  },
  {
   "cell_type": "code",
   "execution_count": 106,
   "metadata": {},
   "outputs": [],
   "source": [
    "df['questao'] = df['Eu considero meu gestor imediato um líder de respeito e credibilidade, um exemplo a ser seguido.']\n",
    "df['situation'] = df['questao'].apply(lambda x: islow(x))"
   ]
  },
  {
   "cell_type": "code",
   "execution_count": 109,
   "metadata": {},
   "outputs": [],
   "source": [
    "# color map\n",
    "factors = df.situation.unique().tolist()\n",
    "colors = [\"green\",\"orange\",\"blue\",\"green\",\"black\",\"brown\",\"grey\",\"purple\",\"yellow\",\"cyan\",\"pink\",\"peru\"]\n",
    "color_mapper = CategoricalColorMapper(factors=factors,palette=colors)\n",
    "sample = df\n",
    "source = ColumnDataSource(sample)"
   ]
  },
  {
   "cell_type": "code",
   "execution_count": 110,
   "metadata": {},
   "outputs": [
    {
     "data": {
      "text/html": [
       "\n",
       "\n",
       "\n",
       "\n",
       "\n",
       "\n",
       "  <div class=\"bk-root\" id=\"9ab4864a-d69d-4f2e-b975-27c22b4c9776\"></div>\n"
      ]
     },
     "metadata": {},
     "output_type": "execute_result"
    },
    {
     "data": {},
     "metadata": {
      "application/vnd.bokehjs_exec.v0+json": {
       "id": "3796"
      }
     },
     "output_type": "display_data"
    }
   ],
   "source": [
    "p = figure()\n",
    "p.circle(x='questao', y='Engajamento', \n",
    "         source=source, \n",
    "         size=12, color=dict(field=\"situation\", transform=color_mapper))\n",
    "p.title.text = 'Eu considero meu gestor imediato um exemplo'\n",
    "p.xaxis.axis_label = 'questao'\n",
    "p.yaxis.axis_label = 'Engagement'\n",
    "hover = HoverTool()\n",
    "hover.tooltips=[\n",
    "    ('Area', '@Area'),\n",
    "    ('questao', '@questao'),    \n",
    "    ('situation', '@situation'),\n",
    "    ('Engajamento', '@Engajamento')\n",
    "]\n",
    "p.add_tools(hover)\n",
    "show(p)"
   ]
  },
  {
   "cell_type": "code",
   "execution_count": 8,
   "metadata": {},
   "outputs": [
    {
     "data": {
      "text/html": [
       "\n",
       "\n",
       "\n",
       "\n",
       "\n",
       "\n",
       "  <div class=\"bk-root\" id=\"ea6f7fc7-93fd-4a46-984d-41e4f4367229\"></div>\n"
      ]
     },
     "metadata": {},
     "output_type": "execute_result"
    },
    {
     "data": {},
     "metadata": {
      "application/vnd.bokehjs_exec.v0+json": {
       "id": "1111"
      }
     },
     "output_type": "display_data"
    }
   ],
   "source": [
    "df['questao'] = df['Meu gestor imediato me orienta e aconselha no desenvolvimento da minha carreira.']\n",
    "df['situation'] = df['questao'].apply(lambda x: islow(x))\n",
    "factors = df.situation.unique().tolist()\n",
    "colors = [\"orange\",\"red\",\"green\",\"blue\",\"black\",\"brown\",\"grey\",\"purple\",\"yellow\",\"cyan\",\"pink\",\"peru\"]\n",
    "color_mapper = CategoricalColorMapper(factors=factors,palette=colors)\n",
    "sample = df\n",
    "source = ColumnDataSource(sample)\n",
    "p = figure()\n",
    "p.circle(x='questao', y='Engajamento', \n",
    "         source=source, \n",
    "         size=10, color=dict(field=\"situation\", transform=color_mapper))\n",
    "p.title.text = 'Meu gestor imediato me orienta e aconselha no desenvolvimento da minha carreira'\n",
    "p.xaxis.axis_label = 'questao'\n",
    "p.yaxis.axis_label = 'Engagement'\n",
    "hover = HoverTool()\n",
    "hover.tooltips=[\n",
    "    ('Area', '@Area'),\n",
    "    ('questao', '@questao'),\n",
    "    ('situation', '@situation'),\n",
    "    ('Engajamento', '@Engajamento')\n",
    "]\n",
    "p.add_tools(hover)\n",
    "show(p)"
   ]
  },
  {
   "cell_type": "code",
   "execution_count": 9,
   "metadata": {},
   "outputs": [
    {
     "data": {
      "text/html": [
       "\n",
       "\n",
       "\n",
       "\n",
       "\n",
       "\n",
       "  <div class=\"bk-root\" id=\"3241e9fa-2ed3-4c86-98af-84ea98e58832\"></div>\n"
      ]
     },
     "metadata": {},
     "output_type": "execute_result"
    },
    {
     "data": {},
     "metadata": {
      "application/vnd.bokehjs_exec.v0+json": {
       "id": "1227"
      }
     },
     "output_type": "display_data"
    }
   ],
   "source": [
    "df['questao'] = df['As promoções e reconhecimentos na Empresa são dadas aos melhores profissionais (por mérito).']\n",
    "df['situation'] = df['questao'].apply(lambda x: islow(x))\n",
    "factors = df.situation.unique().tolist()\n",
    "colors = [\"red\",\"orange\",\"green\",\"blue\",\"black\",\"brown\",\"grey\",\"purple\",\"yellow\",\"cyan\",\"pink\",\"peru\"]\n",
    "color_mapper = CategoricalColorMapper(factors=factors,palette=colors)\n",
    "sample = df\n",
    "source = ColumnDataSource(sample)\n",
    "p = figure()\n",
    "p.circle(x='questao', y='Engajamento', \n",
    "         source=source, \n",
    "         size=10, color=dict(field=\"situation\", transform=color_mapper))\n",
    "p.title.text = 'As promoções e reconhecimentos na Empresa são dadas aos melhores profissionais (por mérito).'\n",
    "p.xaxis.axis_label = 'questao'\n",
    "p.yaxis.axis_label = 'Engagement'\n",
    "hover = HoverTool()\n",
    "hover.tooltips=[\n",
    "    ('Area', '@Area'),\n",
    "    ('questao', '@questao'),\n",
    "    ('situation', '@situation'),\n",
    "    ('Engajamento', '@Engajamento')\n",
    "]\n",
    "p.add_tools(hover)\n",
    "show(p)"
   ]
  },
  {
   "cell_type": "code",
   "execution_count": 11,
   "metadata": {},
   "outputs": [
    {
     "data": {
      "text/html": [
       "\n",
       "\n",
       "\n",
       "\n",
       "\n",
       "\n",
       "  <div class=\"bk-root\" id=\"5f8db984-c364-4317-823c-c0ffac6f1d5b\"></div>\n"
      ]
     },
     "metadata": {},
     "output_type": "execute_result"
    },
    {
     "data": {},
     "metadata": {
      "application/vnd.bokehjs_exec.v0+json": {
       "id": "1486"
      }
     },
     "output_type": "display_data"
    }
   ],
   "source": [
    "df['questao'] = df['Na Empresa há uma comunicação aberta e transparente com os empregados.']\n",
    "df['situation'] = df['questao'].apply(lambda x: islow(x))\n",
    "factors = df.situation.unique().tolist()\n",
    "colors = [\"orange\",\"red\",\"green\",\"blue\",\"black\",\"brown\",\"grey\",\"purple\",\"yellow\",\"cyan\",\"pink\",\"peru\"]\n",
    "color_mapper = CategoricalColorMapper(factors=factors,palette=colors)\n",
    "sample = df\n",
    "source = ColumnDataSource(sample)\n",
    "p = figure()\n",
    "p.circle(x='questao', y='Engajamento', \n",
    "         source=source, \n",
    "         size=10, color=dict(field=\"situation\", transform=color_mapper))\n",
    "p.title.text = 'Na Empresa há uma comunicação aberta e transparente com os empregados.'\n",
    "p.xaxis.axis_label = 'questao'\n",
    "p.yaxis.axis_label = 'Engagement'\n",
    "hover = HoverTool()\n",
    "hover.tooltips=[\n",
    "    ('Area', '@Area'),\n",
    "    ('questao', '@questao'),\n",
    "    ('situation', '@situation'),\n",
    "    ('Engajamento', '@Engajamento')\n",
    "]\n",
    "p.add_tools(hover)\n",
    "show(p)"
   ]
  },
  {
   "cell_type": "code",
   "execution_count": 13,
   "metadata": {},
   "outputs": [
    {
     "data": {
      "text/html": [
       "\n",
       "\n",
       "\n",
       "\n",
       "\n",
       "\n",
       "  <div class=\"bk-root\" id=\"abfcc674-4f25-45d1-8ec5-f1bc4e2cd082\"></div>\n"
      ]
     },
     "metadata": {},
     "output_type": "execute_result"
    },
    {
     "data": {},
     "metadata": {
      "application/vnd.bokehjs_exec.v0+json": {
       "id": "1781"
      }
     },
     "output_type": "display_data"
    }
   ],
   "source": [
    "df['questao'] = df['Eu recebo os equipamentos e recursos necessários para realizar o meu trabalho.']\n",
    "df['situation'] = df['questao'].apply(lambda x: islow(x))\n",
    "factors = df.situation.unique().tolist()\n",
    "colors = [\"orange\",\"blue\",\"green\",\"red\",\"black\",\"brown\",\"grey\",\"purple\",\"yellow\",\"cyan\",\"pink\",\"peru\"]\n",
    "color_mapper = CategoricalColorMapper(factors=factors,palette=colors)\n",
    "sample = df\n",
    "source = ColumnDataSource(sample)\n",
    "p = figure()\n",
    "p.circle(x='questao', y='Engajamento', \n",
    "         source=source, \n",
    "         size=10, color=dict(field=\"situation\", transform=color_mapper))\n",
    "p.title.text = 'Eu recebo os equipamentos e recursos necessários para realizar o meu trabalho.'\n",
    "p.xaxis.axis_label = 'questao'\n",
    "p.yaxis.axis_label = 'Engagement'\n",
    "hover = HoverTool()\n",
    "hover.tooltips=[\n",
    "    ('Area', '@Area'),\n",
    "    ('questao', '@questao'),\n",
    "    ('situation', '@situation'),\n",
    "    ('Engajamento', '@Engajamento')\n",
    "]\n",
    "p.add_tools(hover)\n",
    "show(p)"
   ]
  },
  {
   "cell_type": "code",
   "execution_count": 16,
   "metadata": {},
   "outputs": [
    {
     "data": {
      "text/html": [
       "\n",
       "\n",
       "\n",
       "\n",
       "\n",
       "\n",
       "  <div class=\"bk-root\" id=\"563aec3c-bd78-4023-a7fd-aca3ea1fe023\"></div>\n"
      ]
     },
     "metadata": {},
     "output_type": "execute_result"
    },
    {
     "data": {},
     "metadata": {
      "application/vnd.bokehjs_exec.v0+json": {
       "id": "2291"
      }
     },
     "output_type": "display_data"
    }
   ],
   "source": [
    "df['questao'] = df['Estou satisfeito em trabalhar na Empresa.']\n",
    "df['situation'] = df['questao'].apply(lambda x: islow(x))\n",
    "factors = df.situation.unique().tolist()\n",
    "colors = [\"green\",\"orange\",\"blue\",\"red\",\"black\",\"brown\",\"grey\",\"purple\",\"yellow\",\"cyan\",\"pink\",\"peru\"]\n",
    "color_mapper = CategoricalColorMapper(factors=factors,palette=colors)\n",
    "sample = df\n",
    "source = ColumnDataSource(sample)\n",
    "p = figure()\n",
    "p.circle(x='questao', y='Engajamento', \n",
    "         source=source, \n",
    "         size=10, color=dict(field=\"situation\", transform=color_mapper))\n",
    "p.title.text = 'Estou satisfeito em trabalhar na Empresa.'\n",
    "p.xaxis.axis_label = 'questao'\n",
    "p.yaxis.axis_label = 'Engagement'\n",
    "hover = HoverTool()\n",
    "hover.tooltips=[\n",
    "    ('Area', '@Area'),\n",
    "    ('questao', '@questao'),\n",
    "    ('situation', '@situation'),\n",
    "    ('Engajamento', '@Engajamento')\n",
    "]\n",
    "p.add_tools(hover)\n",
    "show(p)"
   ]
  },
  {
   "cell_type": "code",
   "execution_count": 26,
   "metadata": {
    "scrolled": false
   },
   "outputs": [
    {
     "data": {
      "text/html": [
       "\n",
       "\n",
       "\n",
       "\n",
       "\n",
       "\n",
       "  <div class=\"bk-root\" id=\"8266d1f7-d30d-48a8-8d44-5d5f5ab7c111\"></div>\n"
      ]
     },
     "metadata": {},
     "output_type": "execute_result"
    },
    {
     "data": {},
     "metadata": {
      "application/vnd.bokehjs_exec.v0+json": {
       "id": "4855"
      }
     },
     "output_type": "display_data"
    }
   ],
   "source": [
    "df['questao'] = df['Meu gestor imediato trata todos com justiça - sem favoritismos.']\n",
    "df['situation'] = df['questao'].apply(lambda x: islow(x))\n",
    "factors = df.situation.unique().tolist()\n",
    "colors = [\"orange\",\"red\",\"green\",\"blue\",\"black\",\"brown\",\"grey\",\"purple\",\"yellow\",\"cyan\",\"pink\",\"peru\"]\n",
    "color_mapper = CategoricalColorMapper(factors=factors,palette=colors)\n",
    "sample = df\n",
    "source = ColumnDataSource(sample)\n",
    "p = figure()\n",
    "p.circle(x='questao', y='Engajamento', \n",
    "         source=source, \n",
    "         size=10, color=dict(field=\"situation\", transform=color_mapper))\n",
    "p.title.text = 'Meu gestor imediato trata todos com justiça - sem favoritismos.'\n",
    "p.xaxis.axis_label = 'questao'\n",
    "p.yaxis.axis_label = 'Engagement'\n",
    "hover = HoverTool()\n",
    "hover.tooltips=[\n",
    "    ('Area', '@Area'),\n",
    "    ('questao', '@questao'),\n",
    "    ('situation', '@situation'),\n",
    "    ('Engajamento', '@Engajamento')\n",
    "]\n",
    "p.add_tools(hover)\n",
    "show(p)"
   ]
  },
  {
   "cell_type": "code",
   "execution_count": 21,
   "metadata": {},
   "outputs": [
    {
     "data": {
      "text/html": [
       "\n",
       "\n",
       "\n",
       "\n",
       "\n",
       "\n",
       "  <div class=\"bk-root\" id=\"6e18229e-48df-4a9a-bbab-c6d82a63c593\"></div>\n"
      ]
     },
     "metadata": {},
     "output_type": "execute_result"
    },
    {
     "data": {},
     "metadata": {
      "application/vnd.bokehjs_exec.v0+json": {
       "id": "3321"
      }
     },
     "output_type": "display_data"
    }
   ],
   "source": [
    "df['questao'] = df['Meu gestor imediato age de acordo com o que diz.']\n",
    "df['situation'] = df['questao'].apply(lambda x: islow(x))\n",
    "factors = df.situation.unique().tolist()\n",
    "colors = [\"orange\",\"green\",\"red\",\"blue\",\"black\",\"brown\",\"grey\",\"purple\",\"yellow\",\"cyan\",\"pink\",\"peru\"]\n",
    "color_mapper = CategoricalColorMapper(factors=factors,palette=colors)\n",
    "sample = df\n",
    "source = ColumnDataSource(sample)\n",
    "p = figure()\n",
    "p.circle(x='questao', y='Engajamento', \n",
    "         source=source, \n",
    "         size=10, color=dict(field=\"situation\", transform=color_mapper))\n",
    "p.title.text = 'Meu gestor imediato age de acordo com o que diz.'\n",
    "p.xaxis.axis_label = 'questao'\n",
    "p.yaxis.axis_label = 'Engagement'\n",
    "hover = HoverTool()\n",
    "hover.tooltips=[\n",
    "    ('Area', '@Area'),\n",
    "    ('questao', '@questao'),\n",
    "    ('situation', '@situation'),\n",
    "    ('Engajamento', '@Engajamento')\n",
    "]\n",
    "p.add_tools(hover)\n",
    "show(p)"
   ]
  },
  {
   "cell_type": "code",
   "execution_count": 23,
   "metadata": {},
   "outputs": [
    {
     "data": {
      "text/html": [
       "\n",
       "\n",
       "\n",
       "\n",
       "\n",
       "\n",
       "  <div class=\"bk-root\" id=\"2d04b4fb-3a86-42f3-9903-e40ff188a23b\"></div>\n"
      ]
     },
     "metadata": {},
     "output_type": "execute_result"
    },
    {
     "data": {},
     "metadata": {
      "application/vnd.bokehjs_exec.v0+json": {
       "id": "3796"
      }
     },
     "output_type": "display_data"
    }
   ],
   "source": [
    "df['questao'] = df['Meu gestor imediato me incentiva a participar de treinamentos.']\n",
    "df['situation'] = df['questao'].apply(lambda x: islow(x))\n",
    "factors = df.situation.unique().tolist()\n",
    "colors = [\"orange\",\"red\",\"blue\",\"green\",\"black\",\"brown\",\"grey\",\"purple\",\"yellow\",\"cyan\",\"pink\",\"peru\"]\n",
    "color_mapper = CategoricalColorMapper(factors=factors,palette=colors)\n",
    "sample = df\n",
    "source = ColumnDataSource(sample)\n",
    "p = figure()\n",
    "p.circle(x='questao', y='Engajamento', \n",
    "         source=source, \n",
    "         size=10, color=dict(field=\"situation\", transform=color_mapper))\n",
    "p.title.text = 'Meu gestor imediato me incentiva a participar de treinamentos.'\n",
    "p.xaxis.axis_label = 'questao'\n",
    "p.yaxis.axis_label = 'Engagement'\n",
    "hover = HoverTool()\n",
    "hover.tooltips=[\n",
    "    ('Area', '@Area'),\n",
    "    ('questao', '@questao'),\n",
    "    ('situation', '@situation'),\n",
    "    ('Engajamento', '@Engajamento')\n",
    "]\n",
    "p.add_tools(hover)\n",
    "show(p)"
   ]
  },
  {
   "cell_type": "code",
   "execution_count": 22,
   "metadata": {},
   "outputs": [
    {
     "data": {
      "text/html": [
       "\n",
       "\n",
       "\n",
       "\n",
       "\n",
       "\n",
       "  <div class=\"bk-root\" id=\"4cda7cc8-4796-4ae9-904b-e18006d53514\"></div>\n"
      ]
     },
     "metadata": {},
     "output_type": "execute_result"
    },
    {
     "data": {},
     "metadata": {
      "application/vnd.bokehjs_exec.v0+json": {
       "id": "3797"
      }
     },
     "output_type": "display_data"
    }
   ],
   "source": [
    "df['questao'] = df['Eu me sinto à vontade para falar ao meu gestor imediato o que ele faz bem e o que precisa melhorar.']\n",
    "df['situation'] = df['questao'].apply(lambda x: islow(x))\n",
    "factors = df.situation.unique().tolist()\n",
    "colors = [\"orange\",\"red\",\"green\",\"blue\",\"black\",\"brown\",\"grey\",\"purple\",\"yellow\",\"cyan\",\"pink\",\"peru\"]\n",
    "color_mapper = CategoricalColorMapper(factors=factors,palette=colors)\n",
    "sample = df\n",
    "source = ColumnDataSource(sample)\n",
    "p = figure()\n",
    "p.circle(x='questao', y='Engajamento', \n",
    "         source=source, \n",
    "         size=10, color=dict(field=\"situation\", transform=color_mapper))\n",
    "p.title.text = 'Eu me sinto à vontade para falar ao meu gestor imediato o que ele faz bem e o que precisa melhorar.'\n",
    "p.xaxis.axis_label = 'questao'\n",
    "p.yaxis.axis_label = 'Engagement'\n",
    "hover = HoverTool()\n",
    "hover.tooltips=[\n",
    "    ('Area', '@Area'),\n",
    "    ('questao', '@questao'),\n",
    "    ('situation', '@situation'),\n",
    "    ('Engajamento', '@Engajamento')\n",
    "]\n",
    "p.add_tools(hover)\n",
    "show(p)"
   ]
  },
  {
   "cell_type": "code",
   "execution_count": 27,
   "metadata": {},
   "outputs": [
    {
     "data": {
      "text/html": [
       "\n",
       "\n",
       "\n",
       "\n",
       "\n",
       "\n",
       "  <div class=\"bk-root\" id=\"b117029a-e070-4664-a2b7-88e93f502ea8\"></div>\n"
      ]
     },
     "metadata": {},
     "output_type": "execute_result"
    },
    {
     "data": {},
     "metadata": {
      "application/vnd.bokehjs_exec.v0+json": {
       "id": "4854"
      }
     },
     "output_type": "display_data"
    }
   ],
   "source": [
    "df['questao'] = df['Tenho oportunidade de participar de atividades de treinamento na Empresa.']\n",
    "df['situation'] = df['questao'].apply(lambda x: islow(x))\n",
    "factors = df.situation.unique().tolist()\n",
    "colors = [\"orange\",\"green\",\"red\",\"blue\",\"black\",\"brown\",\"grey\",\"purple\",\"yellow\",\"cyan\",\"pink\",\"peru\"]\n",
    "color_mapper = CategoricalColorMapper(factors=factors,palette=colors)\n",
    "sample = df\n",
    "source = ColumnDataSource(sample)\n",
    "p = figure()\n",
    "p.circle(x='questao', y='Engajamento', \n",
    "         source=source, \n",
    "         size=10, color=dict(field=\"situation\", transform=color_mapper))\n",
    "p.title.text = 'Tenho oportunidade de participar de atividades de treinamento na Empresa.'\n",
    "p.xaxis.axis_label = 'questao'\n",
    "p.yaxis.axis_label = 'Engagement'\n",
    "hover = HoverTool()\n",
    "hover.tooltips=[\n",
    "    ('Area', '@Area'),\n",
    "    ('questao', '@questao'),\n",
    "    ('situation', '@situation'),\n",
    "    ('Engajamento', '@Engajamento')\n",
    "]\n",
    "p.add_tools(hover)\n",
    "show(p)"
   ]
  },
  {
   "cell_type": "code",
   "execution_count": 8,
   "metadata": {},
   "outputs": [
    {
     "data": {
      "text/html": [
       "\n",
       "\n",
       "\n",
       "\n",
       "\n",
       "\n",
       "  <div class=\"bk-root\" id=\"f21b52df-bd26-4ce4-a556-3840ff3ede3f\"></div>\n"
      ]
     },
     "metadata": {},
     "output_type": "execute_result"
    },
    {
     "data": {},
     "metadata": {
      "application/vnd.bokehjs_exec.v0+json": {
       "id": "1228"
      }
     },
     "output_type": "display_data"
    }
   ],
   "source": [
    "df['questao'] = df['As pessoas que trabalham nesta Empresa demonstram disciplina para cumprir normas, procedimentos e processos.']\n",
    "df['situation'] = df['questao'].apply(lambda x: islow(x))\n",
    "factors = df.situation.unique().tolist()\n",
    "colors = [\"orange\",\"red\",\"green\",\"blue\",\"black\",\"brown\",\"grey\",\"purple\",\"yellow\",\"cyan\",\"pink\",\"peru\"]\n",
    "color_mapper = CategoricalColorMapper(factors=factors,palette=colors)\n",
    "sample = df\n",
    "source = ColumnDataSource(sample)\n",
    "p = figure()\n",
    "p.circle(x='questao', y='Engajamento', \n",
    "         source=source, \n",
    "         size=10, color=dict(field=\"situation\", transform=color_mapper))\n",
    "p.title.text = 'As pessoas da empresa demonstram disciplina para cumprir normas, procedimentos e processos.'\n",
    "p.xaxis.axis_label = 'questao'\n",
    "p.yaxis.axis_label = 'Engagement'\n",
    "hover = HoverTool()\n",
    "hover.tooltips=[\n",
    "    ('Area', '@Area'),\n",
    "    ('questao', '@questao'),\n",
    "    ('situation', '@situation'),\n",
    "    ('Engajamento', '@Engajamento')\n",
    "]\n",
    "p.add_tools(hover)\n",
    "show(p)"
   ]
  },
  {
   "cell_type": "code",
   "execution_count": 11,
   "metadata": {},
   "outputs": [
    {
     "data": {
      "text/html": [
       "\n",
       "\n",
       "\n",
       "\n",
       "\n",
       "\n",
       "  <div class=\"bk-root\" id=\"579b5325-e2b3-4890-995e-f95749140ff1\"></div>\n"
      ]
     },
     "metadata": {},
     "output_type": "execute_result"
    },
    {
     "data": {},
     "metadata": {
      "application/vnd.bokehjs_exec.v0+json": {
       "id": "1630"
      }
     },
     "output_type": "display_data"
    }
   ],
   "source": [
    "df['questao'] = df['Existe colaboração entre as áreas da empresa.']\n",
    "df['situation'] = df['questao'].apply(lambda x: islow(x))\n",
    "factors = df.situation.unique().tolist()\n",
    "colors = [\"orange\",\"red\",\"green\",\"blue\",\"black\",\"brown\",\"grey\",\"purple\",\"yellow\",\"cyan\",\"pink\",\"peru\"]\n",
    "color_mapper = CategoricalColorMapper(factors=factors,palette=colors)\n",
    "sample = df\n",
    "source = ColumnDataSource(sample)\n",
    "p = figure()\n",
    "p.circle(x='questao', y='Engajamento', \n",
    "         source=source, \n",
    "         size=10, color=dict(field=\"situation\", transform=color_mapper))\n",
    "p.title.text = 'Existe colaboração entre as áreas da empresa..'\n",
    "p.xaxis.axis_label = 'questao'\n",
    "p.yaxis.axis_label = 'Engagement'\n",
    "hover = HoverTool()\n",
    "hover.tooltips=[\n",
    "    ('Area', '@Area'),\n",
    "    ('questao', '@questao'),\n",
    "    ('situation', '@situation'),\n",
    "    ('Engajamento', '@Engajamento')\n",
    "]\n",
    "p.add_tools(hover)\n",
    "show(p)"
   ]
  },
  {
   "cell_type": "code",
   "execution_count": 13,
   "metadata": {},
   "outputs": [
    {
     "data": {
      "text/html": [
       "\n",
       "\n",
       "\n",
       "\n",
       "\n",
       "\n",
       "  <div class=\"bk-root\" id=\"b584af2d-3d27-4d55-bbb1-cf3e4c651e20\"></div>\n"
      ]
     },
     "metadata": {},
     "output_type": "execute_result"
    },
    {
     "data": {},
     "metadata": {
      "application/vnd.bokehjs_exec.v0+json": {
       "id": "1943"
      }
     },
     "output_type": "display_data"
    }
   ],
   "source": [
    "df['questao'] = df['Considero justos os critérios de promoção e carreira adotados na Empresa.']\n",
    "df['situation'] = df['questao'].apply(lambda x: islow(x))\n",
    "factors = df.situation.unique().tolist()\n",
    "colors = [\"red\",\"orange\",\"green\",\"blue\",\"black\",\"brown\",\"grey\",\"purple\",\"yellow\",\"cyan\",\"pink\",\"peru\"]\n",
    "color_mapper = CategoricalColorMapper(factors=factors,palette=colors)\n",
    "sample = df\n",
    "source = ColumnDataSource(sample)\n",
    "p = figure()\n",
    "p.circle(x='questao', y='Engajamento', \n",
    "         source=source, \n",
    "         size=10, color=dict(field=\"situation\", transform=color_mapper))\n",
    "p.title.text = 'Considero justos os critérios de promoção e carreira adotados na Empresa.'\n",
    "p.xaxis.axis_label = 'questao'\n",
    "p.yaxis.axis_label = 'Engagement'\n",
    "hover = HoverTool()\n",
    "hover.tooltips=[\n",
    "    ('Area', '@Area'),\n",
    "    ('questao', '@questao'),\n",
    "    ('situation', '@situation'),\n",
    "    ('Engajamento', '@Engajamento')\n",
    "]\n",
    "p.add_tools(hover)\n",
    "show(p)"
   ]
  },
  {
   "cell_type": "code",
   "execution_count": 16,
   "metadata": {},
   "outputs": [
    {
     "data": {
      "text/html": [
       "\n",
       "\n",
       "\n",
       "\n",
       "\n",
       "\n",
       "  <div class=\"bk-root\" id=\"14369c00-90e4-449a-aa3f-3db1be32d14e\"></div>\n"
      ]
     },
     "metadata": {},
     "output_type": "execute_result"
    },
    {
     "data": {},
     "metadata": {
      "application/vnd.bokehjs_exec.v0+json": {
       "id": "2480"
      }
     },
     "output_type": "display_data"
    }
   ],
   "source": [
    "df['questao'] = df['Meu gestor imediato estimula e cria condições para o trabalho em equipe.']\n",
    "df['situation'] = df['questao'].apply(lambda x: islow(x))\n",
    "factors = df.situation.unique().tolist()\n",
    "colors = [\"orange\",\"red\",\"blue\",\"green\",\"black\",\"brown\",\"grey\",\"purple\",\"yellow\",\"cyan\",\"pink\",\"peru\"]\n",
    "color_mapper = CategoricalColorMapper(factors=factors,palette=colors)\n",
    "sample = df\n",
    "source = ColumnDataSource(sample)\n",
    "p = figure()\n",
    "p.circle(x='questao', y='Engajamento', \n",
    "         source=source, \n",
    "         size=10, color=dict(field=\"situation\", transform=color_mapper))\n",
    "p.title.text = 'Meu gestor imediato estimula e cria condições para o trabalho em equipe.'\n",
    "p.xaxis.axis_label = 'questao'\n",
    "p.yaxis.axis_label = 'Engagement'\n",
    "hover = HoverTool()\n",
    "hover.tooltips=[\n",
    "    ('Area', '@Area'),\n",
    "    ('questao', '@questao'),\n",
    "    ('situation', '@situation'),\n",
    "    ('Engajamento', '@Engajamento')\n",
    "]\n",
    "p.add_tools(hover)\n",
    "show(p)"
   ]
  },
  {
   "cell_type": "code",
   "execution_count": 25,
   "metadata": {},
   "outputs": [
    {
     "data": {
      "text/html": [
       "\n",
       "\n",
       "\n",
       "\n",
       "\n",
       "\n",
       "  <div class=\"bk-root\" id=\"4990b74d-3529-4361-81dc-9a297ec9fabc\"></div>\n"
      ]
     },
     "metadata": {},
     "output_type": "execute_result"
    },
    {
     "data": {},
     "metadata": {
      "application/vnd.bokehjs_exec.v0+json": {
       "id": "4577"
      }
     },
     "output_type": "display_data"
    }
   ],
   "source": [
    "df['questao'] = df['Em minha área há constantes melhorias dos métodos e processos de trabalho.']\n",
    "df['situation'] = df['questao'].apply(lambda x: islow(x))\n",
    "factors = df.situation.unique().tolist()\n",
    "colors = [\"orange\",\"green\",\"red\",\"blue\",\"black\",\"brown\",\"grey\",\"purple\",\"yellow\",\"cyan\",\"pink\",\"peru\"]\n",
    "color_mapper = CategoricalColorMapper(factors=factors,palette=colors)\n",
    "sample = df\n",
    "source = ColumnDataSource(sample)\n",
    "p = figure()\n",
    "p.circle(x='questao', y='Engajamento', \n",
    "         source=source, \n",
    "         size=10, color=dict(field=\"situation\", transform=color_mapper))\n",
    "p.title.text = 'Em minha área há constantes melhorias dos métodos e processos de trabalho.'\n",
    "p.xaxis.axis_label = 'questao'\n",
    "p.yaxis.axis_label = 'Engagement'\n",
    "hover = HoverTool()\n",
    "hover.tooltips=[\n",
    "    ('Area', '@Area'),\n",
    "    ('questao', '@questao'),\n",
    "    ('situation', '@situation'),\n",
    "    ('Engajamento', '@Engajamento')\n",
    "]\n",
    "p.add_tools(hover)\n",
    "show(p)"
   ]
  },
  {
   "cell_type": "code",
   "execution_count": 29,
   "metadata": {},
   "outputs": [
    {
     "data": {
      "text/html": [
       "\n",
       "\n",
       "\n",
       "\n",
       "\n",
       "\n",
       "  <div class=\"bk-root\" id=\"fd23acf7-0ed9-4df0-baec-9f3abb479196\"></div>\n"
      ]
     },
     "metadata": {},
     "output_type": "execute_result"
    },
    {
     "data": {},
     "metadata": {
      "application/vnd.bokehjs_exec.v0+json": {
       "id": "5743"
      }
     },
     "output_type": "display_data"
    }
   ],
   "source": [
    "df['questao'] = df['Meu gestor imediato sabe liderar pessoas e atribuir responsabilidade e tarefas adequadamente.']\n",
    "df['situation'] = df['questao'].apply(lambda x: islow(x))\n",
    "factors = df.situation.unique().tolist()\n",
    "colors = [\"orange\",\"green\",\"red\",\"blue\",\"black\",\"brown\",\"grey\",\"purple\",\"yellow\",\"cyan\",\"pink\",\"peru\"]\n",
    "color_mapper = CategoricalColorMapper(factors=factors,palette=colors)\n",
    "sample = df\n",
    "source = ColumnDataSource(sample)\n",
    "p = figure()\n",
    "p.circle(x='questao', y='Engajamento', \n",
    "         source=source, \n",
    "         size=10, color=dict(field=\"situation\", transform=color_mapper))\n",
    "p.title.text = 'Meu gestor imediato sabe liderar pessoas e atribuir responsabilidade e tarefas adequadamente.'\n",
    "p.xaxis.axis_label = 'questao'\n",
    "p.yaxis.axis_label = 'Engagement'\n",
    "hover = HoverTool()\n",
    "hover.tooltips=[\n",
    "    ('Area', '@Area'),\n",
    "    ('questao', '@questao'),\n",
    "    ('situation', '@situation'),\n",
    "    ('Engajamento', '@Engajamento')\n",
    "]\n",
    "p.add_tools(hover)\n",
    "show(p)"
   ]
  },
  {
   "cell_type": "markdown",
   "metadata": {},
   "source": [
    "***A próxima questão corresponde a média das seguintes perguntas: ***\n",
    "\n",
    "               Meu gestor imediato me orienta e aconselha no desenvolvimento da minha carreira\n",
    "               Meu gestor imediato trata todos com justiça - sem favoritismos.\n",
    "               Meu gestor imediato age de acordo com o que diz.\n",
    "               Meu gestor imediato me incentiva a participar de treinamentos.\n",
    "               Eu me sinto à vontade para falar ao meu gestor imediato o que ele faz bem e o que precisa melhorar.\n",
    "               Meu gestor imediato estimula e cria condições para o trabalho em equipe.\n",
    "               Eu considero meu gestor imediato um líder de respeito e credibilidade, um exemplo a ser seguido.\n",
    "               Meu gestor imediato sabe liderar pessoas e atribuir responsabilidade e tarefas adequadamente.\n",
    "               \n",
    "              "
   ]
  },
  {
   "cell_type": "code",
   "execution_count": 30,
   "metadata": {},
   "outputs": [
    {
     "data": {
      "text/html": [
       "\n",
       "\n",
       "\n",
       "\n",
       "\n",
       "\n",
       "  <div class=\"bk-root\" id=\"755621f6-c3d3-4aff-a219-3e906fdcb9e2\"></div>\n"
      ]
     },
     "metadata": {},
     "output_type": "execute_result"
    },
    {
     "data": {},
     "metadata": {
      "application/vnd.bokehjs_exec.v0+json": {
       "id": "6057"
      }
     },
     "output_type": "display_data"
    }
   ],
   "source": [
    "df['avg'] = df[['Meu gestor imediato me orienta e aconselha no desenvolvimento da minha carreira.',\n",
    "                'Meu gestor imediato trata todos com justiça - sem favoritismos.',\n",
    "               'Meu gestor imediato age de acordo com o que diz.',\n",
    "                'Meu gestor imediato me incentiva a participar de treinamentos.',\n",
    "                'Eu me sinto à vontade para falar ao meu gestor imediato o que ele faz bem e o que precisa melhorar.',\n",
    "                'Meu gestor imediato estimula e cria condições para o trabalho em equipe.',\n",
    "                'Eu considero meu gestor imediato um líder de respeito e credibilidade, um exemplo a ser seguido.',\n",
    "                'Meu gestor imediato sabe liderar pessoas e atribuir responsabilidade e tarefas adequadamente.',\n",
    "                ]].mean(axis=1)\n",
    "df['questao'] = df['avg']\n",
    "df['situation'] = df['questao'].apply(lambda x: islow(x))\n",
    "factors = df.situation.unique().tolist()\n",
    "colors = [\"orange\",\"blue\",\"red\",\"green\",\"black\",\"brown\",\"grey\",\"purple\",\"yellow\",\"cyan\",\"pink\",\"peru\"]\n",
    "color_mapper = CategoricalColorMapper(factors=factors,palette=colors)\n",
    "sample = df\n",
    "source = ColumnDataSource(sample)\n",
    "p = figure()\n",
    "p.circle(x='questao', y='Engajamento', \n",
    "         source=source, \n",
    "         size=10, color=dict(field=\"situation\", transform=color_mapper))\n",
    "p.title.text = 'Liderança e gestão'\n",
    "p.xaxis.axis_label = 'questao'\n",
    "p.yaxis.axis_label = 'Engagement'\n",
    "hover = HoverTool()\n",
    "hover.tooltips=[\n",
    "    ('Area', '@Area'),\n",
    "    ('questao', '@questao'),\n",
    "    ('situation', '@situation'),\n",
    "    ('Engajamento', '@Engajamento')\n",
    "]\n",
    "p.add_tools(hover)\n",
    "show(p)"
   ]
  }
 ],
 "metadata": {
  "kernelspec": {
   "display_name": "Python 3",
   "language": "python",
   "name": "python3"
  },
  "language_info": {
   "codemirror_mode": {
    "name": "ipython",
    "version": 3
   },
   "file_extension": ".py",
   "mimetype": "text/x-python",
   "name": "python",
   "nbconvert_exporter": "python",
   "pygments_lexer": "ipython3",
   "version": "3.7.1"
  }
 },
 "nbformat": 4,
 "nbformat_minor": 2
}
