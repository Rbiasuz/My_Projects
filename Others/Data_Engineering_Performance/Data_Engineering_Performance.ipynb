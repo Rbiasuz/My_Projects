{
 "cells": [
  {
   "cell_type": "markdown",
   "metadata": {},
   "source": [
    "# Data_Engineering_Performance:\n",
    "\n",
    "### In this notebook:\n",
    "* We read through over 400 different xls files and compile the relevant information in only one dataset\n",
    "* We clean some messy data\n",
    "* We merge with other dataframe\n",
    "* We save using encoding to portuguese language"
   ]
  },
  {
   "cell_type": "code",
   "execution_count": 1,
   "metadata": {},
   "outputs": [
    {
     "data": {
      "text/html": [
       "<div>\n",
       "<style scoped>\n",
       "    .dataframe tbody tr th:only-of-type {\n",
       "        vertical-align: middle;\n",
       "    }\n",
       "\n",
       "    .dataframe tbody tr th {\n",
       "        vertical-align: top;\n",
       "    }\n",
       "\n",
       "    .dataframe thead th {\n",
       "        text-align: right;\n",
       "    }\n",
       "</style>\n",
       "<table border=\"1\" class=\"dataframe\">\n",
       "  <thead>\n",
       "    <tr style=\"text-align: right;\">\n",
       "      <th></th>\n",
       "      <th>Nome</th>\n",
       "      <th>Gestor</th>\n",
       "      <th>Meta</th>\n",
       "      <th>Min</th>\n",
       "      <th>Target</th>\n",
       "      <th>Max</th>\n",
       "      <th>Peso</th>\n",
       "    </tr>\n",
       "  </thead>\n",
       "  <tbody>\n",
       "  </tbody>\n",
       "</table>\n",
       "</div>"
      ],
      "text/plain": [
       "Empty DataFrame\n",
       "Columns: [Nome, Gestor, Meta, Min, Target, Max, Peso]\n",
       "Index: []"
      ]
     },
     "execution_count": 1,
     "metadata": {},
     "output_type": "execute_result"
    }
   ],
   "source": [
    "#Importing and loading\n",
    "import pandas as pd\n",
    "import os\n",
    "import numpy as np\n",
    "compilado = pd.DataFrame(columns=['Nome', 'Gestor', 'Meta', 'Min', 'Target', 'Max', 'Peso'])\n",
    "compilado"
   ]
  },
  {
   "cell_type": "code",
   "execution_count": 2,
   "metadata": {},
   "outputs": [],
   "source": [
    "#Main_loop\n",
    "dirname = 'data'\n",
    "for file_name in os.listdir(dirname):\n",
    "    file_path = os.path.join(dirname, file_name)\n",
    "    try:\n",
    "        df = pd.read_excel(file_path, encoding='ISO-8859-1')\n",
    "        nome = df.iloc[1,4]\n",
    "        gestor = df.iloc[2,4]\n",
    "        for i in range(17,35):\n",
    "            try:\n",
    "                if df.iloc[i,1] is not np.nan:\n",
    "                    meta = df.iloc[i,1]\n",
    "                    Min = df.iloc[i,8]\n",
    "                    target = df.iloc[i,9]\n",
    "                    Max = df.iloc[i,10]\n",
    "                    peso = df.iloc[i,11]\n",
    "                    dicionario = {'Nome':nome, 'Gestor':gestor, 'Meta':meta, 'Min':Min, 'Target':target, 'Max':Max, 'Peso':peso}\n",
    "                    compilado = compilado.append(dicionario , ignore_index=True)\n",
    "            except:       \n",
    "                do_nothing=''\n",
    "    except:\n",
    "        print('erro')\n",
    "        print(file_name)"
   ]
  },
  {
   "cell_type": "code",
   "execution_count": 3,
   "metadata": {},
   "outputs": [],
   "source": [
    "#Cleaning\n",
    "compilado['Min'] = pd.to_numeric(compilado['Min'], errors='coerce')\n",
    "compilado['Target'] = pd.to_numeric(compilado['Target'], errors='coerce')\n",
    "compilado['Max'] = pd.to_numeric(compilado['Max'], errors='coerce')\n",
    "compilado['Peso'] = pd.to_numeric(compilado['Peso'], errors='coerce')"
   ]
  },
  {
   "cell_type": "code",
   "execution_count": 5,
   "metadata": {},
   "outputs": [],
   "source": [
    "#Adding emails, sectors and badges\n",
    "lista = pd.read_excel('lista.xlsx', encoding='ISO-8859-1')\n",
    "lista = lista.rename({'NOME': 'Nome'}, axis='columns')\n",
    "lista_nodups = lista.drop_duplicates()\n",
    "compilado = pd.merge(compilado , lista , on=['Nome'])"
   ]
  },
  {
   "cell_type": "code",
   "execution_count": 6,
   "metadata": {},
   "outputs": [],
   "source": [
    "#Saving to csv\n",
    "compilado.to_csv('compilado.csv', decimal=',', encoding='ISO-8859-1')"
   ]
  }
 ],
 "metadata": {
  "kernelspec": {
   "display_name": "Python 3",
   "language": "python",
   "name": "python3"
  },
  "language_info": {
   "codemirror_mode": {
    "name": "ipython",
    "version": 3
   },
   "file_extension": ".py",
   "mimetype": "text/x-python",
   "name": "python",
   "nbconvert_exporter": "python",
   "pygments_lexer": "ipython3",
   "version": "3.7.3"
  }
 },
 "nbformat": 4,
 "nbformat_minor": 2
}
